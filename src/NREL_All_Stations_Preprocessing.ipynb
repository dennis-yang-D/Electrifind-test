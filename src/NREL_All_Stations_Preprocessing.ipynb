{
 "cells": [
  {
   "cell_type": "code",
   "execution_count": 1,
   "metadata": {},
   "outputs": [],
   "source": [
    "import numpy as np\n",
    "import pandas as pd\n",
    "import matplotlib.pyplot as plt\n",
    "import seaborn as sns\n",
    "import re"
   ]
  },
  {
   "cell_type": "markdown",
   "metadata": {},
   "source": [
    "This notebook selects the dimension and preprocess all the data into trainable values. "
   ]
  },
  {
   "cell_type": "markdown",
   "metadata": {},
   "source": [
    "## 1. Loading dataset"
   ]
  },
  {
   "cell_type": "code",
   "execution_count": 2,
   "metadata": {},
   "outputs": [
    {
     "name": "stdout",
     "output_type": "stream",
     "text": [
      "Dataset shape:  (67622, 74)\n"
     ]
    },
    {
     "name": "stderr",
     "output_type": "stream",
     "text": [
      "/tmp/ipykernel_12107/2013003107.py:1: DtypeWarning: Columns (6,20,31,46,69,73) have mixed types. Specify dtype option on import or set low_memory=False.\n",
      "  dataset_df = pd.read_csv('../data/NREL_All_Stations_data.csv', delimiter='\\t')\n"
     ]
    }
   ],
   "source": [
    "dataset_df = pd.read_csv('../data/NREL_All_Stations_data.csv', delimiter='\\t')\n",
    "print('Dataset shape: ', dataset_df.shape)"
   ]
  },
  {
   "cell_type": "markdown",
   "metadata": {},
   "source": [
    "The dataset contains 67622 rows and 28 columns. The top 5 rows are shown below.\n",
    "\n",
    "## 2. Exploratory Data Analysis\n",
    "\n",
    "First, we delete the columns that are not useful for our analysis. "
   ]
  },
  {
   "cell_type": "code",
   "execution_count": 32,
   "metadata": {},
   "outputs": [],
   "source": [
    "core_params = [\n",
    "    'Cards Accepted', 'EV Level1 EVSE Num', 'EV Level2 EVSE Num', 'EV DC Fast Count',\n",
    "    'EV Network', 'Owner Type Code',\n",
    "    'EV Connector Types', 'Restricted Access', 'Facility Type',\n",
    "    'EV Pricing', 'EV On-Site Renewable Source', \n",
    "    'Maximum Vehicle Class', 'EV Workplace Charging', 'Latitude', 'Longitude',\n",
    "]\n",
    "dataset_df = dataset_df[core_params]"
   ]
  },
  {
   "cell_type": "markdown",
   "metadata": {},
   "source": [
    "Then, we check the basic distribution of the data."
   ]
  },
  {
   "cell_type": "code",
   "execution_count": 33,
   "metadata": {},
   "outputs": [
    {
     "name": "stdout",
     "output_type": "stream",
     "text": [
      "<class 'pandas.core.frame.DataFrame'>\n",
      "RangeIndex: 67622 entries, 0 to 67621\n",
      "Data columns (total 15 columns):\n",
      " #   Column                       Non-Null Count  Dtype  \n",
      "---  ------                       --------------  -----  \n",
      " 0   Cards Accepted               5357 non-null   object \n",
      " 1   EV Level1 EVSE Num           727 non-null    float64\n",
      " 2   EV Level2 EVSE Num           59253 non-null  float64\n",
      " 3   EV DC Fast Count             9238 non-null   float64\n",
      " 4   EV Network                   67619 non-null  object \n",
      " 5   Owner Type Code              18236 non-null  object \n",
      " 6   EV Connector Types           67585 non-null  object \n",
      " 7   Restricted Access            10433 non-null  object \n",
      " 8   Facility Type                17338 non-null  object \n",
      " 9   EV Pricing                   13797 non-null  object \n",
      " 10  EV On-Site Renewable Source  416 non-null    object \n",
      " 11  Maximum Vehicle Class        10359 non-null  object \n",
      " 12  EV Workplace Charging        67612 non-null  object \n",
      " 13  Latitude                     67622 non-null  float64\n",
      " 14  Longitude                    67622 non-null  float64\n",
      "dtypes: float64(5), object(10)\n",
      "memory usage: 7.7+ MB\n"
     ]
    }
   ],
   "source": [
    "dataset_df.info()"
   ]
  },
  {
   "cell_type": "code",
   "execution_count": 34,
   "metadata": {},
   "outputs": [
    {
     "data": {
      "text/html": [
       "<div>\n",
       "<style scoped>\n",
       "    .dataframe tbody tr th:only-of-type {\n",
       "        vertical-align: middle;\n",
       "    }\n",
       "\n",
       "    .dataframe tbody tr th {\n",
       "        vertical-align: top;\n",
       "    }\n",
       "\n",
       "    .dataframe thead th {\n",
       "        text-align: right;\n",
       "    }\n",
       "</style>\n",
       "<table border=\"1\" class=\"dataframe\">\n",
       "  <thead>\n",
       "    <tr style=\"text-align: right;\">\n",
       "      <th></th>\n",
       "      <th>EV Level1 EVSE Num</th>\n",
       "      <th>EV Level2 EVSE Num</th>\n",
       "      <th>EV DC Fast Count</th>\n",
       "      <th>Latitude</th>\n",
       "      <th>Longitude</th>\n",
       "    </tr>\n",
       "  </thead>\n",
       "  <tbody>\n",
       "    <tr>\n",
       "      <th>count</th>\n",
       "      <td>727.000000</td>\n",
       "      <td>59253.000000</td>\n",
       "      <td>9238.000000</td>\n",
       "      <td>67622.000000</td>\n",
       "      <td>67622.000000</td>\n",
       "    </tr>\n",
       "    <tr>\n",
       "      <th>mean</th>\n",
       "      <td>4.444292</td>\n",
       "      <td>2.371087</td>\n",
       "      <td>4.059104</td>\n",
       "      <td>37.749384</td>\n",
       "      <td>-96.834435</td>\n",
       "    </tr>\n",
       "    <tr>\n",
       "      <th>std</th>\n",
       "      <td>9.528520</td>\n",
       "      <td>3.132578</td>\n",
       "      <td>4.962888</td>\n",
       "      <td>5.066056</td>\n",
       "      <td>19.562725</td>\n",
       "    </tr>\n",
       "    <tr>\n",
       "      <th>min</th>\n",
       "      <td>1.000000</td>\n",
       "      <td>1.000000</td>\n",
       "      <td>1.000000</td>\n",
       "      <td>0.000000</td>\n",
       "      <td>-164.848855</td>\n",
       "    </tr>\n",
       "    <tr>\n",
       "      <th>25%</th>\n",
       "      <td>1.000000</td>\n",
       "      <td>2.000000</td>\n",
       "      <td>1.000000</td>\n",
       "      <td>34.027712</td>\n",
       "      <td>-118.016642</td>\n",
       "    </tr>\n",
       "    <tr>\n",
       "      <th>50%</th>\n",
       "      <td>2.000000</td>\n",
       "      <td>2.000000</td>\n",
       "      <td>2.000000</td>\n",
       "      <td>38.397025</td>\n",
       "      <td>-93.224228</td>\n",
       "    </tr>\n",
       "    <tr>\n",
       "      <th>75%</th>\n",
       "      <td>3.000000</td>\n",
       "      <td>2.000000</td>\n",
       "      <td>6.000000</td>\n",
       "      <td>41.402666</td>\n",
       "      <td>-79.047833</td>\n",
       "    </tr>\n",
       "    <tr>\n",
       "      <th>max</th>\n",
       "      <td>121.000000</td>\n",
       "      <td>338.000000</td>\n",
       "      <td>84.000000</td>\n",
       "      <td>64.852466</td>\n",
       "      <td>122.373276</td>\n",
       "    </tr>\n",
       "  </tbody>\n",
       "</table>\n",
       "</div>"
      ],
      "text/plain": [
       "       EV Level1 EVSE Num  EV Level2 EVSE Num  EV DC Fast Count      Latitude  \\\n",
       "count          727.000000        59253.000000       9238.000000  67622.000000   \n",
       "mean             4.444292            2.371087          4.059104     37.749384   \n",
       "std              9.528520            3.132578          4.962888      5.066056   \n",
       "min              1.000000            1.000000          1.000000      0.000000   \n",
       "25%              1.000000            2.000000          1.000000     34.027712   \n",
       "50%              2.000000            2.000000          2.000000     38.397025   \n",
       "75%              3.000000            2.000000          6.000000     41.402666   \n",
       "max            121.000000          338.000000         84.000000     64.852466   \n",
       "\n",
       "          Longitude  \n",
       "count  67622.000000  \n",
       "mean     -96.834435  \n",
       "std       19.562725  \n",
       "min     -164.848855  \n",
       "25%     -118.016642  \n",
       "50%      -93.224228  \n",
       "75%      -79.047833  \n",
       "max      122.373276  "
      ]
     },
     "execution_count": 34,
     "metadata": {},
     "output_type": "execute_result"
    }
   ],
   "source": [
    "dataset_df.describe()"
   ]
  },
  {
   "cell_type": "markdown",
   "metadata": {},
   "source": [
    "## 3. Feature Engineering\n",
    "\n",
    "First, we categorize the types of features into 3 groups: numerical, categorical, and boolean."
   ]
  },
  {
   "cell_type": "code",
   "execution_count": 35,
   "metadata": {},
   "outputs": [
    {
     "name": "stdout",
     "output_type": "stream",
     "text": [
      "Numerical attributes:  ['EV Level1 EVSE Num', 'EV Level2 EVSE Num', 'EV DC Fast Count', 'Latitude', 'Longitude']\n",
      "Categorical attributes:  ['Cards Accepted', 'EV Network', 'Owner Type Code', 'EV Connector Types', 'Restricted Access', 'Facility Type', 'EV Pricing', 'EV On-Site Renewable Source', 'Maximum Vehicle Class', 'EV Workplace Charging']\n",
      "Boolean attributes:  []\n"
     ]
    }
   ],
   "source": [
    "num_attribs = dataset_df.select_dtypes('number').columns.to_list()\n",
    "cat_attribs = dataset_df.select_dtypes('object').columns.to_list()\n",
    "bool_attribs = dataset_df.select_dtypes('bool').columns.to_list()\n",
    "print('Numerical attributes: ', num_attribs)\n",
    "print('Categorical attributes: ', cat_attribs)\n",
    "print('Boolean attributes: ', bool_attribs)"
   ]
  },
  {
   "cell_type": "markdown",
   "metadata": {},
   "source": [
    "Convert boolean attributes into integers."
   ]
  },
  {
   "cell_type": "code",
   "execution_count": 36,
   "metadata": {},
   "outputs": [],
   "source": [
    "for bool_attrib in bool_attribs:\n",
    "    dataset_df[bool_attrib] = dataset_df[bool_attrib].astype('int64')\n",
    "dataset_df['Restricted Access'] = dataset_df['Restricted Access'].apply(lambda x: 1 if x == True else 0)\n",
    "dataset_df['EV Workplace Charging'] = dataset_df['EV Workplace Charging'].apply(lambda x: 1 if x == True else 0)"
   ]
  },
  {
   "cell_type": "markdown",
   "metadata": {},
   "source": [
    "Define functions to retrieve price information from the texts. "
   ]
  },
  {
   "cell_type": "code",
   "execution_count": 37,
   "metadata": {},
   "outputs": [],
   "source": [
    "def get_park_price(x):\n",
    "    x = str(x)\n",
    "    if str(x).lower() == 'free':\n",
    "        return 0\n",
    "    # Extract hourly rate\n",
    "    hourly_rate = re.findall(r'(\\$\\d+\\.?\\d*)-(\\$\\d+\\.?\\d*)/Hr \\w+ Parking Fee', x)\n",
    "    if not hourly_rate:\n",
    "        hourly_rate = re.findall(r'(\\$\\d+\\.?\\d*)/Hr Parking Fee', x)\n",
    "    if not hourly_rate:\n",
    "        hourly_rate = re.findall(r'(\\$\\d+\\.?\\d*) per hour', x)\n",
    "    if not hourly_rate:\n",
    "        hourly_rate = re.findall(r'(\\$\\d+\\.?\\d*) per minute', x)\n",
    "        hourly_rate = re.findall(r'\\d+\\.?\\d*', str(hourly_rate))\n",
    "        hourly_rate = [float(rate) * 60 for rate in hourly_rate]\n",
    "    # Convert to float if hourly_rate is found else return None\n",
    "    hourly_rate = re.findall(r'\\d+\\.?\\d*', str(hourly_rate))\n",
    "    for i in range(len(hourly_rate)):\n",
    "        hourly_rate[i] = float(hourly_rate[i])\n",
    "    if hourly_rate:\n",
    "        return np.mean(hourly_rate)\n",
    "    else:\n",
    "        return 0\n",
    "    \n",
    "def get_electric_price(x):\n",
    "    x = str(x)\n",
    "    if x.lower() == 'free':\n",
    "        return 0\n",
    "    # Extract hourly rate\n",
    "    rate = re.findall(r'(\\$\\d+\\.?\\d*)-(\\$\\d+\\.?\\d*)/kWh \\w+ Energy Fee', x)\n",
    "    if not rate:\n",
    "        rate = re.findall(r'(\\$\\d+\\.?\\d*)/kWh Energy Fee', x)\n",
    "    if not rate:\n",
    "        rate = re.findall(r'(\\$\\d+\\.?\\d*) per kWh', x)\n",
    "    # Convert to float if rate is found else return None\n",
    "    rate = re.findall(r'\\d+\\.?\\d*', str(rate))\n",
    "    for i in range(len(rate)):\n",
    "        rate[i] = float(rate[i])\n",
    "    if rate:\n",
    "        return np.mean(rate)\n",
    "    else:\n",
    "        return 0\n",
    "                     "
   ]
  },
  {
   "cell_type": "markdown",
   "metadata": {},
   "source": [
    "Verify the functions with the top 10 items with the highest appearance frequency."
   ]
  },
  {
   "cell_type": "code",
   "execution_count": 38,
   "metadata": {},
   "outputs": [
    {
     "name": "stdout",
     "output_type": "stream",
     "text": [
      "Free 0 0\n",
      "FREE 0 0\n",
      "$2.00/Hr Parking Fee 2.0 0\n",
      "Pricing unknown 0 0\n",
      "$1.00/Hr Parking Fee 1.0 0\n",
      "$0.38 per kWh 0 0.38\n",
      "$0.30 per kWh 0 0.3\n",
      "$1.50/Hr Parking Fee 1.5 0\n",
      "$0.00-$5.00/Hr Variable Parking Fee 2.5 0\n",
      "$1.35/Hr Parking Fee 1.35 0\n"
     ]
    }
   ],
   "source": [
    "first_10 = dataset_df['EV Pricing'].value_counts().index[:10]\n",
    "for item in first_10:\n",
    "    print(item, get_park_price(item), get_electric_price(item))"
   ]
  },
  {
   "cell_type": "markdown",
   "metadata": {},
   "source": [
    "Apply the function to the data and get two columns for parking price and electricity price."
   ]
  },
  {
   "cell_type": "code",
   "execution_count": 39,
   "metadata": {},
   "outputs": [],
   "source": [
    "dataset_df['Park Pricing'] = dataset_df['EV Pricing'].apply(get_park_price)\n",
    "dataset_df['Electric Pricing'] = dataset_df['EV Pricing'].apply(get_electric_price)\n",
    "dataset_df.drop('EV Pricing', axis=1, inplace=True)"
   ]
  },
  {
   "cell_type": "markdown",
   "metadata": {},
   "source": [
    "Then, we deal with the numerical features. The histogram of the numerical features are shown below."
   ]
  },
  {
   "cell_type": "code",
   "execution_count": 40,
   "metadata": {},
   "outputs": [
    {
     "data": {
      "text/plain": [
       "<Axes: xlabel='EV DC Fast Count', ylabel='Count'>"
      ]
     },
     "execution_count": 40,
     "metadata": {},
     "output_type": "execute_result"
    },
    {
     "data": {
      "image/png": "[encoded data removed]",
      "text/plain": [
       "<Figure size 1000x1000 with 3 Axes>"
      ]
     },
     "metadata": {},
     "output_type": "display_data"
    }
   ],
   "source": [
    "fig, ax = plt.subplots(3, 1, figsize=(10, 10))\n",
    "fig.tight_layout(pad=3.0)\n",
    "\n",
    "sns.histplot(dataset_df['EV Level1 EVSE Num'], ax=ax[0])\n",
    "sns.histplot(dataset_df['EV Level2 EVSE Num'], ax=ax[1])\n",
    "sns.histplot(dataset_df['EV DC Fast Count'], ax=ax[2])"
   ]
  },
  {
   "cell_type": "markdown",
   "metadata": {},
   "source": [
    "Since the data is obviously skewed right. It is reasonable to fill the missing values with zero. "
   ]
  },
  {
   "cell_type": "code",
   "execution_count": 41,
   "metadata": {},
   "outputs": [],
   "source": [
    "dataset_df['EV Level1 EVSE Num'].fillna(0, inplace=True)\n",
    "dataset_df['EV Level2 EVSE Num'].fillna(0, inplace=True)\n",
    "dataset_df['EV DC Fast Count'].fillna(0, inplace=True)"
   ]
  },
  {
   "cell_type": "code",
   "execution_count": 42,
   "metadata": {},
   "outputs": [
    {
     "name": "stdout",
     "output_type": "stream",
     "text": [
      "Sample data:  A D Debit M V\n"
     ]
    }
   ],
   "source": [
    "print('Sample data: ', dataset_df['Cards Accepted'].value_counts().index[0])"
   ]
  },
  {
   "cell_type": "markdown",
   "metadata": {},
   "source": [
    "We convert this attribute to the number of payment methods supported."
   ]
  },
  {
   "cell_type": "code",
   "execution_count": 43,
   "metadata": {},
   "outputs": [],
   "source": [
    "dataset_df['Cards Accepted Num'] = dataset_df['Cards Accepted'].apply(lambda x: len(x.split(' ')) if type(x) == str else 0)\n",
    "dataset_df.drop('Cards Accepted', axis=1, inplace=True)\n",
    "    "
   ]
  },
  {
   "cell_type": "code",
   "execution_count": 44,
   "metadata": {},
   "outputs": [],
   "source": [
    "dataset_df['EV Connector Types Num'] = dataset_df['EV Connector Types'].apply(lambda x: len(x.split(' ')) if type(x) == str else 0)\n",
    "dataset_df.drop('EV Connector Types', axis=1, inplace=True)"
   ]
  },
  {
   "cell_type": "markdown",
   "metadata": {},
   "source": [
    "The EV Networks attribute comes in a similar format. However, because one station can only have a single EV network, we convert this attribute to encoded integers."
   ]
  },
  {
   "cell_type": "code",
   "execution_count": 45,
   "metadata": {},
   "outputs": [],
   "source": [
    "ev_networks_list = ['ChargePoint Network',\n",
    "                    'Non-Networked',\n",
    "                    'Blink Network',\n",
    "                    'Tesla',\n",
    "                    'Volta',\n",
    "                    'EV Connect',\n",
    "                    'SHELL_RECHARGE',\n",
    "                    'eVgo Network',\n",
    "                    'Electrify America',\n",
    "                    'AMPUP',\n",
    "                    'FLO',\n",
    "                    'RIVIAN',\n",
    "                    'LIVINGSTON', \n",
    "                    ]"
   ]
  },
  {
   "cell_type": "code",
   "execution_count": 46,
   "metadata": {},
   "outputs": [],
   "source": [
    "dataset_df['Network Enum'] = dataset_df['EV Network'].apply(lambda x: ev_networks_list.index(x) + 1 if x in ev_networks_list else 0)\n",
    "dataset_df.drop('EV Network', axis=1, inplace=True)"
   ]
  },
  {
   "cell_type": "markdown",
   "metadata": {},
   "source": [
    "The other categorical features are easier to play with, we can simply use one-hot encoding to convert them into numerical features."
   ]
  },
  {
   "cell_type": "code",
   "execution_count": 47,
   "metadata": {},
   "outputs": [],
   "source": [
    "owner_type_list = dataset_df['Owner Type Code'].value_counts().index[:10].to_list()\n",
    "dataset_df['Owner Type Code Enum'] = dataset_df['Owner Type Code'].apply(lambda x: owner_type_list.index(x) + 1 if x in owner_type_list else 0)\n",
    "dataset_df.drop('Owner Type Code', axis=1, inplace=True)"
   ]
  },
  {
   "cell_type": "code",
   "execution_count": 48,
   "metadata": {},
   "outputs": [
    {
     "data": {
      "text/plain": [
       "EV On-Site Renewable Source\n",
       "SOLAR         252\n",
       "NONE          115\n",
       "WIND           32\n",
       "HYDRO          14\n",
       "WASTEWATER      3\n",
       "Name: count, dtype: int64"
      ]
     },
     "execution_count": 48,
     "metadata": {},
     "output_type": "execute_result"
    }
   ],
   "source": [
    "dataset_df['EV On-Site Renewable Source'].value_counts()"
   ]
  },
  {
   "cell_type": "code",
   "execution_count": 49,
   "metadata": {},
   "outputs": [],
   "source": [
    "dataset_df['EV On-Site Renewable Source'] = dataset_df['EV On-Site Renewable Source'].apply(lambda x: 1 if x == 'SOLAR' else 0)"
   ]
  },
  {
   "cell_type": "code",
   "execution_count": 50,
   "metadata": {},
   "outputs": [
    {
     "data": {
      "text/plain": [
       "Maximum Vehicle Class\n",
       "LD    9994\n",
       "MD     297\n",
       "HD      68\n",
       "Name: count, dtype: int64"
      ]
     },
     "execution_count": 50,
     "metadata": {},
     "output_type": "execute_result"
    }
   ],
   "source": [
    "dataset_df['Maximum Vehicle Class'].value_counts()"
   ]
  },
  {
   "cell_type": "code",
   "execution_count": 51,
   "metadata": {},
   "outputs": [],
   "source": [
    "def map(x):\n",
    "    if x == 'LD':\n",
    "        return 1\n",
    "    elif x == 'MD':\n",
    "        return 2\n",
    "    elif x == 'HD':\n",
    "        return 3\n",
    "    else:\n",
    "        return 0\n",
    "\n",
    "dataset_df['Maximum Vehicle Class Enum'] = dataset_df['Maximum Vehicle Class'].apply(map)\n",
    "dataset_df.drop('Maximum Vehicle Class', axis=1, inplace=True)"
   ]
  },
  {
   "cell_type": "code",
   "execution_count": 52,
   "metadata": {},
   "outputs": [],
   "source": [
    "facilities = dataset_df['Facility Type'].value_counts()[:10].index.to_list()\n",
    "dataset_df['Facility Type Enum'] = dataset_df['Facility Type'].apply(lambda x: facilities.index(x) + 1 if x in facilities else 0)\n",
    "dataset_df.drop('Facility Type', axis=1, inplace=True)"
   ]
  },
  {
   "cell_type": "markdown",
   "metadata": {},
   "source": [
    "The preprocessing of the data is done. We can now move on to the next step."
   ]
  },
  {
   "cell_type": "code",
   "execution_count": 53,
   "metadata": {},
   "outputs": [
    {
     "data": {
      "text/html": [
       "<div>\n",
       "<style scoped>\n",
       "    .dataframe tbody tr th:only-of-type {\n",
       "        vertical-align: middle;\n",
       "    }\n",
       "\n",
       "    .dataframe tbody tr th {\n",
       "        vertical-align: top;\n",
       "    }\n",
       "\n",
       "    .dataframe thead th {\n",
       "        text-align: right;\n",
       "    }\n",
       "</style>\n",
       "<table border=\"1\" class=\"dataframe\">\n",
       "  <thead>\n",
       "    <tr style=\"text-align: right;\">\n",
       "      <th></th>\n",
       "      <th>EV Level1 EVSE Num</th>\n",
       "      <th>EV Level2 EVSE Num</th>\n",
       "      <th>EV DC Fast Count</th>\n",
       "      <th>Restricted Access</th>\n",
       "      <th>EV On-Site Renewable Source</th>\n",
       "      <th>EV Workplace Charging</th>\n",
       "      <th>Latitude</th>\n",
       "      <th>Longitude</th>\n",
       "      <th>Park Pricing</th>\n",
       "      <th>Electric Pricing</th>\n",
       "      <th>Cards Accepted Num</th>\n",
       "      <th>EV Connector Types Num</th>\n",
       "      <th>Network Enum</th>\n",
       "      <th>Owner Type Code Enum</th>\n",
       "      <th>Maximum Vehicle Class Enum</th>\n",
       "      <th>Facility Type Enum</th>\n",
       "    </tr>\n",
       "  </thead>\n",
       "  <tbody>\n",
       "    <tr>\n",
       "      <th>0</th>\n",
       "      <td>0.0</td>\n",
       "      <td>57.0</td>\n",
       "      <td>2.0</td>\n",
       "      <td>0</td>\n",
       "      <td>0</td>\n",
       "      <td>1</td>\n",
       "      <td>34.248319</td>\n",
       "      <td>-118.387971</td>\n",
       "      <td>0.0</td>\n",
       "      <td>0.0</td>\n",
       "      <td>0</td>\n",
       "      <td>3</td>\n",
       "      <td>7</td>\n",
       "      <td>2</td>\n",
       "      <td>0</td>\n",
       "      <td>9</td>\n",
       "    </tr>\n",
       "    <tr>\n",
       "      <th>1</th>\n",
       "      <td>0.0</td>\n",
       "      <td>4.0</td>\n",
       "      <td>0.0</td>\n",
       "      <td>0</td>\n",
       "      <td>0</td>\n",
       "      <td>1</td>\n",
       "      <td>34.052542</td>\n",
       "      <td>-118.448504</td>\n",
       "      <td>0.0</td>\n",
       "      <td>0.0</td>\n",
       "      <td>0</td>\n",
       "      <td>1</td>\n",
       "      <td>2</td>\n",
       "      <td>2</td>\n",
       "      <td>0</td>\n",
       "      <td>9</td>\n",
       "    </tr>\n",
       "    <tr>\n",
       "      <th>2</th>\n",
       "      <td>0.0</td>\n",
       "      <td>7.0</td>\n",
       "      <td>0.0</td>\n",
       "      <td>0</td>\n",
       "      <td>0</td>\n",
       "      <td>0</td>\n",
       "      <td>34.040539</td>\n",
       "      <td>-118.271387</td>\n",
       "      <td>0.0</td>\n",
       "      <td>0.0</td>\n",
       "      <td>0</td>\n",
       "      <td>1</td>\n",
       "      <td>2</td>\n",
       "      <td>1</td>\n",
       "      <td>1</td>\n",
       "      <td>0</td>\n",
       "    </tr>\n",
       "    <tr>\n",
       "      <th>3</th>\n",
       "      <td>0.0</td>\n",
       "      <td>338.0</td>\n",
       "      <td>12.0</td>\n",
       "      <td>0</td>\n",
       "      <td>0</td>\n",
       "      <td>1</td>\n",
       "      <td>34.059133</td>\n",
       "      <td>-118.248589</td>\n",
       "      <td>0.0</td>\n",
       "      <td>0.0</td>\n",
       "      <td>0</td>\n",
       "      <td>3</td>\n",
       "      <td>2</td>\n",
       "      <td>2</td>\n",
       "      <td>1</td>\n",
       "      <td>9</td>\n",
       "    </tr>\n",
       "    <tr>\n",
       "      <th>4</th>\n",
       "      <td>0.0</td>\n",
       "      <td>19.0</td>\n",
       "      <td>1.0</td>\n",
       "      <td>0</td>\n",
       "      <td>0</td>\n",
       "      <td>1</td>\n",
       "      <td>33.759802</td>\n",
       "      <td>-118.096665</td>\n",
       "      <td>0.0</td>\n",
       "      <td>0.0</td>\n",
       "      <td>0</td>\n",
       "      <td>3</td>\n",
       "      <td>2</td>\n",
       "      <td>2</td>\n",
       "      <td>0</td>\n",
       "      <td>9</td>\n",
       "    </tr>\n",
       "  </tbody>\n",
       "</table>\n",
       "</div>"
      ],
      "text/plain": [
       "   EV Level1 EVSE Num  EV Level2 EVSE Num  EV DC Fast Count  \\\n",
       "0                 0.0                57.0               2.0   \n",
       "1                 0.0                 4.0               0.0   \n",
       "2                 0.0                 7.0               0.0   \n",
       "3                 0.0               338.0              12.0   \n",
       "4                 0.0                19.0               1.0   \n",
       "\n",
       "   Restricted Access  EV On-Site Renewable Source  EV Workplace Charging  \\\n",
       "0                  0                            0                      1   \n",
       "1                  0                            0                      1   \n",
       "2                  0                            0                      0   \n",
       "3                  0                            0                      1   \n",
       "4                  0                            0                      1   \n",
       "\n",
       "    Latitude   Longitude  Park Pricing  Electric Pricing  Cards Accepted Num  \\\n",
       "0  34.248319 -118.387971           0.0               0.0                   0   \n",
       "1  34.052542 -118.448504           0.0               0.0                   0   \n",
       "2  34.040539 -118.271387           0.0               0.0                   0   \n",
       "3  34.059133 -118.248589           0.0               0.0                   0   \n",
       "4  33.759802 -118.096665           0.0               0.0                   0   \n",
       "\n",
       "   EV Connector Types Num  Network Enum  Owner Type Code Enum  \\\n",
       "0                       3             7                     2   \n",
       "1                       1             2                     2   \n",
       "2                       1             2                     1   \n",
       "3                       3             2                     2   \n",
       "4                       3             2                     2   \n",
       "\n",
       "   Maximum Vehicle Class Enum  Facility Type Enum  \n",
       "0                           0                   9  \n",
       "1                           0                   9  \n",
       "2                           1                   0  \n",
       "3                           1                   9  \n",
       "4                           0                   9  "
      ]
     },
     "execution_count": 53,
     "metadata": {},
     "output_type": "execute_result"
    }
   ],
   "source": [
    "dataset_df.head()"
   ]
  },
  {
   "cell_type": "markdown",
   "metadata": {},
   "source": [
    "Output the data to a csv file for future use."
   ]
  },
  {
   "cell_type": "code",
   "execution_count": 54,
   "metadata": {},
   "outputs": [],
   "source": [
    "dataset_df.to_csv('../data/processed_nrel.csv', index=False, encoding='utf-8')"
   ]
  }
 ],
 "metadata": {
  "kernelspec": {
   "display_name": "proj650",
   "language": "python",
   "name": "python3"
  },
  "language_info": {
   "codemirror_mode": {
    "name": "ipython",
    "version": 3
   },
   "file_extension": ".py",
   "mimetype": "text/x-python",
   "name": "python",
   "nbconvert_exporter": "python",
   "pygments_lexer": "ipython3",
   "version": "3.11.0"
  }
 },
 "nbformat": 4,
 "nbformat_minor": 2
}
