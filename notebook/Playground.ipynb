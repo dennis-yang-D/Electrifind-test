{
 "cells": [
  {
   "cell_type": "code",
   "execution_count": 2,
   "metadata": {},
   "outputs": [],
   "source": [
    "import csv\n",
    "import pandas as pd\n",
    "from tqdm import tqdm"
   ]
  },
  {
   "cell_type": "code",
   "execution_count": 4,
   "metadata": {},
   "outputs": [],
   "source": [
    "NREL_PATH = '../data/NREL_raw.csv'\n",
    "NREL_NUM_PATH = '../data/NREL_numerical.csv'"
   ]
  },
  {
   "cell_type": "code",
   "execution_count": 6,
   "metadata": {},
   "outputs": [],
   "source": [
    "df2 = pd.read_csv(NREL_NUM_PATH, low_memory=False)"
   ]
  },
  {
   "cell_type": "code",
   "execution_count": 11,
   "metadata": {},
   "outputs": [
    {
     "data": {
      "text/plain": [
       "Index(['id', 'station_name', 'street_address', 'intersection_directions',\n",
       "       'city', 'state_name', 'zip', 'plus4', 'station_phone',\n",
       "       'access_days_time', 'cards_accepted', 'ev_level1_evse_num',\n",
       "       'ev_level2_evse_num', 'ev_dc_fast_count', 'ev_other_info', 'ev_network',\n",
       "       'ev_network_web', 'geocode_status', 'latitude', 'longitude',\n",
       "       'date_last_confirmed', 'updated_at', 'owner_type_code',\n",
       "       'federal_agency_id', 'federal_agency_name', 'open_date',\n",
       "       'ev_connector_types', 'country', 'access_code', 'access_detail_code',\n",
       "       'federal_agency_code', 'facility_type', 'ev_pricing',\n",
       "       'ev_on_site_renewable_source', 'restricted_access', 'nps_unit_name',\n",
       "       'maximum_vehicle_class', 'ev_workplace_charging'],\n",
       "      dtype='object')"
      ]
     },
     "execution_count": 11,
     "metadata": {},
     "output_type": "execute_result"
    }
   ],
   "source": [
    "df.columns"
   ]
  },
  {
   "cell_type": "code",
   "execution_count": 8,
   "metadata": {},
   "outputs": [],
   "source": [
    "df = pd.read_csv(NREL_PATH, delimiter='\\t', low_memory=False)"
   ]
  },
  {
   "cell_type": "code",
   "execution_count": 9,
   "metadata": {},
   "outputs": [
    {
     "name": "stdout",
     "output_type": "stream",
     "text": [
      "<class 'pandas.core.frame.DataFrame'>\n",
      "RangeIndex: 66020 entries, 0 to 66019\n",
      "Data columns (total 38 columns):\n",
      " #   Column                       Non-Null Count  Dtype  \n",
      "---  ------                       --------------  -----  \n",
      " 0   id                           66020 non-null  int64  \n",
      " 1   station_name                 66019 non-null  object \n",
      " 2   street_address               65974 non-null  object \n",
      " 3   intersection_directions      2345 non-null   object \n",
      " 4   city                         66006 non-null  object \n",
      " 5   state_name                   66009 non-null  object \n",
      " 6   zip                          66007 non-null  object \n",
      " 7   plus4                        0 non-null      float64\n",
      " 8   station_phone                62370 non-null  object \n",
      " 9   access_days_time             58947 non-null  object \n",
      " 10  cards_accepted               6106 non-null   object \n",
      " 11  ev_level1_evse_num           669 non-null    float64\n",
      " 12  ev_level2_evse_num           57260 non-null  float64\n",
      " 13  ev_dc_fast_count             9665 non-null   float64\n",
      " 14  ev_other_info                37 non-null     object \n",
      " 15  ev_network                   66018 non-null  object \n",
      " 16  ev_network_web               56830 non-null  object \n",
      " 17  geocode_status               66020 non-null  object \n",
      " 18  latitude                     66020 non-null  float64\n",
      " 19  longitude                    66020 non-null  float64\n",
      " 20  date_last_confirmed          65888 non-null  object \n",
      " 21  updated_at                   66020 non-null  object \n",
      " 22  owner_type_code              18455 non-null  object \n",
      " 23  federal_agency_id            1029 non-null   float64\n",
      " 24  federal_agency_name          1029 non-null   object \n",
      " 25  open_date                    65937 non-null  object \n",
      " 26  ev_connector_types           65983 non-null  object \n",
      " 27  country                      66020 non-null  object \n",
      " 28  access_code                  66020 non-null  object \n",
      " 29  access_detail_code           4969 non-null   object \n",
      " 30  federal_agency_code          1029 non-null   object \n",
      " 31  facility_type                17720 non-null  object \n",
      " 32  ev_pricing                   12990 non-null  object \n",
      " 33  ev_on_site_renewable_source  442 non-null    object \n",
      " 34  restricted_access            10590 non-null  object \n",
      " 35  nps_unit_name                174 non-null    object \n",
      " 36  maximum_vehicle_class        11163 non-null  object \n",
      " 37  ev_workplace_charging        66019 non-null  object \n",
      "dtypes: float64(7), int64(1), object(30)\n",
      "memory usage: 19.1+ MB\n"
     ]
    }
   ],
   "source": [
    "df.info()"
   ]
  },
  {
   "cell_type": "code",
   "execution_count": 8,
   "metadata": {},
   "outputs": [
    {
     "name": "stdout",
     "output_type": "stream",
     "text": [
      "INSERT INTO nrel (id, station_name, street_address, intersection_directions, city, state_name, zip, plus4, station_phone, access_days_time, cards_accepted, ev_level1_evse_num, ev_level2_evse_num, ev_dc_fast_count, ev_other_info, ev_network, ev_network_web, geocode_status, latitude, longitude, date_last_confirmed, updated_at, owner_type_code, federal_agency_id, federal_agency_name, open_date, ev_connector_types, country, access_code, access_detail_code, federal_agency_code, facility_type, ev_pricing, ev_on_site_renewable_source, restricted_access, nps_unit_name, maximum_vehicle_class, ev_workplace_charging) VALUES (53413, Lewis & Clark Community College, 5800 Godfrey Rd, One station between Erickson Hall and the Nursing Building in the 'Cabin Lot.' The other station is between Riverbend Arena and the Math Building., Godfrey, IL, 62035, NULL, 618-468-2782, 24 hours daily; visit security desk after normal business hours to use, NULL, NULL, 2.0, NULL, NULL, Non-Networked, NULL, GPS, 38.950131, -90.195222, 2021-01-14, 2022-04-28 20:01:31 UTC, P, NULL, NULL, 2012-07-01, J1772, US, public, NULL, NULL, COLLEGE_CAMPUS, Free, NULL, True, NULL, NULL, False)\n"
     ]
    }
   ],
   "source": [
    "with open(NREL_PATH, 'r') as f:\n",
    "    reader = csv.reader(f, delimiter='\\t')\n",
    "    columns = next(reader)\n",
    "    while True:\n",
    "        row = next(reader)\n",
    "        if row[0] == '53413':\n",
    "            break\n",
    "    for i, item in enumerate(row):\n",
    "        if item == '':\n",
    "            row[i] = 'NULL'\n",
    "        else:\n",
    "            row[i] = row[i].replace('\"', '\\'')\n",
    "    command = f'INSERT INTO nrel (' + ', '.join(columns) + \\\n",
    "        ') VALUES (' + ', '.join(row) + ')'\n",
    "    print(command)"
   ]
  },
  {
   "cell_type": "code",
   "execution_count": 83,
   "metadata": {},
   "outputs": [],
   "source": [
    "def csv2sql_schema(filepath, table_name, delimiter=','):\n",
    "    df = pd.read_csv(filepath, delimiter=delimiter)\n",
    "    type_map = {\n",
    "        'int64': 'INTEGER',\n",
    "        'float64': 'FLOAT',\n",
    "        'object': 'TEXT'\n",
    "    }\n",
    "\n",
    "    columns_sql = []\n",
    "    columns_sql.append(f\"  id INTEGER PRIMARY KEY AUTOINCREMENT,\\n\")\n",
    "    for column, dtype in df.dtypes.items():\n",
    "        if column == 'ID' or 'French' in column:\n",
    "            continue\n",
    "        column = column.lower().replace(' ', '_').replace('-', '_')\n",
    "        if column == 'state':\n",
    "            column = 'state_name'\n",
    "        columns_sql.append(f\"  {column} {type_map[dtype.name]},\\n\")\n",
    "    \n",
    "    command = f\"CREATE TABLE {table_name} (\\n{''.join(columns_sql)});\"\n",
    "    command = command[:-4] + '\\n);'\n",
    "    return command"
   ]
  },
  {
   "cell_type": "code",
   "execution_count": 86,
   "metadata": {},
   "outputs": [
    {
     "name": "stderr",
     "output_type": "stream",
     "text": [
      "/tmp/ipykernel_10050/3190012416.py:2: DtypeWarning: Columns (6,20,31,46,69,73) have mixed types. Specify dtype option on import or set low_memory=False.\n",
      "  df = pd.read_csv(filepath, delimiter=delimiter)\n"
     ]
    }
   ],
   "source": [
    "txt = csv2sql_schema(NREL_PATH, 'nrel', '\\t')"
   ]
  },
  {
   "cell_type": "code",
   "execution_count": 85,
   "metadata": {},
   "outputs": [],
   "source": [
    "with open('../electrifind/schema.sql', 'a', encoding='utf-8') as f:\n",
    "    f.write('\\n\\n')\n",
    "    f.write(txt)\n",
    "f.close()"
   ]
  }
 ],
 "metadata": {
  "kernelspec": {
   "display_name": ".venv",
   "language": "python",
   "name": "python3"
  },
  "language_info": {
   "codemirror_mode": {
    "name": "ipython",
    "version": 3
   },
   "file_extension": ".py",
   "mimetype": "text/x-python",
   "name": "python",
   "nbconvert_exporter": "python",
   "pygments_lexer": "ipython3",
   "version": "3.10.12"
  }
 },
 "nbformat": 4,
 "nbformat_minor": 2
}
