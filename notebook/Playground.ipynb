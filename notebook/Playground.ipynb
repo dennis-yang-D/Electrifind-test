{
 "cells": [
  {
   "cell_type": "code",
   "execution_count": 1,
   "metadata": {},
   "outputs": [],
   "source": [
    "import csv\n",
    "import pandas as pd\n",
    "from tqdm import tqdm\n",
    "import numpy as np"
   ]
  },
  {
   "cell_type": "code",
   "execution_count": 2,
   "metadata": {},
   "outputs": [],
   "source": [
    "DATA_PATH = '../data/'\n",
    "NREL_PATH = '../data/NREL_raw.csv'\n",
    "NREL_NUM_PATH = '../data/NREL_numerical.csv'"
   ]
  },
  {
   "cell_type": "code",
   "execution_count": 4,
   "metadata": {},
   "outputs": [],
   "source": [
    "data_df = np.fromfile('../data/encoded_station.npy')"
   ]
  },
  {
   "cell_type": "code",
   "execution_count": 7,
   "metadata": {},
   "outputs": [
    {
     "data": {
      "text/plain": [
       "(353572,)"
      ]
     },
     "execution_count": 7,
     "metadata": {},
     "output_type": "execute_result"
    }
   ],
   "source": [
    "data_df.shape"
   ]
  },
  {
   "cell_type": "code",
   "execution_count": 71,
   "metadata": {},
   "outputs": [],
   "source": [
    "dataset_df = pd.read_csv(\n",
    "    DATA_PATH + 'Google_Map_review_data_AA_DTW.csv', sep=',', header=0)\n",
    "sample_df = pd.read_csv(\n",
    "    DATA_PATH + 'NREL_numerical.csv', sep=',', header=0, low_memory=False)\n",
    "authors_list = dataset_df.author_name.unique().tolist()\n"
   ]
  },
  {
   "cell_type": "code",
   "execution_count": 81,
   "metadata": {},
   "outputs": [
    {
     "name": "stdout",
     "output_type": "stream",
     "text": [
      "Total: 354\n",
      "Good: 305\n",
      "Percentage: 0.8615819209039548\n"
     ]
    }
   ],
   "source": [
    "count = 0\n",
    "bad_count = 0\n",
    "fake_ids = {}\n",
    "id_map = []\n",
    "fake_id_map = []\n",
    "stations_list = []\n",
    "curr_id = 0\n",
    "author_map = []\n",
    "authors = {}\n",
    "curr_author_id = 0\n",
    "for row in dataset_df.itertuples():\n",
    "    # if (float(row.lat), float(row.lng)) not in coor_list:\n",
    "    #     coor_list.add((float(row.lat), float(row.lng)))\n",
    "    mask = (abs(sample_df.Latitude - row.lat) < 0.001) & (\n",
    "        abs(sample_df.Longitude - row.lng) < 0.001)\n",
    "    masked_nrel = sample_df[mask]\n",
    "    if len(masked_nrel) > 0:\n",
    "        real_id = masked_nrel.iloc[0]['ID']\n",
    "        id_map.append(real_id)\n",
    "        if real_id in fake_ids:\n",
    "            fake_id_map.append(fake_ids[real_id])\n",
    "        else:\n",
    "            fake_ids[real_id] = curr_id\n",
    "            fake_id_map.append(curr_id)\n",
    "            curr_id += 1\n",
    "        if row.author_name in authors:\n",
    "            author_map.append(authors[row.author_name])\n",
    "        else:\n",
    "            authors[row.author_name] = curr_author_id\n",
    "            author_map.append(curr_author_id)\n",
    "            curr_author_id += 1\n",
    "        stations_list.append(row.address)\n",
    "    else:\n",
    "        stations_list.append('')\n",
    "        id_map.append(-1)\n",
    "        fake_id_map.append(-1)\n",
    "        author_map.append(-1)\n",
    "        bad_count += 1\n",
    "    count += 1 \n",
    "print('Total:', count)\n",
    "print('Good:', count - bad_count)  \n",
    "print('Percentage:', (count - bad_count) / count)   "
   ]
  },
  {
   "cell_type": "code",
   "execution_count": 82,
   "metadata": {},
   "outputs": [
    {
     "data": {
      "text/plain": [
       "(354, 354, 354, 354)"
      ]
     },
     "execution_count": 82,
     "metadata": {},
     "output_type": "execute_result"
    }
   ],
   "source": [
    "len(id_map), len(fake_id_map), len(stations_list), len(author_map)"
   ]
  },
  {
   "cell_type": "code",
   "execution_count": 67,
   "metadata": {},
   "outputs": [
    {
     "name": "stdout",
     "output_type": "stream",
     "text": [
      "Total unique stations: 90\n",
      "Total users: 306\n"
     ]
    }
   ],
   "source": [
    "print('Total unique stations:', len(set(stations_list)))\n",
    "print('Total users:', len(authors_list))"
   ]
  },
  {
   "cell_type": "code",
   "execution_count": 50,
   "metadata": {},
   "outputs": [],
   "source": [
    "from sklearn.model_selection import train_test_split"
   ]
  },
  {
   "cell_type": "code",
   "execution_count": 83,
   "metadata": {},
   "outputs": [],
   "source": [
    "X = []\n",
    "y = []\n",
    "for idx, row in dataset_df.iterrows():\n",
    "    author_id = author_map[idx]\n",
    "    station_id = fake_id_map[idx]\n",
    "    rating = row.rating\n",
    "    if station_id == -1:\n",
    "        continue\n",
    "    X.append([author_id, station_id])\n",
    "    y.append(rating)\n",
    "\n",
    "X_train, X_test, y_train, y_test = train_test_split(X, y, test_size=0.2, random_state=42)\n"
   ]
  },
  {
   "cell_type": "code",
   "execution_count": 84,
   "metadata": {},
   "outputs": [],
   "source": [
    "with open(DATA_PATH + 'u.train', 'w') as f:\n",
    "    for i in range(len(X_train)):\n",
    "        f.write(f'{X_train[i][0]} {X_train[i][1]} {y_train[i]}\\n')\n",
    "\n",
    "with open(DATA_PATH + 'u.test', 'w') as f:\n",
    "    for i in range(len(X_test)):\n",
    "        f.write(f'{X_test[i][0]} {X_test[i][1]} {y_test[i]}\\n')\n",
    "\n",
    "with open(DATA_PATH + 'u.base', 'w') as f:\n",
    "    for i in range(len(X)):\n",
    "        f.write(f'{X[i][0]} {X[i][1]} {y[i]}\\n')"
   ]
  },
  {
   "cell_type": "code",
   "execution_count": 17,
   "metadata": {},
   "outputs": [
    {
     "name": "stderr",
     "output_type": "stream",
     "text": [
      "/tmp/ipykernel_36792/3189738852.py:5: DtypeWarning: Columns (5) have mixed types. Specify dtype option on import or set low_memory=False.\n",
      "  sample_df = pd.read_csv(\n"
     ]
    }
   ],
   "source": [
    "id_map = []\n",
    "stations_list = []\n",
    "dataset_df = pd.read_csv(\n",
    "    DATA_PATH + 'Google_Map_review_data_AA_DTW.csv', sep=',', header=0)\n",
    "sample_df = pd.read_csv(\n",
    "    DATA_PATH + 'NREL_numerical.csv', sep=',', header=0)\n",
    "authors_list = dataset_df.author_name.unique()\n",
    "stations_list = []\n",
    "coor_list = set()\n",
    "for row in dataset_df.itertuples():\n",
    "    if (float(row.lat), float(row.lng)) not in coor_list:\n",
    "        coor_list.add((float(row.lat), float(row.lng)))\n",
    "        mask = (abs(sample_df.Latitude - row.lat) < 0.001) & (\n",
    "            abs(sample_df.Longitude - row.lng) < 0.001)\n",
    "        masked_nrel = sample_df[mask]\n",
    "        if len(masked_nrel) > 0:\n",
    "            id_map.append(masked_nrel.iloc[0]['ID'])\n",
    "            stations_list.append(row.name)"
   ]
  },
  {
   "cell_type": "code",
   "execution_count": 18,
   "metadata": {},
   "outputs": [
    {
     "data": {
      "text/plain": [
       "['Electrify America Charging Station',\n",
       " 'ChargePoint Charging Station',\n",
       " 'EVgo Charging Station',\n",
       " 'Shell Recharge Charging Station',\n",
       " 'Tesla Supercharger',\n",
       " 'ChargePoint Charging Station',\n",
       " 'ChargePoint Charging Station',\n",
       " 'Tesla Supercharger',\n",
       " 'ChargePoint Charging Station',\n",
       " 'Electric Vehicle Charging Station',\n",
       " 'ChargePoint Charging Station',\n",
       " 'Red E Charging Station',\n",
       " 'ChargePoint Charging Station',\n",
       " 'ChargePoint Charging Station',\n",
       " 'ChargePoint Charging Station',\n",
       " 'Tesla Supercharger',\n",
       " 'Electric Vehicle Charging Station',\n",
       " 'RED E Charging Station',\n",
       " 'EVgo Charging Station',\n",
       " 'Electrify America Charging Station',\n",
       " 'ChargePoint Charging Station',\n",
       " 'ChargePoint Charging Station',\n",
       " 'ChargePoint Charging Station',\n",
       " 'ChargePoint Charging Station',\n",
       " 'EVgo Charging Station',\n",
       " 'Tesla Supercharger',\n",
       " 'Greenlots Charging Station',\n",
       " 'EVgo Charging Station',\n",
       " 'Electric Vehicle Charging Station',\n",
       " 'EVgo Charging Station',\n",
       " 'ChargePoint Charging Station',\n",
       " 'ChargePoint Charging Station',\n",
       " 'ChargePoint Charging Station',\n",
       " 'Tesla Supercharger',\n",
       " 'EVgo Charging Station',\n",
       " 'EVgo Charging Station',\n",
       " 'ChargePoint Charging Station',\n",
       " 'ChargePoint Charging Station',\n",
       " 'Shell Recharge Charging Station',\n",
       " 'ChargePoint Charging Station',\n",
       " 'Electric Vehicle Charging Station',\n",
       " 'Electrify America Charging Station Meijer',\n",
       " 'EV Connect Charging Station',\n",
       " 'ChargePoint Charging Station',\n",
       " 'ChargePoint Charging Station',\n",
       " 'EVgo Charging Station',\n",
       " 'Electric Vehicle Charging Station',\n",
       " 'ChargePoint Charging Station',\n",
       " 'EV Connect Charging Station',\n",
       " 'ChargePoint Charging Station',\n",
       " 'ChargePoint Charging Station',\n",
       " 'Tesla Supercharger',\n",
       " 'ChargePoint Charging Station',\n",
       " 'Electric Vehicle Charging Station',\n",
       " 'EVgo Charging Station',\n",
       " 'Tesla Destination Charger',\n",
       " 'ChargePoint Charging Station',\n",
       " 'ChargePoint Charging Station',\n",
       " 'ChargePoint Charging Station',\n",
       " 'ChargePoint Charging Station',\n",
       " 'Electric Vehicle Charging Station',\n",
       " 'ChargePoint Charging Station',\n",
       " 'EVgo Charging Station',\n",
       " 'Tesla Supercharger',\n",
       " 'ChargePoint Charging Station',\n",
       " 'Tesla Supercharger',\n",
       " 'Volta Charging Station',\n",
       " 'EVgo Charging Station',\n",
       " 'Electrify America Charging Station',\n",
       " 'ChargePoint Charging Station',\n",
       " 'EV Connect Charging Station',\n",
       " 'EVgo Charging Station',\n",
       " 'EVgo Charging Station',\n",
       " 'ChargePoint Charging Station',\n",
       " 'Electrify America Charging Station Leesburg Premium Outlets',\n",
       " 'Electrify America Charging Station',\n",
       " 'Electric Vehicle Charging Station',\n",
       " 'ChargePoint Charging Station',\n",
       " 'Electrify America Charging Station',\n",
       " 'Tesla Supercharger',\n",
       " 'Electric Vehicle Charging Station',\n",
       " 'ChargePoint Charging Station',\n",
       " 'ChargePoint Charging Station',\n",
       " 'Electric Vehicle Charging Station',\n",
       " 'Nissan Charging Station',\n",
       " 'ChargePoint Charging Station',\n",
       " 'ChargePoint Charging Station',\n",
       " 'ChargePoint Charging Station',\n",
       " 'ChargePoint Charging Station',\n",
       " 'EV Connect Charging Station']"
      ]
     },
     "execution_count": 18,
     "metadata": {},
     "output_type": "execute_result"
    }
   ],
   "source": [
    "stations_list"
   ]
  },
  {
   "cell_type": "code",
   "execution_count": 6,
   "metadata": {},
   "outputs": [],
   "source": [
    "df2 = pd.read_csv(NREL_NUM_PATH, low_memory=False)"
   ]
  },
  {
   "cell_type": "code",
   "execution_count": 8,
   "metadata": {},
   "outputs": [],
   "source": [
    "df = pd.read_csv(NREL_PATH, delimiter='\\t', low_memory=False)"
   ]
  },
  {
   "cell_type": "code",
   "execution_count": 9,
   "metadata": {},
   "outputs": [
    {
     "name": "stdout",
     "output_type": "stream",
     "text": [
      "<class 'pandas.core.frame.DataFrame'>\n",
      "RangeIndex: 66020 entries, 0 to 66019\n",
      "Data columns (total 38 columns):\n",
      " #   Column                       Non-Null Count  Dtype  \n",
      "---  ------                       --------------  -----  \n",
      " 0   id                           66020 non-null  int64  \n",
      " 1   station_name                 66019 non-null  object \n",
      " 2   street_address               65974 non-null  object \n",
      " 3   intersection_directions      2345 non-null   object \n",
      " 4   city                         66006 non-null  object \n",
      " 5   state_name                   66009 non-null  object \n",
      " 6   zip                          66007 non-null  object \n",
      " 7   plus4                        0 non-null      float64\n",
      " 8   station_phone                62370 non-null  object \n",
      " 9   access_days_time             58947 non-null  object \n",
      " 10  cards_accepted               6106 non-null   object \n",
      " 11  ev_level1_evse_num           669 non-null    float64\n",
      " 12  ev_level2_evse_num           57260 non-null  float64\n",
      " 13  ev_dc_fast_count             9665 non-null   float64\n",
      " 14  ev_other_info                37 non-null     object \n",
      " 15  ev_network                   66018 non-null  object \n",
      " 16  ev_network_web               56830 non-null  object \n",
      " 17  geocode_status               66020 non-null  object \n",
      " 18  latitude                     66020 non-null  float64\n",
      " 19  longitude                    66020 non-null  float64\n",
      " 20  date_last_confirmed          65888 non-null  object \n",
      " 21  updated_at                   66020 non-null  object \n",
      " 22  owner_type_code              18455 non-null  object \n",
      " 23  federal_agency_id            1029 non-null   float64\n",
      " 24  federal_agency_name          1029 non-null   object \n",
      " 25  open_date                    65937 non-null  object \n",
      " 26  ev_connector_types           65983 non-null  object \n",
      " 27  country                      66020 non-null  object \n",
      " 28  access_code                  66020 non-null  object \n",
      " 29  access_detail_code           4969 non-null   object \n",
      " 30  federal_agency_code          1029 non-null   object \n",
      " 31  facility_type                17720 non-null  object \n",
      " 32  ev_pricing                   12990 non-null  object \n",
      " 33  ev_on_site_renewable_source  442 non-null    object \n",
      " 34  restricted_access            10590 non-null  object \n",
      " 35  nps_unit_name                174 non-null    object \n",
      " 36  maximum_vehicle_class        11163 non-null  object \n",
      " 37  ev_workplace_charging        66019 non-null  object \n",
      "dtypes: float64(7), int64(1), object(30)\n",
      "memory usage: 19.1+ MB\n"
     ]
    }
   ],
   "source": [
    "df.info()"
   ]
  },
  {
   "cell_type": "code",
   "execution_count": 8,
   "metadata": {},
   "outputs": [
    {
     "name": "stdout",
     "output_type": "stream",
     "text": [
      "INSERT INTO nrel (id, station_name, street_address, intersection_directions, city, state_name, zip, plus4, station_phone, access_days_time, cards_accepted, ev_level1_evse_num, ev_level2_evse_num, ev_dc_fast_count, ev_other_info, ev_network, ev_network_web, geocode_status, latitude, longitude, date_last_confirmed, updated_at, owner_type_code, federal_agency_id, federal_agency_name, open_date, ev_connector_types, country, access_code, access_detail_code, federal_agency_code, facility_type, ev_pricing, ev_on_site_renewable_source, restricted_access, nps_unit_name, maximum_vehicle_class, ev_workplace_charging) VALUES (53413, Lewis & Clark Community College, 5800 Godfrey Rd, One station between Erickson Hall and the Nursing Building in the 'Cabin Lot.' The other station is between Riverbend Arena and the Math Building., Godfrey, IL, 62035, NULL, 618-468-2782, 24 hours daily; visit security desk after normal business hours to use, NULL, NULL, 2.0, NULL, NULL, Non-Networked, NULL, GPS, 38.950131, -90.195222, 2021-01-14, 2022-04-28 20:01:31 UTC, P, NULL, NULL, 2012-07-01, J1772, US, public, NULL, NULL, COLLEGE_CAMPUS, Free, NULL, True, NULL, NULL, False)\n"
     ]
    }
   ],
   "source": [
    "with open(NREL_PATH, 'r') as f:\n",
    "    reader = csv.reader(f, delimiter='\\t')\n",
    "    columns = next(reader)\n",
    "    while True:\n",
    "        row = next(reader)\n",
    "        if row[0] == '53413':\n",
    "            break\n",
    "    for i, item in enumerate(row):\n",
    "        if item == '':\n",
    "            row[i] = 'NULL'\n",
    "        else:\n",
    "            row[i] = row[i].replace('\"', '\\'')\n",
    "    command = f'INSERT INTO nrel (' + ', '.join(columns) + \\\n",
    "        ') VALUES (' + ', '.join(row) + ')'\n",
    "    print(command)"
   ]
  },
  {
   "cell_type": "code",
   "execution_count": 83,
   "metadata": {},
   "outputs": [],
   "source": [
    "def csv2sql_schema(filepath, table_name, delimiter=','):\n",
    "    df = pd.read_csv(filepath, delimiter=delimiter)\n",
    "    type_map = {\n",
    "        'int64': 'INTEGER',\n",
    "        'float64': 'FLOAT',\n",
    "        'object': 'TEXT'\n",
    "    }\n",
    "\n",
    "    columns_sql = []\n",
    "    columns_sql.append(f\"  id INTEGER PRIMARY KEY AUTOINCREMENT,\\n\")\n",
    "    for column, dtype in df.dtypes.items():\n",
    "        if column == 'ID' or 'French' in column:\n",
    "            continue\n",
    "        column = column.lower().replace(' ', '_').replace('-', '_')\n",
    "        if column == 'state':\n",
    "            column = 'state_name'\n",
    "        columns_sql.append(f\"  {column} {type_map[dtype.name]},\\n\")\n",
    "    \n",
    "    command = f\"CREATE TABLE {table_name} (\\n{''.join(columns_sql)});\"\n",
    "    command = command[:-4] + '\\n);'\n",
    "    return command"
   ]
  },
  {
   "cell_type": "code",
   "execution_count": 86,
   "metadata": {},
   "outputs": [
    {
     "name": "stderr",
     "output_type": "stream",
     "text": [
      "/tmp/ipykernel_10050/3190012416.py:2: DtypeWarning: Columns (6,20,31,46,69,73) have mixed types. Specify dtype option on import or set low_memory=False.\n",
      "  df = pd.read_csv(filepath, delimiter=delimiter)\n"
     ]
    }
   ],
   "source": [
    "txt = csv2sql_schema(NREL_PATH, 'nrel', '\\t')"
   ]
  },
  {
   "cell_type": "code",
   "execution_count": 85,
   "metadata": {},
   "outputs": [],
   "source": [
    "with open('../electrifind/schema.sql', 'a', encoding='utf-8') as f:\n",
    "    f.write('\\n\\n')\n",
    "    f.write(txt)\n",
    "f.close()"
   ]
  }
 ],
 "metadata": {
  "kernelspec": {
   "display_name": ".venv",
   "language": "python",
   "name": "python3"
  },
  "language_info": {
   "codemirror_mode": {
    "name": "ipython",
    "version": 3
   },
   "file_extension": ".py",
   "mimetype": "text/x-python",
   "name": "python",
   "nbconvert_exporter": "python",
   "pygments_lexer": "ipython3",
   "version": "3.10.12"
  }
 },
 "nbformat": 4,
 "nbformat_minor": 2
}
