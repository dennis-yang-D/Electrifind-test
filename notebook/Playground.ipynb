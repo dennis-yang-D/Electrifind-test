{
 "cells": [
  {
   "cell_type": "code",
   "execution_count": 2,
   "metadata": {},
   "outputs": [],
   "source": [
    "import pandas as pd"
   ]
  },
  {
   "cell_type": "code",
   "execution_count": 83,
   "metadata": {},
   "outputs": [],
   "source": [
    "def csv2sql_schema(filepath, table_name, delimiter=','):\n",
    "    df = pd.read_csv(filepath, delimiter=delimiter)\n",
    "    type_map = {\n",
    "        'int64': 'INTEGER',\n",
    "        'float64': 'FLOAT',\n",
    "        'object': 'TEXT'\n",
    "    }\n",
    "\n",
    "    columns_sql = []\n",
    "    columns_sql.append(f\"  id INTEGER PRIMARY KEY AUTOINCREMENT,\\n\")\n",
    "    for column, dtype in df.dtypes.items():\n",
    "        if column == 'ID' or 'French' in column:\n",
    "            continue\n",
    "        column = column.lower().replace(' ', '_').replace('-', '_')\n",
    "        if column == 'state':\n",
    "            column = 'state_name'\n",
    "        columns_sql.append(f\"  {column} {type_map[dtype.name]},\\n\")\n",
    "    \n",
    "    command = f\"CREATE TABLE {table_name} (\\n{''.join(columns_sql)});\"\n",
    "    command = command[:-4] + '\\n);'\n",
    "    return command"
   ]
  },
  {
   "cell_type": "code",
   "execution_count": 86,
   "metadata": {},
   "outputs": [
    {
     "name": "stderr",
     "output_type": "stream",
     "text": [
      "/tmp/ipykernel_10050/3190012416.py:2: DtypeWarning: Columns (6,20,31,46,69,73) have mixed types. Specify dtype option on import or set low_memory=False.\n",
      "  df = pd.read_csv(filepath, delimiter=delimiter)\n"
     ]
    }
   ],
   "source": [
    "txt = csv2sql_schema('../data/NREL_raw.csv', 'nrel', '\\t')"
   ]
  },
  {
   "cell_type": "code",
   "execution_count": 85,
   "metadata": {},
   "outputs": [],
   "source": [
    "with open('../electrifind/schema.sql', 'a', encoding='utf-8') as f:\n",
    "    f.write('\\n\\n')\n",
    "    f.write(txt)\n",
    "f.close()"
   ]
  }
 ],
 "metadata": {
  "kernelspec": {
   "display_name": ".venv",
   "language": "python",
   "name": "python3"
  },
  "language_info": {
   "codemirror_mode": {
    "name": "ipython",
    "version": 3
   },
   "file_extension": ".py",
   "mimetype": "text/x-python",
   "name": "python",
   "nbconvert_exporter": "python",
   "pygments_lexer": "ipython3",
   "version": "3.10.12"
  }
 },
 "nbformat": 4,
 "nbformat_minor": 2
}
