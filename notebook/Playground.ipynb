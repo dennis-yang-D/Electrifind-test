{
 "cells": [
  {
   "cell_type": "code",
   "execution_count": 2,
   "metadata": {},
   "outputs": [],
   "source": [
    "import csv\n",
    "import pandas as pd\n",
    "from tqdm import tqdm"
   ]
  },
  {
   "cell_type": "code",
   "execution_count": 3,
   "metadata": {},
   "outputs": [],
   "source": [
    "NREL_PATH = '../data/NREL_raw.csv'"
   ]
  },
  {
   "cell_type": "code",
   "execution_count": 12,
   "metadata": {},
   "outputs": [
    {
     "data": {
      "text/html": [
       "<div>\n",
       "<style scoped>\n",
       "    .dataframe tbody tr th:only-of-type {\n",
       "        vertical-align: middle;\n",
       "    }\n",
       "\n",
       "    .dataframe tbody tr th {\n",
       "        vertical-align: top;\n",
       "    }\n",
       "\n",
       "    .dataframe thead th {\n",
       "        text-align: right;\n",
       "    }\n",
       "</style>\n",
       "<table border=\"1\" class=\"dataframe\">\n",
       "  <thead>\n",
       "    <tr style=\"text-align: right;\">\n",
       "      <th></th>\n",
       "      <th>id</th>\n",
       "      <th>station_name</th>\n",
       "      <th>street_address</th>\n",
       "      <th>intersection_directions</th>\n",
       "      <th>city</th>\n",
       "      <th>state_name</th>\n",
       "      <th>zip</th>\n",
       "      <th>plus4</th>\n",
       "      <th>station_phone</th>\n",
       "      <th>access_days_time</th>\n",
       "      <th>...</th>\n",
       "      <th>access_code</th>\n",
       "      <th>access_detail_code</th>\n",
       "      <th>federal_agency_code</th>\n",
       "      <th>facility_type</th>\n",
       "      <th>ev_pricing</th>\n",
       "      <th>ev_on_site_renewable_source</th>\n",
       "      <th>restricted_access</th>\n",
       "      <th>nps_unit_name</th>\n",
       "      <th>maximum_vehicle_class</th>\n",
       "      <th>ev_workplace_charging</th>\n",
       "    </tr>\n",
       "  </thead>\n",
       "  <tbody>\n",
       "    <tr>\n",
       "      <th>0</th>\n",
       "      <td>1517</td>\n",
       "      <td>LADWP - Truesdale Center</td>\n",
       "      <td>11797 Truesdale St</td>\n",
       "      <td>NaN</td>\n",
       "      <td>Sun Valley</td>\n",
       "      <td>CA</td>\n",
       "      <td>91352</td>\n",
       "      <td>NaN</td>\n",
       "      <td>NaN</td>\n",
       "      <td>Fleet use only</td>\n",
       "      <td>...</td>\n",
       "      <td>private</td>\n",
       "      <td>NaN</td>\n",
       "      <td>NaN</td>\n",
       "      <td>UTILITY</td>\n",
       "      <td>NaN</td>\n",
       "      <td>NaN</td>\n",
       "      <td>NaN</td>\n",
       "      <td>NaN</td>\n",
       "      <td>NaN</td>\n",
       "      <td>True</td>\n",
       "    </tr>\n",
       "  </tbody>\n",
       "</table>\n",
       "<p>1 rows × 38 columns</p>\n",
       "</div>"
      ],
      "text/plain": [
       "     id              station_name      street_address intersection_directions  \\\n",
       "0  1517  LADWP - Truesdale Center  11797 Truesdale St                     NaN   \n",
       "\n",
       "         city state_name    zip  plus4 station_phone access_days_time  ...  \\\n",
       "0  Sun Valley         CA  91352    NaN           NaN   Fleet use only  ...   \n",
       "\n",
       "  access_code  access_detail_code  federal_agency_code  facility_type  \\\n",
       "0     private                 NaN                  NaN        UTILITY   \n",
       "\n",
       "  ev_pricing ev_on_site_renewable_source restricted_access nps_unit_name  \\\n",
       "0        NaN                         NaN               NaN           NaN   \n",
       "\n",
       "   maximum_vehicle_class  ev_workplace_charging  \n",
       "0                    NaN                   True  \n",
       "\n",
       "[1 rows x 38 columns]"
      ]
     },
     "execution_count": 12,
     "metadata": {},
     "output_type": "execute_result"
    }
   ],
   "source": [
    "df = pd.read_csv(NREL_PATH, delimiter='\\t', low_memory=False)\n",
    "df[df['id'] == 1517]"
   ]
  },
  {
   "cell_type": "code",
   "execution_count": 8,
   "metadata": {},
   "outputs": [
    {
     "name": "stdout",
     "output_type": "stream",
     "text": [
      "INSERT INTO nrel (id, station_name, street_address, intersection_directions, city, state_name, zip, plus4, station_phone, access_days_time, cards_accepted, ev_level1_evse_num, ev_level2_evse_num, ev_dc_fast_count, ev_other_info, ev_network, ev_network_web, geocode_status, latitude, longitude, date_last_confirmed, updated_at, owner_type_code, federal_agency_id, federal_agency_name, open_date, ev_connector_types, country, access_code, access_detail_code, federal_agency_code, facility_type, ev_pricing, ev_on_site_renewable_source, restricted_access, nps_unit_name, maximum_vehicle_class, ev_workplace_charging) VALUES (53413, Lewis & Clark Community College, 5800 Godfrey Rd, One station between Erickson Hall and the Nursing Building in the 'Cabin Lot.' The other station is between Riverbend Arena and the Math Building., Godfrey, IL, 62035, NULL, 618-468-2782, 24 hours daily; visit security desk after normal business hours to use, NULL, NULL, 2.0, NULL, NULL, Non-Networked, NULL, GPS, 38.950131, -90.195222, 2021-01-14, 2022-04-28 20:01:31 UTC, P, NULL, NULL, 2012-07-01, J1772, US, public, NULL, NULL, COLLEGE_CAMPUS, Free, NULL, True, NULL, NULL, False)\n"
     ]
    }
   ],
   "source": [
    "with open(NREL_PATH, 'r') as f:\n",
    "    reader = csv.reader(f, delimiter='\\t')\n",
    "    columns = next(reader)\n",
    "    while True:\n",
    "        row = next(reader)\n",
    "        if row[0] == '53413':\n",
    "            break\n",
    "    for i, item in enumerate(row):\n",
    "        if item == '':\n",
    "            row[i] = 'NULL'\n",
    "        else:\n",
    "            row[i] = row[i].replace('\"', '\\'')\n",
    "    command = f'INSERT INTO nrel (' + ', '.join(columns) + \\\n",
    "        ') VALUES (' + ', '.join(row) + ')'\n",
    "    print(command)"
   ]
  },
  {
   "cell_type": "code",
   "execution_count": 83,
   "metadata": {},
   "outputs": [],
   "source": [
    "def csv2sql_schema(filepath, table_name, delimiter=','):\n",
    "    df = pd.read_csv(filepath, delimiter=delimiter)\n",
    "    type_map = {\n",
    "        'int64': 'INTEGER',\n",
    "        'float64': 'FLOAT',\n",
    "        'object': 'TEXT'\n",
    "    }\n",
    "\n",
    "    columns_sql = []\n",
    "    columns_sql.append(f\"  id INTEGER PRIMARY KEY AUTOINCREMENT,\\n\")\n",
    "    for column, dtype in df.dtypes.items():\n",
    "        if column == 'ID' or 'French' in column:\n",
    "            continue\n",
    "        column = column.lower().replace(' ', '_').replace('-', '_')\n",
    "        if column == 'state':\n",
    "            column = 'state_name'\n",
    "        columns_sql.append(f\"  {column} {type_map[dtype.name]},\\n\")\n",
    "    \n",
    "    command = f\"CREATE TABLE {table_name} (\\n{''.join(columns_sql)});\"\n",
    "    command = command[:-4] + '\\n);'\n",
    "    return command"
   ]
  },
  {
   "cell_type": "code",
   "execution_count": 86,
   "metadata": {},
   "outputs": [
    {
     "name": "stderr",
     "output_type": "stream",
     "text": [
      "/tmp/ipykernel_10050/3190012416.py:2: DtypeWarning: Columns (6,20,31,46,69,73) have mixed types. Specify dtype option on import or set low_memory=False.\n",
      "  df = pd.read_csv(filepath, delimiter=delimiter)\n"
     ]
    }
   ],
   "source": [
    "txt = csv2sql_schema(NREL_PATH, 'nrel', '\\t')"
   ]
  },
  {
   "cell_type": "code",
   "execution_count": 85,
   "metadata": {},
   "outputs": [],
   "source": [
    "with open('../electrifind/schema.sql', 'a', encoding='utf-8') as f:\n",
    "    f.write('\\n\\n')\n",
    "    f.write(txt)\n",
    "f.close()"
   ]
  }
 ],
 "metadata": {
  "kernelspec": {
   "display_name": ".venv",
   "language": "python",
   "name": "python3"
  },
  "language_info": {
   "codemirror_mode": {
    "name": "ipython",
    "version": 3
   },
   "file_extension": ".py",
   "mimetype": "text/x-python",
   "name": "python",
   "nbconvert_exporter": "python",
   "pygments_lexer": "ipython3",
   "version": "3.10.12"
  }
 },
 "nbformat": 4,
 "nbformat_minor": 2
}
