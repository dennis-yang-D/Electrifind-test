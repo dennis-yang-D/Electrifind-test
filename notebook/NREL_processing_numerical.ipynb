{
 "cells": [
  {
   "cell_type": "code",
   "execution_count": 22,
   "metadata": {},
   "outputs": [],
   "source": [
    "import numpy as np\n",
    "import pandas as pd\n",
    "import matplotlib.pyplot as plt\n",
    "import seaborn as sns\n",
    "import re"
   ]
  },
  {
   "cell_type": "markdown",
   "metadata": {},
   "source": [
    "This notebook selects the dimension and preprocess all the data into trainable values. "
   ]
  },
  {
   "cell_type": "markdown",
   "metadata": {},
   "source": [
    "## 1. Loading dataset"
   ]
  },
  {
   "cell_type": "code",
   "execution_count": 23,
   "metadata": {},
   "outputs": [
    {
     "name": "stdout",
     "output_type": "stream",
     "text": [
      "Dataset shape:  (69580, 74)\n"
     ]
    },
    {
     "name": "stderr",
     "output_type": "stream",
     "text": [
      "/tmp/ipykernel_33692/1813724092.py:1: DtypeWarning: Columns (6,20,31,46,69,73) have mixed types. Specify dtype option on import or set low_memory=False.\n",
      "  dataset_df = pd.read_csv('../data/NREL_raw.csv', delimiter='\\t')\n"
     ]
    }
   ],
   "source": [
    "dataset_df = pd.read_csv('../data/NREL_raw.csv', delimiter='\\t')\n",
    "print('Dataset shape: ', dataset_df.shape)"
   ]
  },
  {
   "cell_type": "markdown",
   "metadata": {},
   "source": [
    "The dataset contains 67622 rows and 28 columns. The top 5 rows are shown below.\n",
    "\n",
    "## 2. Exploratory Data Analysis\n",
    "\n",
    "First, we delete the columns that are not useful for our analysis. "
   ]
  },
  {
   "cell_type": "code",
   "execution_count": 24,
   "metadata": {},
   "outputs": [],
   "source": [
    "core_params = [\n",
    "    'ID', 'Cards Accepted', 'EV Level1 EVSE Num', 'EV Level2 EVSE Num', 'EV DC Fast Count',\n",
    "    'EV Network', 'Owner Type Code',\n",
    "    'EV Connector Types', 'Facility Type',\n",
    "    'EV Pricing', 'EV On-Site Renewable Source', \n",
    "    'Maximum Vehicle Class', 'EV Workplace Charging', 'Latitude', 'Longitude',\n",
    "    'Status Code', 'Groups With Access Code', 'Access Days Time', 'Restricted Access',\n",
    "    'Access Code', 'Access Detail Code'\n",
    "]\n",
    "dataset_df = dataset_df[core_params]"
   ]
  },
  {
   "cell_type": "code",
   "execution_count": 25,
   "metadata": {},
   "outputs": [],
   "source": [
    "def get_access_score(row):\n",
    "    score = 5\n",
    "    if row['Status Code'] != 'E':\n",
    "        return 0\n",
    "    if 'public' in row['Access Code'].lower():\n",
    "        if row['Groups With Access Code'].lower != 'public' or row['Access Detail Code'] != np.NAN:\n",
    "            score -= 1\n",
    "    else:\n",
    "        return 1\n",
    "    if row['Access Days Time'] != '24 hours daily':\n",
    "        score -= 1\n",
    "    return score"
   ]
  },
  {
   "cell_type": "code",
   "execution_count": 26,
   "metadata": {},
   "outputs": [],
   "source": [
    "dataset_df['Access Score'] = dataset_df.apply(get_access_score, axis=1)\n",
    "access_cols = ['Status Code', 'Groups With Access Code',\n",
    "               'Access Days Time', 'Restricted Access',\n",
    "               'Access Code', 'Access Detail Code']\n",
    "try:\n",
    "    dataset_df.drop(columns=access_cols, inplace=True)\n",
    "except KeyError:\n",
    "    pass"
   ]
  },
  {
   "cell_type": "markdown",
   "metadata": {},
   "source": [
    "Then, we check the basic distribution of the data."
   ]
  },
  {
   "cell_type": "code",
   "execution_count": 27,
   "metadata": {},
   "outputs": [
    {
     "name": "stdout",
     "output_type": "stream",
     "text": [
      "<class 'pandas.core.frame.DataFrame'>\n",
      "RangeIndex: 69580 entries, 0 to 69579\n",
      "Data columns (total 16 columns):\n",
      " #   Column                       Non-Null Count  Dtype  \n",
      "---  ------                       --------------  -----  \n",
      " 0   Cards Accepted               6008 non-null   object \n",
      " 1   EV Level1 EVSE Num           721 non-null    float64\n",
      " 2   EV Level2 EVSE Num           60642 non-null  float64\n",
      " 3   EV DC Fast Count             9853 non-null   float64\n",
      " 4   EV Network                   69576 non-null  object \n",
      " 5   Owner Type Code              18710 non-null  object \n",
      " 6   EV Connector Types           69541 non-null  object \n",
      " 7   Facility Type                17934 non-null  object \n",
      " 8   EV Pricing                   13867 non-null  object \n",
      " 9   EV On-Site Renewable Source  461 non-null    object \n",
      " 10  Maximum Vehicle Class        11333 non-null  object \n",
      " 11  EV Workplace Charging        69568 non-null  object \n",
      " 12  Latitude                     69580 non-null  float64\n",
      " 13  Longitude                    69580 non-null  float64\n",
      " 14  ID                           69580 non-null  int64  \n",
      " 15  Access Score                 69580 non-null  int64  \n",
      "dtypes: float64(5), int64(2), object(9)\n",
      "memory usage: 8.5+ MB\n"
     ]
    }
   ],
   "source": [
    "dataset_df.info()"
   ]
  },
  {
   "cell_type": "code",
   "execution_count": 28,
   "metadata": {},
   "outputs": [
    {
     "data": {
      "text/html": [
       "<div>\n",
       "<style scoped>\n",
       "    .dataframe tbody tr th:only-of-type {\n",
       "        vertical-align: middle;\n",
       "    }\n",
       "\n",
       "    .dataframe tbody tr th {\n",
       "        vertical-align: top;\n",
       "    }\n",
       "\n",
       "    .dataframe thead th {\n",
       "        text-align: right;\n",
       "    }\n",
       "</style>\n",
       "<table border=\"1\" class=\"dataframe\">\n",
       "  <thead>\n",
       "    <tr style=\"text-align: right;\">\n",
       "      <th></th>\n",
       "      <th>EV Level1 EVSE Num</th>\n",
       "      <th>EV Level2 EVSE Num</th>\n",
       "      <th>EV DC Fast Count</th>\n",
       "      <th>Latitude</th>\n",
       "      <th>Longitude</th>\n",
       "      <th>ID</th>\n",
       "      <th>Access Score</th>\n",
       "    </tr>\n",
       "  </thead>\n",
       "  <tbody>\n",
       "    <tr>\n",
       "      <th>count</th>\n",
       "      <td>721.000000</td>\n",
       "      <td>60642.000000</td>\n",
       "      <td>9853.000000</td>\n",
       "      <td>69580.000000</td>\n",
       "      <td>69580.000000</td>\n",
       "      <td>69580.00000</td>\n",
       "      <td>69580.000000</td>\n",
       "    </tr>\n",
       "    <tr>\n",
       "      <th>mean</th>\n",
       "      <td>4.192788</td>\n",
       "      <td>2.394199</td>\n",
       "      <td>4.073379</td>\n",
       "      <td>37.783060</td>\n",
       "      <td>-96.758217</td>\n",
       "      <td>194884.41190</td>\n",
       "      <td>3.382754</td>\n",
       "    </tr>\n",
       "    <tr>\n",
       "      <th>std</th>\n",
       "      <td>8.308313</td>\n",
       "      <td>3.203384</td>\n",
       "      <td>4.960972</td>\n",
       "      <td>5.051566</td>\n",
       "      <td>19.595697</td>\n",
       "      <td>70081.01809</td>\n",
       "      <td>1.173250</td>\n",
       "    </tr>\n",
       "    <tr>\n",
       "      <th>min</th>\n",
       "      <td>1.000000</td>\n",
       "      <td>1.000000</td>\n",
       "      <td>1.000000</td>\n",
       "      <td>-41.354100</td>\n",
       "      <td>-164.848855</td>\n",
       "      <td>1517.00000</td>\n",
       "      <td>0.000000</td>\n",
       "    </tr>\n",
       "    <tr>\n",
       "      <th>25%</th>\n",
       "      <td>1.000000</td>\n",
       "      <td>2.000000</td>\n",
       "      <td>1.000000</td>\n",
       "      <td>34.035555</td>\n",
       "      <td>-118.001416</td>\n",
       "      <td>158805.75000</td>\n",
       "      <td>3.000000</td>\n",
       "    </tr>\n",
       "    <tr>\n",
       "      <th>50%</th>\n",
       "      <td>2.000000</td>\n",
       "      <td>2.000000</td>\n",
       "      <td>2.000000</td>\n",
       "      <td>38.442366</td>\n",
       "      <td>-93.090816</td>\n",
       "      <td>189690.50000</td>\n",
       "      <td>4.000000</td>\n",
       "    </tr>\n",
       "    <tr>\n",
       "      <th>75%</th>\n",
       "      <td>3.000000</td>\n",
       "      <td>2.000000</td>\n",
       "      <td>6.000000</td>\n",
       "      <td>41.441737</td>\n",
       "      <td>-78.926864</td>\n",
       "      <td>236566.25000</td>\n",
       "      <td>4.000000</td>\n",
       "    </tr>\n",
       "    <tr>\n",
       "      <th>max</th>\n",
       "      <td>90.000000</td>\n",
       "      <td>338.000000</td>\n",
       "      <td>84.000000</td>\n",
       "      <td>64.852466</td>\n",
       "      <td>122.373276</td>\n",
       "      <td>326757.00000</td>\n",
       "      <td>4.000000</td>\n",
       "    </tr>\n",
       "  </tbody>\n",
       "</table>\n",
       "</div>"
      ],
      "text/plain": [
       "       EV Level1 EVSE Num  EV Level2 EVSE Num  EV DC Fast Count      Latitude  \\\n",
       "count          721.000000        60642.000000       9853.000000  69580.000000   \n",
       "mean             4.192788            2.394199          4.073379     37.783060   \n",
       "std              8.308313            3.203384          4.960972      5.051566   \n",
       "min              1.000000            1.000000          1.000000    -41.354100   \n",
       "25%              1.000000            2.000000          1.000000     34.035555   \n",
       "50%              2.000000            2.000000          2.000000     38.442366   \n",
       "75%              3.000000            2.000000          6.000000     41.441737   \n",
       "max             90.000000          338.000000         84.000000     64.852466   \n",
       "\n",
       "          Longitude            ID  Access Score  \n",
       "count  69580.000000   69580.00000  69580.000000  \n",
       "mean     -96.758217  194884.41190      3.382754  \n",
       "std       19.595697   70081.01809      1.173250  \n",
       "min     -164.848855    1517.00000      0.000000  \n",
       "25%     -118.001416  158805.75000      3.000000  \n",
       "50%      -93.090816  189690.50000      4.000000  \n",
       "75%      -78.926864  236566.25000      4.000000  \n",
       "max      122.373276  326757.00000      4.000000  "
      ]
     },
     "execution_count": 28,
     "metadata": {},
     "output_type": "execute_result"
    }
   ],
   "source": [
    "dataset_df.describe()"
   ]
  },
  {
   "cell_type": "markdown",
   "metadata": {},
   "source": [
    "## 3. Feature Engineering\n",
    "\n",
    "First, we categorize the types of features into 3 groups: numerical, categorical, and boolean."
   ]
  },
  {
   "cell_type": "code",
   "execution_count": 29,
   "metadata": {},
   "outputs": [
    {
     "name": "stdout",
     "output_type": "stream",
     "text": [
      "Numerical attributes:  ['EV Level1 EVSE Num', 'EV Level2 EVSE Num', 'EV DC Fast Count', 'Latitude', 'Longitude', 'ID', 'Access Score']\n",
      "Categorical attributes:  ['Cards Accepted', 'EV Network', 'Owner Type Code', 'EV Connector Types', 'Facility Type', 'EV Pricing', 'EV On-Site Renewable Source', 'Maximum Vehicle Class', 'EV Workplace Charging']\n",
      "Boolean attributes:  []\n"
     ]
    }
   ],
   "source": [
    "num_attribs = dataset_df.select_dtypes('number').columns.to_list()\n",
    "cat_attribs = dataset_df.select_dtypes('object').columns.to_list()\n",
    "bool_attribs = dataset_df.select_dtypes('bool').columns.to_list()\n",
    "print('Numerical attributes: ', num_attribs)\n",
    "print('Categorical attributes: ', cat_attribs)\n",
    "print('Boolean attributes: ', bool_attribs)"
   ]
  },
  {
   "cell_type": "markdown",
   "metadata": {},
   "source": [
    "Define functions to retrieve price information from the texts. "
   ]
  },
  {
   "cell_type": "code",
   "execution_count": 30,
   "metadata": {},
   "outputs": [],
   "source": [
    "def get_park_price(x):\n",
    "    x = str(x)\n",
    "    if str(x).lower() == 'free':\n",
    "        return 0\n",
    "    # Extract hourly rate\n",
    "    hourly_rate = re.findall(r'(\\$\\d+\\.?\\d*)-(\\$\\d+\\.?\\d*)/Hr \\w+ Parking Fee', x)\n",
    "    if not hourly_rate:\n",
    "        hourly_rate = re.findall(r'(\\$\\d+\\.?\\d*)/Hr Parking Fee', x)\n",
    "    if not hourly_rate:\n",
    "        hourly_rate = re.findall(r'(\\$\\d+\\.?\\d*) per hour', x)\n",
    "    if not hourly_rate:\n",
    "        hourly_rate = re.findall(r'(\\$\\d+\\.?\\d*) per minute', x)\n",
    "        hourly_rate = re.findall(r'\\d+\\.?\\d*', str(hourly_rate))\n",
    "        hourly_rate = [float(rate) * 60 for rate in hourly_rate]\n",
    "    # Convert to float if hourly_rate is found else return None\n",
    "    hourly_rate = re.findall(r'\\d+\\.?\\d*', str(hourly_rate))\n",
    "    for i in range(len(hourly_rate)):\n",
    "        hourly_rate[i] = float(hourly_rate[i])\n",
    "    if hourly_rate:\n",
    "        return np.mean(hourly_rate)\n",
    "    else:\n",
    "        return 0\n",
    "    \n",
    "def get_electric_price(x):\n",
    "    x = str(x)\n",
    "    if x.lower() == 'free':\n",
    "        return 0\n",
    "    # Extract hourly rate\n",
    "    rate = re.findall(r'(\\$\\d+\\.?\\d*)-(\\$\\d+\\.?\\d*)/kWh \\w+ Energy Fee', x)\n",
    "    if not rate:\n",
    "        rate = re.findall(r'(\\$\\d+\\.?\\d*)/kWh Energy Fee', x)\n",
    "    if not rate:\n",
    "        rate = re.findall(r'(\\$\\d+\\.?\\d*) per kWh', x)\n",
    "    # Convert to float if rate is found else return None\n",
    "    rate = re.findall(r'\\d+\\.?\\d*', str(rate))\n",
    "    for i in range(len(rate)):\n",
    "        rate[i] = float(rate[i])\n",
    "    if rate:\n",
    "        return np.mean(rate)\n",
    "    else:\n",
    "        return 0\n",
    "                     "
   ]
  },
  {
   "cell_type": "markdown",
   "metadata": {},
   "source": [
    "Verify the functions with the top 10 items with the highest appearance frequency."
   ]
  },
  {
   "cell_type": "code",
   "execution_count": 31,
   "metadata": {},
   "outputs": [
    {
     "name": "stdout",
     "output_type": "stream",
     "text": [
      "Free 0 0\n",
      "FREE 0 0\n",
      "$2.00/Hr Parking Fee 2.0 0\n",
      "$1.00/Hr Parking Fee 1.0 0\n",
      "$0.38 per kWh 0 0.38\n",
      "$0.30 per kWh 0 0.3\n",
      "$1.50/Hr Parking Fee 1.5 0\n",
      "$0.00-$5.00/Hr Variable Parking Fee 2.5 0\n",
      "$0.45 per kWh from 4pm-9pm; $0.30 per kWh all other times 0 0.375\n",
      "$0.25 per kWh 0 0.25\n"
     ]
    }
   ],
   "source": [
    "first_10 = dataset_df['EV Pricing'].value_counts().index[:10]\n",
    "for item in first_10:\n",
    "    print(item, get_park_price(item), get_electric_price(item))"
   ]
  },
  {
   "cell_type": "markdown",
   "metadata": {},
   "source": [
    "Apply the function to the data and get two columns for parking price and electricity price."
   ]
  },
  {
   "cell_type": "code",
   "execution_count": 32,
   "metadata": {},
   "outputs": [],
   "source": [
    "dataset_df['Park Pricing'] = dataset_df['EV Pricing'].apply(get_park_price)\n",
    "dataset_df['Electric Pricing'] = dataset_df['EV Pricing'].apply(get_electric_price)\n",
    "dataset_df.drop('EV Pricing', axis=1, inplace=True)"
   ]
  },
  {
   "cell_type": "markdown",
   "metadata": {},
   "source": [
    "Then, we deal with the numerical features. The histogram of the numerical features are shown below."
   ]
  },
  {
   "cell_type": "code",
   "execution_count": 33,
   "metadata": {},
   "outputs": [
    {
     "data": {
      "text/plain": [
       "<Axes: xlabel='EV DC Fast Count', ylabel='Count'>"
      ]
     },
     "execution_count": 33,
     "metadata": {},
     "output_type": "execute_result"
    },
    {
     "data": {
      "image/png": "[encoded data removed]",
      "text/plain": [
       "<Figure size 1000x1000 with 3 Axes>"
      ]
     },
     "metadata": {},
     "output_type": "display_data"
    }
   ],
   "source": [
    "fig, ax = plt.subplots(3, 1, figsize=(10, 10))\n",
    "fig.tight_layout(pad=3.0)\n",
    "\n",
    "sns.histplot(dataset_df['EV Level1 EVSE Num'], ax=ax[0])\n",
    "sns.histplot(dataset_df['EV Level2 EVSE Num'], ax=ax[1])\n",
    "sns.histplot(dataset_df['EV DC Fast Count'], ax=ax[2])"
   ]
  },
  {
   "cell_type": "markdown",
   "metadata": {},
   "source": [
    "Since the data is obviously skewed right. It is reasonable to fill the missing values with zero. "
   ]
  },
  {
   "cell_type": "code",
   "execution_count": 34,
   "metadata": {},
   "outputs": [],
   "source": [
    "dataset_df['EV Level1 EVSE Num'].fillna(0, inplace=True)\n",
    "dataset_df['EV Level2 EVSE Num'].fillna(0, inplace=True)\n",
    "dataset_df['EV DC Fast Count'].fillna(0, inplace=True)"
   ]
  },
  {
   "cell_type": "code",
   "execution_count": 35,
   "metadata": {},
   "outputs": [
    {
     "name": "stdout",
     "output_type": "stream",
     "text": [
      "Sample data:  A D Debit M V\n"
     ]
    }
   ],
   "source": [
    "print('Sample data: ', dataset_df['Cards Accepted'].value_counts().index[0])"
   ]
  },
  {
   "cell_type": "markdown",
   "metadata": {},
   "source": [
    "We convert this attribute to the number of payment methods supported."
   ]
  },
  {
   "cell_type": "code",
   "execution_count": 36,
   "metadata": {},
   "outputs": [],
   "source": [
    "dataset_df['Cards Accepted Num'] = dataset_df['Cards Accepted'].apply(lambda x: len(x.split(' ')) if type(x) == str else 0)\n",
    "dataset_df.drop('Cards Accepted', axis=1, inplace=True)\n",
    "    "
   ]
  },
  {
   "cell_type": "code",
   "execution_count": 37,
   "metadata": {},
   "outputs": [],
   "source": [
    "dataset_df['EV Connector Types Num'] = dataset_df['EV Connector Types'].apply(lambda x: len(x.split(' ')) if type(x) == str else 0)\n",
    "dataset_df.drop('EV Connector Types', axis=1, inplace=True)"
   ]
  },
  {
   "cell_type": "markdown",
   "metadata": {},
   "source": [
    "The EV Networks attribute comes in a similar format. However, because one station can only have a single EV network, we convert this attribute to encoded integers."
   ]
  },
  {
   "cell_type": "code",
   "execution_count": 38,
   "metadata": {},
   "outputs": [],
   "source": [
    "ev_networks_list = ['ChargePoint Network',\n",
    "                    'Non-Networked',\n",
    "                    'Blink Network',\n",
    "                    'Tesla',\n",
    "                    'Volta',\n",
    "                    'EV Connect',\n",
    "                    'SHELL_RECHARGE',\n",
    "                    'eVgo Network',\n",
    "                    'Electrify America',\n",
    "                    'AMPUP',\n",
    "                    'FLO',\n",
    "                    'RIVIAN',\n",
    "                    'LIVINGSTON', \n",
    "                    ]"
   ]
  },
  {
   "cell_type": "code",
   "execution_count": 39,
   "metadata": {},
   "outputs": [],
   "source": [
    "dataset_df['Network Enum'] = dataset_df['EV Network'].apply(lambda x: ev_networks_list.index(x) + 1 if x in ev_networks_list else 0)\n",
    "dataset_df.drop('EV Network', axis=1, inplace=True)"
   ]
  },
  {
   "cell_type": "markdown",
   "metadata": {},
   "source": [
    "The other categorical features are easier to play with, we can simply use one-hot encoding to convert them into numerical features."
   ]
  },
  {
   "cell_type": "code",
   "execution_count": 40,
   "metadata": {},
   "outputs": [],
   "source": [
    "owner_type_list = dataset_df['Owner Type Code'].value_counts().index[:10].to_list()\n",
    "dataset_df['Owner Type Code Enum'] = dataset_df['Owner Type Code'].apply(lambda x: owner_type_list.index(x) + 1 if x in owner_type_list else 0)\n",
    "dataset_df.drop('Owner Type Code', axis=1, inplace=True)"
   ]
  },
  {
   "cell_type": "code",
   "execution_count": 41,
   "metadata": {},
   "outputs": [
    {
     "data": {
      "text/plain": [
       "EV On-Site Renewable Source\n",
       "SOLAR         265\n",
       "NONE          148\n",
       "WIND           32\n",
       "HYDRO          13\n",
       "WASTEWATER      3\n",
       "Name: count, dtype: int64"
      ]
     },
     "execution_count": 41,
     "metadata": {},
     "output_type": "execute_result"
    }
   ],
   "source": [
    "dataset_df['EV On-Site Renewable Source'].value_counts()"
   ]
  },
  {
   "cell_type": "code",
   "execution_count": 42,
   "metadata": {},
   "outputs": [],
   "source": [
    "dataset_df['EV On-Site Renewable Source'] = dataset_df['EV On-Site Renewable Source'].apply(lambda x: 1 if x == 'SOLAR' else 0)"
   ]
  },
  {
   "cell_type": "code",
   "execution_count": 43,
   "metadata": {},
   "outputs": [
    {
     "data": {
      "text/plain": [
       "Maximum Vehicle Class\n",
       "LD    10874\n",
       "MD      328\n",
       "HD      131\n",
       "Name: count, dtype: int64"
      ]
     },
     "execution_count": 43,
     "metadata": {},
     "output_type": "execute_result"
    }
   ],
   "source": [
    "dataset_df['Maximum Vehicle Class'].value_counts()"
   ]
  },
  {
   "cell_type": "code",
   "execution_count": 44,
   "metadata": {},
   "outputs": [],
   "source": [
    "def map(x):\n",
    "    if x == 'LD':\n",
    "        return 1\n",
    "    elif x == 'MD':\n",
    "        return 2\n",
    "    elif x == 'HD':\n",
    "        return 3\n",
    "    else:\n",
    "        return 0\n",
    "\n",
    "dataset_df['Maximum Vehicle Class Enum'] = dataset_df['Maximum Vehicle Class'].apply(map)\n",
    "dataset_df.drop('Maximum Vehicle Class', axis=1, inplace=True)"
   ]
  },
  {
   "cell_type": "code",
   "execution_count": 45,
   "metadata": {},
   "outputs": [],
   "source": [
    "facilities = dataset_df['Facility Type'].value_counts()[:10].index.to_list()\n",
    "dataset_df['Facility Type Enum'] = dataset_df['Facility Type'].apply(lambda x: facilities.index(x) + 1 if x in facilities else 0)\n",
    "dataset_df.drop('Facility Type', axis=1, inplace=True)"
   ]
  },
  {
   "cell_type": "markdown",
   "metadata": {},
   "source": [
    "The preprocessing of the data is done. We can now move on to the next step."
   ]
  },
  {
   "cell_type": "code",
   "execution_count": 46,
   "metadata": {},
   "outputs": [
    {
     "data": {
      "text/html": [
       "<div>\n",
       "<style scoped>\n",
       "    .dataframe tbody tr th:only-of-type {\n",
       "        vertical-align: middle;\n",
       "    }\n",
       "\n",
       "    .dataframe tbody tr th {\n",
       "        vertical-align: top;\n",
       "    }\n",
       "\n",
       "    .dataframe thead th {\n",
       "        text-align: right;\n",
       "    }\n",
       "</style>\n",
       "<table border=\"1\" class=\"dataframe\">\n",
       "  <thead>\n",
       "    <tr style=\"text-align: right;\">\n",
       "      <th></th>\n",
       "      <th>EV Level1 EVSE Num</th>\n",
       "      <th>EV Level2 EVSE Num</th>\n",
       "      <th>EV DC Fast Count</th>\n",
       "      <th>EV On-Site Renewable Source</th>\n",
       "      <th>EV Workplace Charging</th>\n",
       "      <th>Latitude</th>\n",
       "      <th>Longitude</th>\n",
       "      <th>ID</th>\n",
       "      <th>Access Score</th>\n",
       "      <th>Park Pricing</th>\n",
       "      <th>Electric Pricing</th>\n",
       "      <th>Cards Accepted Num</th>\n",
       "      <th>EV Connector Types Num</th>\n",
       "      <th>Network Enum</th>\n",
       "      <th>Owner Type Code Enum</th>\n",
       "      <th>Maximum Vehicle Class Enum</th>\n",
       "      <th>Facility Type Enum</th>\n",
       "    </tr>\n",
       "  </thead>\n",
       "  <tbody>\n",
       "    <tr>\n",
       "      <th>0</th>\n",
       "      <td>0.0</td>\n",
       "      <td>57.0</td>\n",
       "      <td>2.0</td>\n",
       "      <td>0</td>\n",
       "      <td>True</td>\n",
       "      <td>34.248319</td>\n",
       "      <td>-118.387971</td>\n",
       "      <td>1517</td>\n",
       "      <td>1</td>\n",
       "      <td>0.0</td>\n",
       "      <td>0.0</td>\n",
       "      <td>0</td>\n",
       "      <td>3</td>\n",
       "      <td>7</td>\n",
       "      <td>2</td>\n",
       "      <td>0</td>\n",
       "      <td>10</td>\n",
       "    </tr>\n",
       "    <tr>\n",
       "      <th>1</th>\n",
       "      <td>0.0</td>\n",
       "      <td>7.0</td>\n",
       "      <td>0.0</td>\n",
       "      <td>0</td>\n",
       "      <td>False</td>\n",
       "      <td>34.040539</td>\n",
       "      <td>-118.271387</td>\n",
       "      <td>1523</td>\n",
       "      <td>3</td>\n",
       "      <td>0.0</td>\n",
       "      <td>0.0</td>\n",
       "      <td>0</td>\n",
       "      <td>1</td>\n",
       "      <td>2</td>\n",
       "      <td>1</td>\n",
       "      <td>1</td>\n",
       "      <td>0</td>\n",
       "    </tr>\n",
       "    <tr>\n",
       "      <th>2</th>\n",
       "      <td>0.0</td>\n",
       "      <td>338.0</td>\n",
       "      <td>12.0</td>\n",
       "      <td>0</td>\n",
       "      <td>True</td>\n",
       "      <td>34.059133</td>\n",
       "      <td>-118.248589</td>\n",
       "      <td>1525</td>\n",
       "      <td>1</td>\n",
       "      <td>0.0</td>\n",
       "      <td>0.0</td>\n",
       "      <td>0</td>\n",
       "      <td>3</td>\n",
       "      <td>2</td>\n",
       "      <td>2</td>\n",
       "      <td>1</td>\n",
       "      <td>10</td>\n",
       "    </tr>\n",
       "    <tr>\n",
       "      <th>3</th>\n",
       "      <td>0.0</td>\n",
       "      <td>19.0</td>\n",
       "      <td>1.0</td>\n",
       "      <td>0</td>\n",
       "      <td>True</td>\n",
       "      <td>33.759802</td>\n",
       "      <td>-118.096665</td>\n",
       "      <td>1531</td>\n",
       "      <td>1</td>\n",
       "      <td>0.0</td>\n",
       "      <td>0.0</td>\n",
       "      <td>0</td>\n",
       "      <td>3</td>\n",
       "      <td>2</td>\n",
       "      <td>2</td>\n",
       "      <td>0</td>\n",
       "      <td>10</td>\n",
       "    </tr>\n",
       "    <tr>\n",
       "      <th>4</th>\n",
       "      <td>0.0</td>\n",
       "      <td>10.0</td>\n",
       "      <td>0.0</td>\n",
       "      <td>0</td>\n",
       "      <td>True</td>\n",
       "      <td>33.770508</td>\n",
       "      <td>-118.265628</td>\n",
       "      <td>1552</td>\n",
       "      <td>1</td>\n",
       "      <td>0.0</td>\n",
       "      <td>0.0</td>\n",
       "      <td>0</td>\n",
       "      <td>1</td>\n",
       "      <td>2</td>\n",
       "      <td>2</td>\n",
       "      <td>0</td>\n",
       "      <td>10</td>\n",
       "    </tr>\n",
       "  </tbody>\n",
       "</table>\n",
       "</div>"
      ],
      "text/plain": [
       "   EV Level1 EVSE Num  EV Level2 EVSE Num  EV DC Fast Count  \\\n",
       "0                 0.0                57.0               2.0   \n",
       "1                 0.0                 7.0               0.0   \n",
       "2                 0.0               338.0              12.0   \n",
       "3                 0.0                19.0               1.0   \n",
       "4                 0.0                10.0               0.0   \n",
       "\n",
       "   EV On-Site Renewable Source EV Workplace Charging   Latitude   Longitude  \\\n",
       "0                            0                  True  34.248319 -118.387971   \n",
       "1                            0                 False  34.040539 -118.271387   \n",
       "2                            0                  True  34.059133 -118.248589   \n",
       "3                            0                  True  33.759802 -118.096665   \n",
       "4                            0                  True  33.770508 -118.265628   \n",
       "\n",
       "     ID  Access Score  Park Pricing  Electric Pricing  Cards Accepted Num  \\\n",
       "0  1517             1           0.0               0.0                   0   \n",
       "1  1523             3           0.0               0.0                   0   \n",
       "2  1525             1           0.0               0.0                   0   \n",
       "3  1531             1           0.0               0.0                   0   \n",
       "4  1552             1           0.0               0.0                   0   \n",
       "\n",
       "   EV Connector Types Num  Network Enum  Owner Type Code Enum  \\\n",
       "0                       3             7                     2   \n",
       "1                       1             2                     1   \n",
       "2                       3             2                     2   \n",
       "3                       3             2                     2   \n",
       "4                       1             2                     2   \n",
       "\n",
       "   Maximum Vehicle Class Enum  Facility Type Enum  \n",
       "0                           0                  10  \n",
       "1                           1                   0  \n",
       "2                           1                  10  \n",
       "3                           0                  10  \n",
       "4                           0                  10  "
      ]
     },
     "execution_count": 46,
     "metadata": {},
     "output_type": "execute_result"
    }
   ],
   "source": [
    "dataset_df.head()"
   ]
  },
  {
   "cell_type": "code",
   "execution_count": 47,
   "metadata": {},
   "outputs": [
    {
     "data": {
      "text/plain": [
       "EV Connector Types Num\n",
       "1    60901\n",
       "2     7724\n",
       "3      910\n",
       "0       39\n",
       "4        6\n",
       "Name: count, dtype: int64"
      ]
     },
     "execution_count": 47,
     "metadata": {},
     "output_type": "execute_result"
    }
   ],
   "source": [
    "dataset_df['EV Connector Types Num'].value_counts()"
   ]
  },
  {
   "cell_type": "markdown",
   "metadata": {},
   "source": [
    "Output the data to a csv file for future use."
   ]
  },
  {
   "cell_type": "code",
   "execution_count": 48,
   "metadata": {},
   "outputs": [],
   "source": [
    "dataset_df.to_csv('../data/.csv', index=False, encoding='utf-8')"
   ]
  }
 ],
 "metadata": {
  "kernelspec": {
   "display_name": "proj650",
   "language": "python",
   "name": "python3"
  },
  "language_info": {
   "codemirror_mode": {
    "name": "ipython",
    "version": 3
   },
   "file_extension": ".py",
   "mimetype": "text/x-python",
   "name": "python",
   "nbconvert_exporter": "python",
   "pygments_lexer": "ipython3",
   "version": "3.11.0"
  }
 },
 "nbformat": 4,
 "nbformat_minor": 2
}
