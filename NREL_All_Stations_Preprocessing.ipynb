{
 "cells": [
  {
   "cell_type": "code",
   "execution_count": 1,
   "metadata": {},
   "outputs": [],
   "source": [
    "import numpy as np\n",
    "import pandas as pd\n",
    "import matplotlib.pyplot as plt\n",
    "import seaborn as sns\n",
    "import re"
   ]
  },
  {
   "cell_type": "markdown",
   "metadata": {},
   "source": [
    "This notebook selects the dimension and preprocess all the data into trainable values. "
   ]
  },
  {
   "cell_type": "markdown",
   "metadata": {},
   "source": [
    "## 1. Loading dataset"
   ]
  },
  {
   "cell_type": "code",
   "execution_count": 2,
   "metadata": {},
   "outputs": [
    {
     "name": "stdout",
     "output_type": "stream",
     "text": [
      "Dataset shape:  (4053, 74)\n"
     ]
    }
   ],
   "source": [
    "dataset_df = pd.read_csv('data/filtered_nrel.csv', delimiter='\\t')\n",
    "print('Dataset shape: ', dataset_df.shape)"
   ]
  },
  {
   "cell_type": "markdown",
   "metadata": {},
   "source": [
    "The dataset contains 67622 rows and 28 columns. The top 5 rows are shown below.\n",
    "\n",
    "## 2. Exploratory Data Analysis\n",
    "\n",
    "First, we delete the columns that are not useful for our analysis. "
   ]
  },
  {
   "cell_type": "code",
   "execution_count": 3,
   "metadata": {},
   "outputs": [],
   "source": [
    "core_params = [\n",
    "    'Cards Accepted', 'EV Level1 EVSE Num', 'EV Level2 EVSE Num', 'EV DC Fast Count',\n",
    "    'EV Network', 'Latitude', 'Longitude', 'Owner Type Code',\n",
    "    'EV Connector Types', 'Restricted Access', 'Facility Type',\n",
    "    'EV Pricing', 'EV On-Site Renewable Source', \n",
    "    'Maximum Vehicle Class', 'EV Workplace Charging'\n",
    "]\n",
    "dataset_df = dataset_df[core_params]"
   ]
  },
  {
   "cell_type": "markdown",
   "metadata": {},
   "source": [
    "Then, we check the basic distribution of the data."
   ]
  },
  {
   "cell_type": "code",
   "execution_count": 4,
   "metadata": {},
   "outputs": [
    {
     "name": "stdout",
     "output_type": "stream",
     "text": [
      "<class 'pandas.core.frame.DataFrame'>\n",
      "RangeIndex: 4053 entries, 0 to 4052\n",
      "Data columns (total 15 columns):\n",
      " #   Column                       Non-Null Count  Dtype  \n",
      "---  ------                       --------------  -----  \n",
      " 0   Cards Accepted               476 non-null    object \n",
      " 1   EV Level1 EVSE Num           8 non-null      float64\n",
      " 2   EV Level2 EVSE Num           1782 non-null   float64\n",
      " 3   EV DC Fast Count             2535 non-null   float64\n",
      " 4   EV Network                   4053 non-null   object \n",
      " 5   Latitude                     4053 non-null   float64\n",
      " 6   Longitude                    4053 non-null   float64\n",
      " 7   Owner Type Code              1935 non-null   object \n",
      " 8   EV Connector Types           4053 non-null   object \n",
      " 9   Restricted Access            741 non-null    object \n",
      " 10  Facility Type                1396 non-null   object \n",
      " 11  EV Pricing                   799 non-null    object \n",
      " 12  EV On-Site Renewable Source  11 non-null     object \n",
      " 13  Maximum Vehicle Class        681 non-null    object \n",
      " 14  EV Workplace Charging        4053 non-null   bool   \n",
      "dtypes: bool(1), float64(5), object(9)\n",
      "memory usage: 447.4+ KB\n"
     ]
    }
   ],
   "source": [
    "dataset_df.info()"
   ]
  },
  {
   "cell_type": "code",
   "execution_count": 5,
   "metadata": {},
   "outputs": [
    {
     "data": {
      "text/html": [
       "<div>\n",
       "<style scoped>\n",
       "    .dataframe tbody tr th:only-of-type {\n",
       "        vertical-align: middle;\n",
       "    }\n",
       "\n",
       "    .dataframe tbody tr th {\n",
       "        vertical-align: top;\n",
       "    }\n",
       "\n",
       "    .dataframe thead th {\n",
       "        text-align: right;\n",
       "    }\n",
       "</style>\n",
       "<table border=\"1\" class=\"dataframe\">\n",
       "  <thead>\n",
       "    <tr style=\"text-align: right;\">\n",
       "      <th></th>\n",
       "      <th>EV Level1 EVSE Num</th>\n",
       "      <th>EV Level2 EVSE Num</th>\n",
       "      <th>EV DC Fast Count</th>\n",
       "      <th>Latitude</th>\n",
       "      <th>Longitude</th>\n",
       "    </tr>\n",
       "  </thead>\n",
       "  <tbody>\n",
       "    <tr>\n",
       "      <th>count</th>\n",
       "      <td>8.00000</td>\n",
       "      <td>1782.000000</td>\n",
       "      <td>2535.000000</td>\n",
       "      <td>4053.000000</td>\n",
       "      <td>4053.000000</td>\n",
       "    </tr>\n",
       "    <tr>\n",
       "      <th>mean</th>\n",
       "      <td>1.37500</td>\n",
       "      <td>2.287318</td>\n",
       "      <td>6.145168</td>\n",
       "      <td>38.004304</td>\n",
       "      <td>-93.601466</td>\n",
       "    </tr>\n",
       "    <tr>\n",
       "      <th>std</th>\n",
       "      <td>1.06066</td>\n",
       "      <td>1.622223</td>\n",
       "      <td>4.904960</td>\n",
       "      <td>5.220180</td>\n",
       "      <td>16.845066</td>\n",
       "    </tr>\n",
       "    <tr>\n",
       "      <th>min</th>\n",
       "      <td>1.00000</td>\n",
       "      <td>1.000000</td>\n",
       "      <td>1.000000</td>\n",
       "      <td>18.111876</td>\n",
       "      <td>-159.456719</td>\n",
       "    </tr>\n",
       "    <tr>\n",
       "      <th>25%</th>\n",
       "      <td>1.00000</td>\n",
       "      <td>2.000000</td>\n",
       "      <td>2.000000</td>\n",
       "      <td>34.447837</td>\n",
       "      <td>-106.341500</td>\n",
       "    </tr>\n",
       "    <tr>\n",
       "      <th>50%</th>\n",
       "      <td>1.00000</td>\n",
       "      <td>2.000000</td>\n",
       "      <td>4.000000</td>\n",
       "      <td>38.777042</td>\n",
       "      <td>-88.012535</td>\n",
       "    </tr>\n",
       "    <tr>\n",
       "      <th>75%</th>\n",
       "      <td>1.00000</td>\n",
       "      <td>2.000000</td>\n",
       "      <td>8.000000</td>\n",
       "      <td>41.578330</td>\n",
       "      <td>-80.366070</td>\n",
       "    </tr>\n",
       "    <tr>\n",
       "      <th>max</th>\n",
       "      <td>4.00000</td>\n",
       "      <td>18.000000</td>\n",
       "      <td>51.000000</td>\n",
       "      <td>61.573564</td>\n",
       "      <td>-65.821744</td>\n",
       "    </tr>\n",
       "  </tbody>\n",
       "</table>\n",
       "</div>"
      ],
      "text/plain": [
       "       EV Level1 EVSE Num  EV Level2 EVSE Num  EV DC Fast Count     Latitude  \\\n",
       "count             8.00000         1782.000000       2535.000000  4053.000000   \n",
       "mean              1.37500            2.287318          6.145168    38.004304   \n",
       "std               1.06066            1.622223          4.904960     5.220180   \n",
       "min               1.00000            1.000000          1.000000    18.111876   \n",
       "25%               1.00000            2.000000          2.000000    34.447837   \n",
       "50%               1.00000            2.000000          4.000000    38.777042   \n",
       "75%               1.00000            2.000000          8.000000    41.578330   \n",
       "max               4.00000           18.000000         51.000000    61.573564   \n",
       "\n",
       "         Longitude  \n",
       "count  4053.000000  \n",
       "mean    -93.601466  \n",
       "std      16.845066  \n",
       "min    -159.456719  \n",
       "25%    -106.341500  \n",
       "50%     -88.012535  \n",
       "75%     -80.366070  \n",
       "max     -65.821744  "
      ]
     },
     "execution_count": 5,
     "metadata": {},
     "output_type": "execute_result"
    }
   ],
   "source": [
    "dataset_df.describe()"
   ]
  },
  {
   "cell_type": "markdown",
   "metadata": {},
   "source": [
    "## 3. Feature Engineering\n",
    "\n",
    "First, we categorize the types of features into 3 groups: numerical, categorical, and boolean."
   ]
  },
  {
   "cell_type": "code",
   "execution_count": 6,
   "metadata": {},
   "outputs": [
    {
     "name": "stdout",
     "output_type": "stream",
     "text": [
      "Numerical attributes:  ['EV Level1 EVSE Num', 'EV Level2 EVSE Num', 'EV DC Fast Count', 'Latitude', 'Longitude']\n",
      "Categorical attributes:  ['Cards Accepted', 'EV Network', 'Owner Type Code', 'EV Connector Types', 'Restricted Access', 'Facility Type', 'EV Pricing', 'EV On-Site Renewable Source', 'Maximum Vehicle Class']\n",
      "Boolean attributes:  ['EV Workplace Charging']\n"
     ]
    }
   ],
   "source": [
    "num_attribs = dataset_df.select_dtypes('number').columns.to_list()\n",
    "cat_attribs = dataset_df.select_dtypes('object').columns.to_list()\n",
    "bool_attribs = dataset_df.select_dtypes('bool').columns.to_list()\n",
    "print('Numerical attributes: ', num_attribs)\n",
    "print('Categorical attributes: ', cat_attribs)\n",
    "print('Boolean attributes: ', bool_attribs)"
   ]
  },
  {
   "cell_type": "markdown",
   "metadata": {},
   "source": [
    "Convert boolean attributes into integers."
   ]
  },
  {
   "cell_type": "code",
   "execution_count": 7,
   "metadata": {},
   "outputs": [],
   "source": [
    "for bool_attrib in bool_attribs:\n",
    "    dataset_df[bool_attrib] = dataset_df[bool_attrib].astype('int64')\n",
    "dataset_df['Restricted Access'] = dataset_df['Restricted Access'].apply(lambda x: 1 if x == 'True' else 0)"
   ]
  },
  {
   "cell_type": "markdown",
   "metadata": {},
   "source": [
    "Define functions to retrieve price information from the texts. "
   ]
  },
  {
   "cell_type": "code",
   "execution_count": 8,
   "metadata": {},
   "outputs": [],
   "source": [
    "def get_park_price(x):\n",
    "    x = str(x)\n",
    "    if str(x).lower() == 'free':\n",
    "        return 0\n",
    "    # Extract hourly rate\n",
    "    hourly_rate = re.findall(r'(\\$\\d+\\.?\\d*)-(\\$\\d+\\.?\\d*)/Hr \\w+ Parking Fee', x)\n",
    "    if not hourly_rate:\n",
    "        hourly_rate = re.findall(r'(\\$\\d+\\.?\\d*)/Hr Parking Fee', x)\n",
    "    # Convert to float if hourly_rate is found else return None\n",
    "    hourly_rate = re.findall(r'\\d+\\.?\\d*', str(hourly_rate))\n",
    "    for i in range(len(hourly_rate)):\n",
    "        hourly_rate[i] = float(hourly_rate[i])\n",
    "    if hourly_rate:\n",
    "        return np.mean(hourly_rate)\n",
    "    else:\n",
    "        return -1\n",
    "    \n",
    "def get_electric_price(x):\n",
    "    x = str(x)\n",
    "    if x.lower() == 'free':\n",
    "        return 0\n",
    "    # Extract hourly rate\n",
    "    rate = re.findall(r'(\\$\\d+\\.?\\d*)-(\\$\\d+\\.?\\d*)/kWh \\w+ Energy Fee', x)\n",
    "    if not rate:\n",
    "        rate = re.findall(r'(\\$\\d+\\.?\\d*)/kWh Energy Fee', x)\n",
    "    if not rate:\n",
    "        rate = re.findall(r'(\\$\\d+\\.?\\d*) per kWh', x)\n",
    "    # Convert to float if rate is found else return None\n",
    "    rate = re.findall(r'\\d+\\.?\\d*', str(rate))\n",
    "    for i in range(len(rate)):\n",
    "        rate[i] = float(rate[i])\n",
    "    if rate:\n",
    "        return np.mean(rate)\n",
    "    else:\n",
    "        return -1\n",
    "                     "
   ]
  },
  {
   "cell_type": "markdown",
   "metadata": {},
   "source": [
    "Apply the function to the data and get two columns for parking price and electricity price."
   ]
  },
  {
   "cell_type": "code",
   "execution_count": 9,
   "metadata": {},
   "outputs": [],
   "source": [
    "dataset_df['park_price'] = dataset_df['EV Pricing'].apply(get_park_price)\n",
    "dataset_df['electric_price'] = dataset_df['EV Pricing'].apply(get_electric_price)\n",
    "dataset_df.drop('EV Pricing', axis=1, inplace=True)"
   ]
  },
  {
   "cell_type": "markdown",
   "metadata": {},
   "source": [
    "Then, we deal with the numerical features. The histogram of the numerical features are shown below."
   ]
  },
  {
   "cell_type": "code",
   "execution_count": 10,
   "metadata": {},
   "outputs": [
    {
     "data": {
      "text/plain": [
       "<Axes: xlabel='EV DC Fast Count', ylabel='Count'>"
      ]
     },
     "execution_count": 10,
     "metadata": {},
     "output_type": "execute_result"
    },
    {
     "data": {
      "image/png": "[encoded data removed]",
      "text/plain": [
       "<Figure size 1000x1000 with 3 Axes>"
      ]
     },
     "metadata": {},
     "output_type": "display_data"
    }
   ],
   "source": [
    "fig, ax = plt.subplots(3, 1, figsize=(10, 10))\n",
    "fig.tight_layout(pad=3.0)\n",
    "\n",
    "sns.histplot(dataset_df['EV Level1 EVSE Num'], ax=ax[0])\n",
    "sns.histplot(dataset_df['EV Level2 EVSE Num'], ax=ax[1])\n",
    "sns.histplot(dataset_df['EV DC Fast Count'], ax=ax[2])"
   ]
  },
  {
   "cell_type": "markdown",
   "metadata": {},
   "source": [
    "Since the data is obviously skewed right. It is reasonable to fill the missing values with zero. "
   ]
  },
  {
   "cell_type": "code",
   "execution_count": 11,
   "metadata": {},
   "outputs": [],
   "source": [
    "dataset_df['EV Level1 EVSE Num'].fillna(0, inplace=True)\n",
    "dataset_df['EV Level2 EVSE Num'].fillna(0, inplace=True)\n",
    "dataset_df['EV DC Fast Count'].fillna(0, inplace=True)"
   ]
  },
  {
   "cell_type": "code",
   "execution_count": 12,
   "metadata": {},
   "outputs": [
    {
     "name": "stdout",
     "output_type": "stream",
     "text": [
      "Sample data:  A D Debit M V\n",
      "Num of unique values:  15\n"
     ]
    }
   ],
   "source": [
    "print('Sample data: ', dataset_df['Cards Accepted'].value_counts().index[0])\n",
    "print('Num of unique values: ', dataset_df['Cards Accepted'].nunique())"
   ]
  },
  {
   "cell_type": "markdown",
   "metadata": {},
   "source": [
    "The data in card accepted are arrays separated by empty space. We can extract the most common keys from the API and create categorical features for each of them."
   ]
  },
  {
   "cell_type": "code",
   "execution_count": 13,
   "metadata": {},
   "outputs": [],
   "source": [
    "card_list = ['A', 'CREDIT', 'Debit', 'D', 'M', 'V', 'Visa',\n",
    "             'Cash', 'Checks', 'ACCOUNT_BALANCE', 'ALLIANCE',\n",
    "             'ANDROID_PAY', 'APPLE_PAY']"
   ]
  },
  {
   "cell_type": "code",
   "execution_count": 14,
   "metadata": {},
   "outputs": [],
   "source": [
    "for card in card_list:\n",
    "    dataset_df['Card_' + card] = dataset_df['Cards Accepted'].apply(lambda x: 1 if card in str(x) else 0)\n",
    "dataset_df.drop('Cards Accepted', axis=1, inplace=True)\n",
    "    "
   ]
  },
  {
   "cell_type": "markdown",
   "metadata": {},
   "source": [
    "The EV Networks attribute comes in a similar format, and we apply the same method to it. "
   ]
  },
  {
   "cell_type": "code",
   "execution_count": 15,
   "metadata": {},
   "outputs": [],
   "source": [
    "ev_networks_list = ['ChargePoint Network',\n",
    "                    'Non-Networked',\n",
    "                    'Blink Network',\n",
    "                    'Tesla',\n",
    "                    'Volta',\n",
    "                    'EV Connect',\n",
    "                    'SHELL_RECHARGE',\n",
    "                    'eVgo Network',\n",
    "                    'Electrify America',\n",
    "                    'AMPUP',\n",
    "                    'FLO',\n",
    "                    'RIVIAN',\n",
    "                    'LIVINGSTON']"
   ]
  },
  {
   "cell_type": "code",
   "execution_count": 16,
   "metadata": {},
   "outputs": [],
   "source": [
    "for network in ev_networks_list:\n",
    "    dataset_df['Network_' + network] = dataset_df['EV Network'].apply(lambda x: 1 if network in str(x) else 0)\n",
    "dataset_df.drop('EV Network', axis=1, inplace=True)"
   ]
  },
  {
   "cell_type": "markdown",
   "metadata": {},
   "source": [
    "The other categorical features are easier to play with, we can simply use one-hot encoding to convert them into numerical features."
   ]
  },
  {
   "cell_type": "code",
   "execution_count": 17,
   "metadata": {},
   "outputs": [],
   "source": [
    "dataset_dummies = pd.get_dummies(dataset_df['Owner Type Code'], prefix='Owner_Type')\n",
    "dataset_df = pd.concat([dataset_df, dataset_dummies], axis=1)\n",
    "dataset_df.drop('Owner Type Code', axis=1, inplace=True)"
   ]
  },
  {
   "cell_type": "code",
   "execution_count": 18,
   "metadata": {},
   "outputs": [
    {
     "data": {
      "text/plain": [
       "EV Connector Types\n",
       "TESLA                       1338\n",
       "J1772                       1052\n",
       "CHADEMO J1772COMBO          1032\n",
       "J1772 TESLA                  283\n",
       "CHADEMO J1772 J1772COMBO     205\n",
       "Name: count, dtype: int64"
      ]
     },
     "execution_count": 18,
     "metadata": {},
     "output_type": "execute_result"
    }
   ],
   "source": [
    "dataset_df['EV Connector Types'].value_counts().head()"
   ]
  },
  {
   "cell_type": "code",
   "execution_count": 19,
   "metadata": {},
   "outputs": [],
   "source": [
    "connector_list = ['NEMA1450', 'NEMA515', 'NEMA520', \n",
    "                  'J1772', 'J1772COMBO', 'CHADEMO', 'TESLA']\n",
    "for connector in connector_list:\n",
    "    dataset_df['Connector_' + connector] = dataset_df['EV Connector Types'].apply(lambda x: 1 if connector in str(x) else 0)\n",
    "dataset_df.drop('EV Connector Types', axis=1, inplace=True)"
   ]
  },
  {
   "cell_type": "code",
   "execution_count": 20,
   "metadata": {},
   "outputs": [
    {
     "data": {
      "text/plain": [
       "EV On-Site Renewable Source\n",
       "SOLAR    8\n",
       "HYDRO    3\n",
       "Name: count, dtype: int64"
      ]
     },
     "execution_count": 20,
     "metadata": {},
     "output_type": "execute_result"
    }
   ],
   "source": [
    "dataset_df['EV On-Site Renewable Source'].value_counts()"
   ]
  },
  {
   "cell_type": "code",
   "execution_count": 21,
   "metadata": {},
   "outputs": [],
   "source": [
    "dataset_dummies = pd.get_dummies(dataset_df['EV On-Site Renewable Source'], prefix='Renewable_Source')\n",
    "dataset_df = pd.concat([dataset_df, dataset_dummies], axis=1)\n",
    "dataset_df.drop('EV On-Site Renewable Source', axis=1, inplace=True)"
   ]
  },
  {
   "cell_type": "code",
   "execution_count": 22,
   "metadata": {},
   "outputs": [
    {
     "data": {
      "text/plain": [
       "Maximum Vehicle Class\n",
       "LD    673\n",
       "MD      7\n",
       "HD      1\n",
       "Name: count, dtype: int64"
      ]
     },
     "execution_count": 22,
     "metadata": {},
     "output_type": "execute_result"
    }
   ],
   "source": [
    "dataset_df['Maximum Vehicle Class'].value_counts()"
   ]
  },
  {
   "cell_type": "code",
   "execution_count": 23,
   "metadata": {},
   "outputs": [],
   "source": [
    "def map(x):\n",
    "    if x == 'LD':\n",
    "        return 1\n",
    "    elif x == 'MD':\n",
    "        return 2\n",
    "    elif x == 'HD':\n",
    "        return 3\n",
    "    else:\n",
    "        return 0\n",
    "\n",
    "dataset_df['Maximum_Vehicle_Class_Num'] = dataset_df['Maximum Vehicle Class'].apply(map)\n",
    "dataset_df.drop('Maximum Vehicle Class', axis=1, inplace=True)"
   ]
  },
  {
   "cell_type": "code",
   "execution_count": 24,
   "metadata": {},
   "outputs": [
    {
     "data": {
      "text/plain": [
       "['HOTEL',\n",
       " 'SHOPPING_CENTER',\n",
       " 'GAS_STATION',\n",
       " 'CAR_DEALER',\n",
       " 'GROCERY',\n",
       " 'CONVENIENCE_STORE',\n",
       " 'RESTAURANT',\n",
       " 'PARKING_LOT',\n",
       " 'SHOPPING_MALL',\n",
       " 'TRAVEL_CENTER']"
      ]
     },
     "execution_count": 24,
     "metadata": {},
     "output_type": "execute_result"
    }
   ],
   "source": [
    "facilities = dataset_df['Facility Type'].value_counts()[:10].index.to_list()\n",
    "facilities"
   ]
  },
  {
   "cell_type": "code",
   "execution_count": 25,
   "metadata": {},
   "outputs": [],
   "source": [
    "for facility in facilities:\n",
    "    dataset_df['Facility_' + facility] = dataset_df['Facility Type'].apply(lambda x: 1 if facility in str(x) else 0)\n",
    "dataset_df.drop('Facility Type', axis=1, inplace=True)"
   ]
  },
  {
   "cell_type": "markdown",
   "metadata": {},
   "source": [
    "The preprocessing of the data is done. We can now move on to the next step."
   ]
  },
  {
   "cell_type": "code",
   "execution_count": 26,
   "metadata": {},
   "outputs": [
    {
     "data": {
      "text/html": [
       "<div>\n",
       "<style scoped>\n",
       "    .dataframe tbody tr th:only-of-type {\n",
       "        vertical-align: middle;\n",
       "    }\n",
       "\n",
       "    .dataframe tbody tr th {\n",
       "        vertical-align: top;\n",
       "    }\n",
       "\n",
       "    .dataframe thead th {\n",
       "        text-align: right;\n",
       "    }\n",
       "</style>\n",
       "<table border=\"1\" class=\"dataframe\">\n",
       "  <thead>\n",
       "    <tr style=\"text-align: right;\">\n",
       "      <th></th>\n",
       "      <th>EV Level1 EVSE Num</th>\n",
       "      <th>EV Level2 EVSE Num</th>\n",
       "      <th>EV DC Fast Count</th>\n",
       "      <th>Latitude</th>\n",
       "      <th>Longitude</th>\n",
       "      <th>Restricted Access</th>\n",
       "      <th>EV Workplace Charging</th>\n",
       "      <th>park_price</th>\n",
       "      <th>electric_price</th>\n",
       "      <th>Card_A</th>\n",
       "      <th>...</th>\n",
       "      <th>Facility_HOTEL</th>\n",
       "      <th>Facility_SHOPPING_CENTER</th>\n",
       "      <th>Facility_GAS_STATION</th>\n",
       "      <th>Facility_CAR_DEALER</th>\n",
       "      <th>Facility_GROCERY</th>\n",
       "      <th>Facility_CONVENIENCE_STORE</th>\n",
       "      <th>Facility_RESTAURANT</th>\n",
       "      <th>Facility_PARKING_LOT</th>\n",
       "      <th>Facility_SHOPPING_MALL</th>\n",
       "      <th>Facility_TRAVEL_CENTER</th>\n",
       "    </tr>\n",
       "  </thead>\n",
       "  <tbody>\n",
       "    <tr>\n",
       "      <th>0</th>\n",
       "      <td>0.0</td>\n",
       "      <td>0.0</td>\n",
       "      <td>4.0</td>\n",
       "      <td>43.591420</td>\n",
       "      <td>-116.283590</td>\n",
       "      <td>0</td>\n",
       "      <td>0</td>\n",
       "      <td>-1.0</td>\n",
       "      <td>-1.0</td>\n",
       "      <td>0</td>\n",
       "      <td>...</td>\n",
       "      <td>0</td>\n",
       "      <td>0</td>\n",
       "      <td>0</td>\n",
       "      <td>0</td>\n",
       "      <td>0</td>\n",
       "      <td>0</td>\n",
       "      <td>0</td>\n",
       "      <td>0</td>\n",
       "      <td>0</td>\n",
       "      <td>0</td>\n",
       "    </tr>\n",
       "    <tr>\n",
       "      <th>1</th>\n",
       "      <td>0.0</td>\n",
       "      <td>0.0</td>\n",
       "      <td>8.0</td>\n",
       "      <td>43.592251</td>\n",
       "      <td>-116.279420</td>\n",
       "      <td>0</td>\n",
       "      <td>0</td>\n",
       "      <td>-1.0</td>\n",
       "      <td>-1.0</td>\n",
       "      <td>0</td>\n",
       "      <td>...</td>\n",
       "      <td>0</td>\n",
       "      <td>0</td>\n",
       "      <td>0</td>\n",
       "      <td>0</td>\n",
       "      <td>0</td>\n",
       "      <td>0</td>\n",
       "      <td>0</td>\n",
       "      <td>0</td>\n",
       "      <td>0</td>\n",
       "      <td>0</td>\n",
       "    </tr>\n",
       "    <tr>\n",
       "      <th>2</th>\n",
       "      <td>0.0</td>\n",
       "      <td>2.0</td>\n",
       "      <td>0.0</td>\n",
       "      <td>43.601863</td>\n",
       "      <td>-116.200223</td>\n",
       "      <td>0</td>\n",
       "      <td>0</td>\n",
       "      <td>-1.0</td>\n",
       "      <td>-1.0</td>\n",
       "      <td>0</td>\n",
       "      <td>...</td>\n",
       "      <td>0</td>\n",
       "      <td>0</td>\n",
       "      <td>0</td>\n",
       "      <td>0</td>\n",
       "      <td>0</td>\n",
       "      <td>0</td>\n",
       "      <td>0</td>\n",
       "      <td>0</td>\n",
       "      <td>0</td>\n",
       "      <td>0</td>\n",
       "    </tr>\n",
       "    <tr>\n",
       "      <th>3</th>\n",
       "      <td>0.0</td>\n",
       "      <td>2.0</td>\n",
       "      <td>0.0</td>\n",
       "      <td>43.601483</td>\n",
       "      <td>-116.272221</td>\n",
       "      <td>0</td>\n",
       "      <td>0</td>\n",
       "      <td>-1.0</td>\n",
       "      <td>-1.0</td>\n",
       "      <td>0</td>\n",
       "      <td>...</td>\n",
       "      <td>0</td>\n",
       "      <td>0</td>\n",
       "      <td>0</td>\n",
       "      <td>0</td>\n",
       "      <td>0</td>\n",
       "      <td>0</td>\n",
       "      <td>0</td>\n",
       "      <td>0</td>\n",
       "      <td>0</td>\n",
       "      <td>0</td>\n",
       "    </tr>\n",
       "    <tr>\n",
       "      <th>4</th>\n",
       "      <td>0.0</td>\n",
       "      <td>0.0</td>\n",
       "      <td>1.0</td>\n",
       "      <td>39.718408</td>\n",
       "      <td>-104.725254</td>\n",
       "      <td>0</td>\n",
       "      <td>0</td>\n",
       "      <td>-1.0</td>\n",
       "      <td>-1.0</td>\n",
       "      <td>0</td>\n",
       "      <td>...</td>\n",
       "      <td>0</td>\n",
       "      <td>0</td>\n",
       "      <td>0</td>\n",
       "      <td>0</td>\n",
       "      <td>0</td>\n",
       "      <td>0</td>\n",
       "      <td>0</td>\n",
       "      <td>0</td>\n",
       "      <td>0</td>\n",
       "      <td>0</td>\n",
       "    </tr>\n",
       "  </tbody>\n",
       "</table>\n",
       "<p>5 rows × 60 columns</p>\n",
       "</div>"
      ],
      "text/plain": [
       "   EV Level1 EVSE Num  EV Level2 EVSE Num  EV DC Fast Count   Latitude  \\\n",
       "0                 0.0                 0.0               4.0  43.591420   \n",
       "1                 0.0                 0.0               8.0  43.592251   \n",
       "2                 0.0                 2.0               0.0  43.601863   \n",
       "3                 0.0                 2.0               0.0  43.601483   \n",
       "4                 0.0                 0.0               1.0  39.718408   \n",
       "\n",
       "    Longitude  Restricted Access  EV Workplace Charging  park_price  \\\n",
       "0 -116.283590                  0                      0        -1.0   \n",
       "1 -116.279420                  0                      0        -1.0   \n",
       "2 -116.200223                  0                      0        -1.0   \n",
       "3 -116.272221                  0                      0        -1.0   \n",
       "4 -104.725254                  0                      0        -1.0   \n",
       "\n",
       "   electric_price  Card_A  ...  Facility_HOTEL  Facility_SHOPPING_CENTER  \\\n",
       "0            -1.0       0  ...               0                         0   \n",
       "1            -1.0       0  ...               0                         0   \n",
       "2            -1.0       0  ...               0                         0   \n",
       "3            -1.0       0  ...               0                         0   \n",
       "4            -1.0       0  ...               0                         0   \n",
       "\n",
       "   Facility_GAS_STATION  Facility_CAR_DEALER  Facility_GROCERY  \\\n",
       "0                     0                    0                 0   \n",
       "1                     0                    0                 0   \n",
       "2                     0                    0                 0   \n",
       "3                     0                    0                 0   \n",
       "4                     0                    0                 0   \n",
       "\n",
       "   Facility_CONVENIENCE_STORE  Facility_RESTAURANT  Facility_PARKING_LOT  \\\n",
       "0                           0                    0                     0   \n",
       "1                           0                    0                     0   \n",
       "2                           0                    0                     0   \n",
       "3                           0                    0                     0   \n",
       "4                           0                    0                     0   \n",
       "\n",
       "   Facility_SHOPPING_MALL  Facility_TRAVEL_CENTER  \n",
       "0                       0                       0  \n",
       "1                       0                       0  \n",
       "2                       0                       0  \n",
       "3                       0                       0  \n",
       "4                       0                       0  \n",
       "\n",
       "[5 rows x 60 columns]"
      ]
     },
     "execution_count": 26,
     "metadata": {},
     "output_type": "execute_result"
    }
   ],
   "source": [
    "dataset_df.head()"
   ]
  },
  {
   "cell_type": "markdown",
   "metadata": {},
   "source": [
    "Output the data to a csv file for future use."
   ]
  },
  {
   "cell_type": "code",
   "execution_count": 27,
   "metadata": {},
   "outputs": [],
   "source": [
    "dataset_df.to_csv('data/processed_nrel.csv', index=False)"
   ]
  }
 ],
 "metadata": {
  "kernelspec": {
   "display_name": "proj650",
   "language": "python",
   "name": "python3"
  },
  "language_info": {
   "codemirror_mode": {
    "name": "ipython",
    "version": 3
   },
   "file_extension": ".py",
   "mimetype": "text/x-python",
   "name": "python",
   "nbconvert_exporter": "python",
   "pygments_lexer": "ipython3",
   "version": "3.11.0rc1"
  }
 },
 "nbformat": 4,
 "nbformat_minor": 2
}
