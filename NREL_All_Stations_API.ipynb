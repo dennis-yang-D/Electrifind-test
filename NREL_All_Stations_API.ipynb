{
 "cells": [
  {
   "cell_type": "code",
   "execution_count": 13,
   "metadata": {},
   "outputs": [],
   "source": [
    "import csv\n",
    "import requests\n",
    "import numpy as np\n",
    "import pandas as pd\n",
    "import matplotlib.pyplot as plt\n",
    "import seaborn as sns"
   ]
  },
  {
   "cell_type": "code",
   "execution_count": 14,
   "metadata": {},
   "outputs": [],
   "source": [
    "API_URL = \"https://developer.nrel.gov/api/alt-fuel-stations/v1.csv\"\n",
    "API_PARAMS = {'api_key': 'EUe0n9InavfhKtKtmscW1Emd5b3IhaJwOkcHu3MN', 'fuel_type': 'ELEC'}\n",
    "RAW_FILE = \"./data/NREL_All_Stations_data.csv\""
   ]
  },
  {
   "cell_type": "code",
   "execution_count": 226,
   "metadata": {},
   "outputs": [],
   "source": [
    "def get_data(url, params, save_path):\n",
    "    r = requests.get(url, params=params)\n",
    "    print('Status Code: ', r.status_code)\n",
    "    decoded_content = r.content.decode('utf-8')\n",
    "    reader = csv.reader(decoded_content.splitlines(), delimiter=',')\n",
    "    with open(save_path, 'w') as f:\n",
    "        writer = csv.writer(f, delimiter='\\t')\n",
    "        for row in reader:\n",
    "            writer.writerow(row)\n",
    "    print('Data saved to: ', save_path)"
   ]
  },
  {
   "cell_type": "code",
   "execution_count": 227,
   "metadata": {},
   "outputs": [],
   "source": [
    "# get_data(API_URL, API_PARAMS, RAW_FILE)"
   ]
  },
  {
   "cell_type": "code",
   "execution_count": 15,
   "metadata": {},
   "outputs": [
    {
     "name": "stderr",
     "output_type": "stream",
     "text": [
      "/tmp/ipykernel_4828/3471019757.py:1: DtypeWarning: Columns (6,20,31,46,69,73) have mixed types. Specify dtype option on import or set low_memory=False.\n",
      "  raw_data = pd.read_csv(RAW_FILE, delimiter='\\t')\n"
     ]
    }
   ],
   "source": [
    "raw_data = pd.read_csv(RAW_FILE, delimiter='\\t')"
   ]
  },
  {
   "cell_type": "code",
   "execution_count": 16,
   "metadata": {},
   "outputs": [
    {
     "name": "stdout",
     "output_type": "stream",
     "text": [
      "<class 'pandas.core.frame.DataFrame'>\n",
      "RangeIndex: 67622 entries, 0 to 67621\n",
      "Data columns (total 74 columns):\n",
      " #   Column                                   Non-Null Count  Dtype  \n",
      "---  ------                                   --------------  -----  \n",
      " 0   Fuel Type Code                           67622 non-null  object \n",
      " 1   Station Name                             67621 non-null  object \n",
      " 2   Street Address                           67589 non-null  object \n",
      " 3   Intersection Directions                  2538 non-null   object \n",
      " 4   City                                     67618 non-null  object \n",
      " 5   State                                    67610 non-null  object \n",
      " 6   ZIP                                      67622 non-null  object \n",
      " 7   Plus4                                    0 non-null      float64\n",
      " 8   Station Phone                            63968 non-null  object \n",
      " 9   Status Code                              67622 non-null  object \n",
      " 10  Expected Date                            4390 non-null   object \n",
      " 11  Groups With Access Code                  67622 non-null  object \n",
      " 12  Access Days Time                         60507 non-null  object \n",
      " 13  Cards Accepted                           5357 non-null   object \n",
      " 14  BD Blends                                0 non-null      float64\n",
      " 15  NG Fill Type Code                        0 non-null      float64\n",
      " 16  NG PSI                                   0 non-null      float64\n",
      " 17  EV Level1 EVSE Num                       727 non-null    float64\n",
      " 18  EV Level2 EVSE Num                       59253 non-null  float64\n",
      " 19  EV DC Fast Count                         9238 non-null   float64\n",
      " 20  EV Other Info                            40 non-null     object \n",
      " 21  EV Network                               67619 non-null  object \n",
      " 22  EV Network Web                           58176 non-null  object \n",
      " 23  Geocode Status                           67622 non-null  object \n",
      " 24  Latitude                                 67622 non-null  float64\n",
      " 25  Longitude                                67622 non-null  float64\n",
      " 26  Date Last Confirmed                      67346 non-null  object \n",
      " 27  ID                                       67622 non-null  int64  \n",
      " 28  Updated At                               67622 non-null  object \n",
      " 29  Owner Type Code                          18236 non-null  object \n",
      " 30  Federal Agency ID                        1039 non-null   float64\n",
      " 31  Federal Agency Name                      1039 non-null   object \n",
      " 32  Open Date                                67476 non-null  object \n",
      " 33  Hydrogen Status Link                     0 non-null      float64\n",
      " 34  NG Vehicle Class                         0 non-null      float64\n",
      " 35  LPG Primary                              0 non-null      float64\n",
      " 36  E85 Blender Pump                         0 non-null      float64\n",
      " 37  EV Connector Types                       67585 non-null  object \n",
      " 38  Country                                  67622 non-null  object \n",
      " 39  Intersection Directions (French)         0 non-null      float64\n",
      " 40  Access Days Time (French)                0 non-null      float64\n",
      " 41  BD Blends (French)                       0 non-null      float64\n",
      " 42  Groups With Access Code (French)         67622 non-null  object \n",
      " 43  Hydrogen Is Retail                       0 non-null      float64\n",
      " 44  Access Code                              67621 non-null  object \n",
      " 45  Access Detail Code                       4694 non-null   object \n",
      " 46  Federal Agency Code                      1039 non-null   object \n",
      " 47  Facility Type                            17338 non-null  object \n",
      " 48  CNG Dispenser Num                        0 non-null      float64\n",
      " 49  CNG On-Site Renewable Source             0 non-null      float64\n",
      " 50  CNG Total Compression Capacity           0 non-null      float64\n",
      " 51  CNG Storage Capacity                     0 non-null      float64\n",
      " 52  LNG On-Site Renewable Source             0 non-null      float64\n",
      " 53  E85 Other Ethanol Blends                 0 non-null      float64\n",
      " 54  EV Pricing                               13797 non-null  object \n",
      " 55  EV Pricing (French)                      0 non-null      float64\n",
      " 56  LPG Nozzle Types                         0 non-null      float64\n",
      " 57  Hydrogen Pressures                       0 non-null      float64\n",
      " 58  Hydrogen Standards                       0 non-null      float64\n",
      " 59  CNG Fill Type Code                       0 non-null      float64\n",
      " 60  CNG PSI                                  0 non-null      float64\n",
      " 61  CNG Vehicle Class                        0 non-null      float64\n",
      " 62  LNG Vehicle Class                        0 non-null      float64\n",
      " 63  EV On-Site Renewable Source              416 non-null    object \n",
      " 64  Restricted Access                        10433 non-null  object \n",
      " 65  RD Blends                                0 non-null      float64\n",
      " 66  RD Blends (French)                       0 non-null      float64\n",
      " 67  RD Blended with Biodiesel                0 non-null      float64\n",
      " 68  RD Maximum Biodiesel Level               0 non-null      float64\n",
      " 69  NPS Unit Name                            186 non-null    object \n",
      " 70  CNG Station Sells Renewable Natural Gas  0 non-null      float64\n",
      " 71  LNG Station Sells Renewable Natural Gas  0 non-null      float64\n",
      " 72  Maximum Vehicle Class                    10359 non-null  object \n",
      " 73  EV Workplace Charging                    67612 non-null  object \n",
      "dtypes: float64(38), int64(1), object(35)\n",
      "memory usage: 38.2+ MB\n"
     ]
    }
   ],
   "source": [
    "raw_data.info()"
   ]
  },
  {
   "cell_type": "code",
   "execution_count": 229,
   "metadata": {},
   "outputs": [],
   "source": [
    "accepted_params = [\n",
    "    'Station Name', 'Street Address',\n",
    "    'Intersection Directions', 'City', 'State', 'ZIP', 'Plus4',\n",
    "    'Station Phone', 'Status Code', 'Expected Date',\n",
    "    'Groups With Access Code', 'Access Days Time', 'Cards Accepted',\n",
    "    'EV Level1 EVSE Num', 'EV Level2 EVSE Num', 'EV DC Fast Count', \n",
    "    'EV Other Info', 'EV Network',\n",
    "    'EV Network Web', 'Geocode Status', 'Latitude', 'Longitude',\n",
    "    'Date Last Confirmed', 'Updated At', 'Owner Type Code',\n",
    "    'Federal Agency ID', 'Federal Agency Name', 'Open Date',\n",
    "    'EV Connector Types', 'Access Code', 'Access Detail Code',\n",
    "    'Federal Agency Code', 'Facility Type', \n",
    "    'EV Pricing', 'EV On-Site Renewable Source', 'Restricted Access',\n",
    "    'NPS Unit Name', 'Maximum Vehicle Class', 'EV Workplace Charging'\n",
    "    ]\n",
    "raw_data = raw_data[accepted_params]\n",
    "raw_data.to_csv('./data/NREL_All_Stations_data_selected.csv', index=False, sep='\\t')"
   ]
  },
  {
   "cell_type": "code",
   "execution_count": 230,
   "metadata": {},
   "outputs": [],
   "source": [
    "core_params = [\n",
    "    'Station Name', 'Street Address', 'State', 'Status Code', 'Expected Date',\n",
    "    'Groups With Access Code', 'Access Days Time', 'Cards Accepted',\n",
    "    'EV Level1 EVSE Num', 'EV Level2 EVSE Num', 'EV DC Fast Count', \n",
    "    'EV Other Info', 'EV Network',\n",
    "    'EV Network Web', 'Latitude', 'Longitude',\n",
    "    'Date Last Confirmed', 'Owner Type Code', 'Open Date',\n",
    "    'EV Connector Types', 'Access Code', 'Access Detail Code', 'Facility Type', \n",
    "    'EV Pricing', 'EV On-Site Renewable Source', 'Restricted Access',\n",
    "    'NPS Unit Name', 'Maximum Vehicle Class', 'EV Workplace Charging'\n",
    "    ]\n",
    "raw_data = raw_data[core_params]\n",
    "raw_data.to_csv('./data/NREL_All_Stations_data_si618.csv', index=False, sep='\\t')"
   ]
  },
  {
   "cell_type": "code",
   "execution_count": 39,
   "metadata": {},
   "outputs": [],
   "source": [
    "test_params = [\n",
    "    'Station Name', 'Street Address', 'Status Code', 'Groups With Access Code', 'Access Days Time', 'Cards Accepted',\n",
    "    'EV Level1 EVSE Num', 'EV Level2 EVSE Num', 'EV DC Fast Count', \n",
    "    'EV Network', 'EV Network Web', 'Latitude', 'Longitude',\n",
    "    'Owner Type Code', 'Open Date',\n",
    "    'EV Connector Types', 'Facility Type', \n",
    "    'EV Pricing', 'Restricted Access',\n",
    "    'Maximum Vehicle Class', 'EV Workplace Charging'\n",
    "    ]\n",
    "raw_data = raw_data[test_params]"
   ]
  },
  {
   "cell_type": "code",
   "execution_count": 40,
   "metadata": {},
   "outputs": [
    {
     "name": "stdout",
     "output_type": "stream",
     "text": [
      "<class 'pandas.core.frame.DataFrame'>\n",
      "RangeIndex: 67622 entries, 0 to 67621\n",
      "Data columns (total 21 columns):\n",
      " #   Column                   Non-Null Count  Dtype  \n",
      "---  ------                   --------------  -----  \n",
      " 0   Station Name             67621 non-null  object \n",
      " 1   Street Address           67589 non-null  object \n",
      " 2   Status Code              67622 non-null  object \n",
      " 3   Groups With Access Code  67622 non-null  object \n",
      " 4   Access Days Time         60507 non-null  object \n",
      " 5   Cards Accepted           5357 non-null   object \n",
      " 6   EV Level1 EVSE Num       727 non-null    float64\n",
      " 7   EV Level2 EVSE Num       59253 non-null  float64\n",
      " 8   EV DC Fast Count         9238 non-null   float64\n",
      " 9   EV Network               67619 non-null  object \n",
      " 10  EV Network Web           58176 non-null  object \n",
      " 11  Latitude                 67622 non-null  float64\n",
      " 12  Longitude                67622 non-null  float64\n",
      " 13  Owner Type Code          18236 non-null  object \n",
      " 14  Open Date                67476 non-null  object \n",
      " 15  EV Connector Types       67585 non-null  object \n",
      " 16  Facility Type            17338 non-null  object \n",
      " 17  EV Pricing               13797 non-null  object \n",
      " 18  Restricted Access        10433 non-null  object \n",
      " 19  Maximum Vehicle Class    10359 non-null  object \n",
      " 20  EV Workplace Charging    67612 non-null  object \n",
      "dtypes: float64(5), object(16)\n",
      "memory usage: 10.8+ MB\n"
     ]
    }
   ],
   "source": [
    "raw_data.info()"
   ]
  },
  {
   "cell_type": "code",
   "execution_count": 41,
   "metadata": {},
   "outputs": [
    {
     "data": {
      "text/plain": [
       "EV Pricing\n",
       "Free                                                         9889\n",
       "FREE                                                          924\n",
       "$2.00/Hr Parking Fee                                          224\n",
       "Pricing unknown                                               223\n",
       "$1.00/Hr Parking Fee                                          125\n",
       "                                                             ... \n",
       "$2 initiation fee + $0.14 per kW                                1\n",
       "Free for first 3 hours, $10 per hour afterward                  1\n",
       "Paid through InCharge                                           1\n",
       "$1 session fee and $0.25 per kWh; $0.01 per hour idle fee       1\n",
       "$0.39 per kWh; free for internal use                            1\n",
       "Name: count, Length: 761, dtype: int64"
      ]
     },
     "execution_count": 41,
     "metadata": {},
     "output_type": "execute_result"
    }
   ],
   "source": [
    "raw_data['EV Pricing'].value_counts()"
   ]
  },
  {
   "cell_type": "code",
   "execution_count": 232,
   "metadata": {},
   "outputs": [
    {
     "data": {
      "text/plain": [
       "(67622, 21)"
      ]
     },
     "execution_count": 232,
     "metadata": {},
     "output_type": "execute_result"
    }
   ],
   "source": [
    "raw_data.shape"
   ]
  },
  {
   "cell_type": "code",
   "execution_count": 17,
   "metadata": {},
   "outputs": [],
   "source": [
    "raw_data.Latitude = raw_data.Latitude.astype(float)\n",
    "raw_data.Longitude = raw_data.Longitude.astype(float)"
   ]
  },
  {
   "cell_type": "code",
   "execution_count": 23,
   "metadata": {},
   "outputs": [
    {
     "data": {
      "text/plain": [
       "<Axes: xlabel='State', ylabel='count'>"
      ]
     },
     "execution_count": 23,
     "metadata": {},
     "output_type": "execute_result"
    },
    {
     "data": {
      "image/png": "[encoded data removed]",
      "text/plain": [
       "<Figure size 640x480 with 1 Axes>"
      ]
     },
     "metadata": {},
     "output_type": "display_data"
    }
   ],
   "source": [
    "sns.countplot(x='State', data=raw_data, orient='v')"
   ]
  },
  {
   "cell_type": "code",
   "execution_count": 27,
   "metadata": {},
   "outputs": [
    {
     "data": {
      "image/png": "[encoded data removed]",
      "text/plain": [
       "<Figure size 640x480 with 1 Axes>"
      ]
     },
     "metadata": {},
     "output_type": "display_data"
    }
   ],
   "source": [
    "hist = sns.histplot(data=raw_data, x='Status Code')"
   ]
  },
  {
   "cell_type": "code",
   "execution_count": 28,
   "metadata": {},
   "outputs": [
    {
     "data": {
      "image/png": "[encoded data removed]",
      "text/plain": [
       "<Figure size 640x480 with 1 Axes>"
      ]
     },
     "metadata": {},
     "output_type": "display_data"
    }
   ],
   "source": [
    "hist = sns.histplot(data=raw_data, x='Facility Type')"
   ]
  },
  {
   "cell_type": "code",
   "execution_count": 30,
   "metadata": {},
   "outputs": [
    {
     "data": {
      "text/plain": [
       "<Axes: xlabel='EV Workplace Charging', ylabel='count'>"
      ]
     },
     "execution_count": 30,
     "metadata": {},
     "output_type": "execute_result"
    },
    {
     "data": {
      "image/png": "[encoded data removed]",
      "text/plain": [
       "<Figure size 640x480 with 1 Axes>"
      ]
     },
     "metadata": {},
     "output_type": "display_data"
    }
   ],
   "source": [
    "sns.countplot(x='EV Workplace Charging', data=raw_data, orient='v')"
   ]
  },
  {
   "cell_type": "code",
   "execution_count": 38,
   "metadata": {},
   "outputs": [
    {
     "data": {
      "text/plain": [
       "<Axes: xlabel='EV DC Fast Count', ylabel='Count'>"
      ]
     },
     "execution_count": 38,
     "metadata": {},
     "output_type": "execute_result"
    },
    {
     "data": {
      "image/png": "[encoded data removed]",
      "text/plain": [
       "<Figure size 1000x1000 with 3 Axes>"
      ]
     },
     "metadata": {},
     "output_type": "display_data"
    }
   ],
   "source": [
    "fig, ax = plt.subplots(3, 1, figsize=(10, 10))\n",
    "plt.subplots_adjust(top=2)\n",
    "\n",
    "sns.histplot(data=raw_data, x='EV Level1 EVSE Num', bins=10, ax=ax[0])\n",
    "sns.histplot(data=raw_data, x='EV Level2 EVSE Num', bins=10, ax=ax[1])\n",
    "sns.histplot(data=raw_data, x='EV DC Fast Count', bins=10, ax=ax[2])"
   ]
  },
  {
   "cell_type": "code",
   "execution_count": 234,
   "metadata": {},
   "outputs": [
    {
     "data": {
      "text/html": [
       "<div>\n",
       "<style scoped>\n",
       "    .dataframe tbody tr th:only-of-type {\n",
       "        vertical-align: middle;\n",
       "    }\n",
       "\n",
       "    .dataframe tbody tr th {\n",
       "        vertical-align: top;\n",
       "    }\n",
       "\n",
       "    .dataframe thead th {\n",
       "        text-align: right;\n",
       "    }\n",
       "</style>\n",
       "<table border=\"1\" class=\"dataframe\">\n",
       "  <thead>\n",
       "    <tr style=\"text-align: right;\">\n",
       "      <th></th>\n",
       "      <th>Station Name</th>\n",
       "      <th>Street Address</th>\n",
       "      <th>Status Code</th>\n",
       "      <th>Groups With Access Code</th>\n",
       "      <th>Access Days Time</th>\n",
       "      <th>Cards Accepted</th>\n",
       "      <th>EV Level1 EVSE Num</th>\n",
       "      <th>EV Level2 EVSE Num</th>\n",
       "      <th>EV DC Fast Count</th>\n",
       "      <th>EV Network</th>\n",
       "      <th>...</th>\n",
       "      <th>Latitude</th>\n",
       "      <th>Longitude</th>\n",
       "      <th>Owner Type Code</th>\n",
       "      <th>Open Date</th>\n",
       "      <th>EV Connector Types</th>\n",
       "      <th>Facility Type</th>\n",
       "      <th>EV Pricing</th>\n",
       "      <th>Restricted Access</th>\n",
       "      <th>Maximum Vehicle Class</th>\n",
       "      <th>EV Workplace Charging</th>\n",
       "    </tr>\n",
       "  </thead>\n",
       "  <tbody>\n",
       "    <tr>\n",
       "      <th>0</th>\n",
       "      <td>LADWP - Truesdale Center</td>\n",
       "      <td>11797 Truesdale St</td>\n",
       "      <td>E</td>\n",
       "      <td>Private</td>\n",
       "      <td>Fleet use only</td>\n",
       "      <td>NaN</td>\n",
       "      <td>NaN</td>\n",
       "      <td>57.0</td>\n",
       "      <td>2.0</td>\n",
       "      <td>SHELL_RECHARGE</td>\n",
       "      <td>...</td>\n",
       "      <td>34.248319</td>\n",
       "      <td>-118.387971</td>\n",
       "      <td>LG</td>\n",
       "      <td>1999-10-15</td>\n",
       "      <td>CHADEMO J1772 J1772COMBO</td>\n",
       "      <td>UTILITY</td>\n",
       "      <td>NaN</td>\n",
       "      <td>NaN</td>\n",
       "      <td>NaN</td>\n",
       "      <td>True</td>\n",
       "    </tr>\n",
       "    <tr>\n",
       "      <th>1</th>\n",
       "      <td>LADWP - West LA District Office</td>\n",
       "      <td>1394 S Sepulveda Blvd</td>\n",
       "      <td>E</td>\n",
       "      <td>Private</td>\n",
       "      <td>NaN</td>\n",
       "      <td>NaN</td>\n",
       "      <td>NaN</td>\n",
       "      <td>4.0</td>\n",
       "      <td>NaN</td>\n",
       "      <td>Non-Networked</td>\n",
       "      <td>...</td>\n",
       "      <td>34.052542</td>\n",
       "      <td>-118.448504</td>\n",
       "      <td>LG</td>\n",
       "      <td>2020-02-28</td>\n",
       "      <td>J1772</td>\n",
       "      <td>UTILITY</td>\n",
       "      <td>Free</td>\n",
       "      <td>NaN</td>\n",
       "      <td>NaN</td>\n",
       "      <td>True</td>\n",
       "    </tr>\n",
       "    <tr>\n",
       "      <th>2</th>\n",
       "      <td>Los Angeles Convention Center</td>\n",
       "      <td>1201 S Figueroa St</td>\n",
       "      <td>E</td>\n",
       "      <td>Public</td>\n",
       "      <td>5:30am-9pm; pay lot</td>\n",
       "      <td>NaN</td>\n",
       "      <td>NaN</td>\n",
       "      <td>7.0</td>\n",
       "      <td>NaN</td>\n",
       "      <td>Non-Networked</td>\n",
       "      <td>...</td>\n",
       "      <td>34.040539</td>\n",
       "      <td>-118.271387</td>\n",
       "      <td>P</td>\n",
       "      <td>1995-08-30</td>\n",
       "      <td>J1772</td>\n",
       "      <td>PARKING_GARAGE</td>\n",
       "      <td>Free; parking fee</td>\n",
       "      <td>False</td>\n",
       "      <td>LD</td>\n",
       "      <td>False</td>\n",
       "    </tr>\n",
       "    <tr>\n",
       "      <th>3</th>\n",
       "      <td>LADWP - John Ferraro Building</td>\n",
       "      <td>111 N Hope St</td>\n",
       "      <td>E</td>\n",
       "      <td>Private</td>\n",
       "      <td>For fleet and employee use only</td>\n",
       "      <td>NaN</td>\n",
       "      <td>NaN</td>\n",
       "      <td>338.0</td>\n",
       "      <td>12.0</td>\n",
       "      <td>Non-Networked</td>\n",
       "      <td>...</td>\n",
       "      <td>34.059133</td>\n",
       "      <td>-118.248589</td>\n",
       "      <td>LG</td>\n",
       "      <td>1999-10-15</td>\n",
       "      <td>CHADEMO J1772 J1772COMBO</td>\n",
       "      <td>UTILITY</td>\n",
       "      <td>NaN</td>\n",
       "      <td>NaN</td>\n",
       "      <td>LD</td>\n",
       "      <td>True</td>\n",
       "    </tr>\n",
       "    <tr>\n",
       "      <th>4</th>\n",
       "      <td>LADWP - Haynes Power Plant</td>\n",
       "      <td>6801 E 2nd St</td>\n",
       "      <td>E</td>\n",
       "      <td>Private</td>\n",
       "      <td>Fleet use only</td>\n",
       "      <td>NaN</td>\n",
       "      <td>NaN</td>\n",
       "      <td>19.0</td>\n",
       "      <td>1.0</td>\n",
       "      <td>Non-Networked</td>\n",
       "      <td>...</td>\n",
       "      <td>33.759802</td>\n",
       "      <td>-118.096665</td>\n",
       "      <td>LG</td>\n",
       "      <td>2018-05-01</td>\n",
       "      <td>CHADEMO J1772 J1772COMBO</td>\n",
       "      <td>UTILITY</td>\n",
       "      <td>NaN</td>\n",
       "      <td>NaN</td>\n",
       "      <td>NaN</td>\n",
       "      <td>True</td>\n",
       "    </tr>\n",
       "  </tbody>\n",
       "</table>\n",
       "<p>5 rows × 21 columns</p>\n",
       "</div>"
      ],
      "text/plain": [
       "                      Station Name         Street Address Status Code  \\\n",
       "0         LADWP - Truesdale Center     11797 Truesdale St           E   \n",
       "1  LADWP - West LA District Office  1394 S Sepulveda Blvd           E   \n",
       "2    Los Angeles Convention Center     1201 S Figueroa St           E   \n",
       "3    LADWP - John Ferraro Building          111 N Hope St           E   \n",
       "4       LADWP - Haynes Power Plant          6801 E 2nd St           E   \n",
       "\n",
       "  Groups With Access Code                 Access Days Time Cards Accepted  \\\n",
       "0                 Private                   Fleet use only            NaN   \n",
       "1                 Private                              NaN            NaN   \n",
       "2                  Public              5:30am-9pm; pay lot            NaN   \n",
       "3                 Private  For fleet and employee use only            NaN   \n",
       "4                 Private                   Fleet use only            NaN   \n",
       "\n",
       "   EV Level1 EVSE Num  EV Level2 EVSE Num  EV DC Fast Count      EV Network  \\\n",
       "0                 NaN                57.0               2.0  SHELL_RECHARGE   \n",
       "1                 NaN                 4.0               NaN   Non-Networked   \n",
       "2                 NaN                 7.0               NaN   Non-Networked   \n",
       "3                 NaN               338.0              12.0   Non-Networked   \n",
       "4                 NaN                19.0               1.0   Non-Networked   \n",
       "\n",
       "   ...   Latitude   Longitude  Owner Type Code   Open Date  \\\n",
       "0  ...  34.248319 -118.387971               LG  1999-10-15   \n",
       "1  ...  34.052542 -118.448504               LG  2020-02-28   \n",
       "2  ...  34.040539 -118.271387                P  1995-08-30   \n",
       "3  ...  34.059133 -118.248589               LG  1999-10-15   \n",
       "4  ...  33.759802 -118.096665               LG  2018-05-01   \n",
       "\n",
       "         EV Connector Types   Facility Type         EV Pricing  \\\n",
       "0  CHADEMO J1772 J1772COMBO         UTILITY                NaN   \n",
       "1                     J1772         UTILITY               Free   \n",
       "2                     J1772  PARKING_GARAGE  Free; parking fee   \n",
       "3  CHADEMO J1772 J1772COMBO         UTILITY                NaN   \n",
       "4  CHADEMO J1772 J1772COMBO         UTILITY                NaN   \n",
       "\n",
       "  Restricted Access Maximum Vehicle Class EV Workplace Charging  \n",
       "0               NaN                   NaN                  True  \n",
       "1               NaN                   NaN                  True  \n",
       "2             False                    LD                 False  \n",
       "3               NaN                    LD                  True  \n",
       "4               NaN                   NaN                  True  \n",
       "\n",
       "[5 rows x 21 columns]"
      ]
     },
     "execution_count": 234,
     "metadata": {},
     "output_type": "execute_result"
    }
   ],
   "source": [
    "raw_data.head()"
   ]
  },
  {
   "cell_type": "code",
   "execution_count": 235,
   "metadata": {},
   "outputs": [],
   "source": [
    "raw_data.to_csv('./data/NREL_All_Stations_data_si650.csv', index=False, sep='\\t')"
   ]
  },
  {
   "cell_type": "code",
   "execution_count": 236,
   "metadata": {},
   "outputs": [],
   "source": [
    "google_data = pd.read_csv('./data/Google_Map_review_data.csv')"
   ]
  },
  {
   "cell_type": "code",
   "execution_count": 237,
   "metadata": {},
   "outputs": [],
   "source": [
    "google_data.lat = google_data.lat.astype(float)\n",
    "google_data.lng = google_data.lng.astype(float)"
   ]
  },
  {
   "cell_type": "code",
   "execution_count": 238,
   "metadata": {},
   "outputs": [],
   "source": [
    "mask = (abs(raw_data.Latitude - google_data.lat[0]) < 0.001) & (abs(raw_data.Longitude - google_data.lng[0]) < 0.001)"
   ]
  },
  {
   "cell_type": "code",
   "execution_count": 243,
   "metadata": {},
   "outputs": [
    {
     "data": {
      "text/html": [
       "<div>\n",
       "<style scoped>\n",
       "    .dataframe tbody tr th:only-of-type {\n",
       "        vertical-align: middle;\n",
       "    }\n",
       "\n",
       "    .dataframe tbody tr th {\n",
       "        vertical-align: top;\n",
       "    }\n",
       "\n",
       "    .dataframe thead th {\n",
       "        text-align: right;\n",
       "    }\n",
       "</style>\n",
       "<table border=\"1\" class=\"dataframe\">\n",
       "  <thead>\n",
       "    <tr style=\"text-align: right;\">\n",
       "      <th></th>\n",
       "      <th>Station Name</th>\n",
       "      <th>Street Address</th>\n",
       "      <th>Status Code</th>\n",
       "      <th>Groups With Access Code</th>\n",
       "      <th>Access Days Time</th>\n",
       "      <th>Cards Accepted</th>\n",
       "      <th>EV Level1 EVSE Num</th>\n",
       "      <th>EV Level2 EVSE Num</th>\n",
       "      <th>EV DC Fast Count</th>\n",
       "      <th>EV Network</th>\n",
       "      <th>...</th>\n",
       "      <th>Latitude</th>\n",
       "      <th>Longitude</th>\n",
       "      <th>Owner Type Code</th>\n",
       "      <th>Open Date</th>\n",
       "      <th>EV Connector Types</th>\n",
       "      <th>Facility Type</th>\n",
       "      <th>EV Pricing</th>\n",
       "      <th>Restricted Access</th>\n",
       "      <th>Maximum Vehicle Class</th>\n",
       "      <th>EV Workplace Charging</th>\n",
       "    </tr>\n",
       "  </thead>\n",
       "  <tbody>\n",
       "    <tr>\n",
       "      <th>11784</th>\n",
       "      <td>Walmart 2508 - Boise, ID</td>\n",
       "      <td>8300 W. Overland Rd</td>\n",
       "      <td>E</td>\n",
       "      <td>Public</td>\n",
       "      <td>24 hours daily</td>\n",
       "      <td>NaN</td>\n",
       "      <td>NaN</td>\n",
       "      <td>NaN</td>\n",
       "      <td>4.0</td>\n",
       "      <td>Electrify America</td>\n",
       "      <td>...</td>\n",
       "      <td>43.59142</td>\n",
       "      <td>-116.28359</td>\n",
       "      <td>NaN</td>\n",
       "      <td>2019-04-26</td>\n",
       "      <td>CHADEMO J1772COMBO</td>\n",
       "      <td>NaN</td>\n",
       "      <td>NaN</td>\n",
       "      <td>NaN</td>\n",
       "      <td>NaN</td>\n",
       "      <td>False</td>\n",
       "    </tr>\n",
       "  </tbody>\n",
       "</table>\n",
       "<p>1 rows × 21 columns</p>\n",
       "</div>"
      ],
      "text/plain": [
       "                   Station Name       Street Address Status Code  \\\n",
       "11784  Walmart 2508 - Boise, ID  8300 W. Overland Rd           E   \n",
       "\n",
       "      Groups With Access Code Access Days Time Cards Accepted  \\\n",
       "11784                  Public   24 hours daily            NaN   \n",
       "\n",
       "       EV Level1 EVSE Num  EV Level2 EVSE Num  EV DC Fast Count  \\\n",
       "11784                 NaN                 NaN               4.0   \n",
       "\n",
       "              EV Network  ...  Latitude  Longitude  Owner Type Code  \\\n",
       "11784  Electrify America  ...  43.59142 -116.28359              NaN   \n",
       "\n",
       "        Open Date  EV Connector Types Facility Type EV Pricing  \\\n",
       "11784  2019-04-26  CHADEMO J1772COMBO           NaN        NaN   \n",
       "\n",
       "      Restricted Access Maximum Vehicle Class EV Workplace Charging  \n",
       "11784               NaN                   NaN                 False  \n",
       "\n",
       "[1 rows x 21 columns]"
      ]
     },
     "execution_count": 243,
     "metadata": {},
     "output_type": "execute_result"
    }
   ],
   "source": [
    "selected = raw_data[mask]\n",
    "selected"
   ]
  },
  {
   "cell_type": "code",
   "execution_count": 239,
   "metadata": {},
   "outputs": [
    {
     "data": {
      "text/html": [
       "<div>\n",
       "<style scoped>\n",
       "    .dataframe tbody tr th:only-of-type {\n",
       "        vertical-align: middle;\n",
       "    }\n",
       "\n",
       "    .dataframe tbody tr th {\n",
       "        vertical-align: top;\n",
       "    }\n",
       "\n",
       "    .dataframe thead th {\n",
       "        text-align: right;\n",
       "    }\n",
       "</style>\n",
       "<table border=\"1\" class=\"dataframe\">\n",
       "  <thead>\n",
       "    <tr style=\"text-align: right;\">\n",
       "      <th></th>\n",
       "      <th>name</th>\n",
       "      <th>business_status</th>\n",
       "      <th>address</th>\n",
       "      <th>lat</th>\n",
       "      <th>lng</th>\n",
       "      <th>types</th>\n",
       "      <th>rating</th>\n",
       "      <th>user_ratings_total</th>\n",
       "      <th>#charging_stations</th>\n",
       "      <th>text</th>\n",
       "      <th>author_name</th>\n",
       "      <th>author_url</th>\n",
       "      <th>relative_time_description</th>\n",
       "      <th>time</th>\n",
       "      <th>Unnamed: 14</th>\n",
       "    </tr>\n",
       "  </thead>\n",
       "  <tbody>\n",
       "    <tr>\n",
       "      <th>0</th>\n",
       "      <td>Electrify America Charging Station</td>\n",
       "      <td>OPERATIONAL</td>\n",
       "      <td>8300 W Overland Rd, Boise, ID 83709, USA</td>\n",
       "      <td>43.59165</td>\n",
       "      <td>-116.283556</td>\n",
       "      <td>point_of_interest, establishment</td>\n",
       "      <td>5</td>\n",
       "      <td>9</td>\n",
       "      <td>5</td>\n",
       "      <td>Electric Vehicle Charging\\ngood location in Wa...</td>\n",
       "      <td>Anmar Abdullah</td>\n",
       "      <td>https://www.google.com/maps/contrib/1149397606...</td>\n",
       "      <td>7 months ago</td>\n",
       "      <td>2022-09-25 21:33:44</td>\n",
       "      <td>0</td>\n",
       "    </tr>\n",
       "    <tr>\n",
       "      <th>1</th>\n",
       "      <td>Electrify America Charging Station</td>\n",
       "      <td>OPERATIONAL</td>\n",
       "      <td>8300 W Overland Rd, Boise, ID 83709, USA</td>\n",
       "      <td>43.59165</td>\n",
       "      <td>-116.283556</td>\n",
       "      <td>point_of_interest, establishment</td>\n",
       "      <td>4</td>\n",
       "      <td>9</td>\n",
       "      <td>5</td>\n",
       "      <td>The rates seem a little high and I often find ...</td>\n",
       "      <td>Space Ghost</td>\n",
       "      <td>https://www.google.com/maps/contrib/1005346496...</td>\n",
       "      <td>4 months ago</td>\n",
       "      <td>2023-01-06 2:41:54</td>\n",
       "      <td>0</td>\n",
       "    </tr>\n",
       "    <tr>\n",
       "      <th>2</th>\n",
       "      <td>Electrify America Charging Station</td>\n",
       "      <td>OPERATIONAL</td>\n",
       "      <td>8300 W Overland Rd, Boise, ID 83709, USA</td>\n",
       "      <td>43.59165</td>\n",
       "      <td>-116.283556</td>\n",
       "      <td>point_of_interest, establishment</td>\n",
       "      <td>1</td>\n",
       "      <td>9</td>\n",
       "      <td>5</td>\n",
       "      <td>Tried 3 different chargers . Still couldn’t ge...</td>\n",
       "      <td>Roxanna Todd</td>\n",
       "      <td>https://www.google.com/maps/contrib/1171099222...</td>\n",
       "      <td>4 months ago</td>\n",
       "      <td>2022-12-18 23:50:11</td>\n",
       "      <td>0</td>\n",
       "    </tr>\n",
       "    <tr>\n",
       "      <th>3</th>\n",
       "      <td>Electrify America Charging Station</td>\n",
       "      <td>OPERATIONAL</td>\n",
       "      <td>8300 W Overland Rd, Boise, ID 83709, USA</td>\n",
       "      <td>43.59165</td>\n",
       "      <td>-116.283556</td>\n",
       "      <td>point_of_interest, establishment</td>\n",
       "      <td>3</td>\n",
       "      <td>9</td>\n",
       "      <td>5</td>\n",
       "      <td>There's always at least one charger not workin...</td>\n",
       "      <td>Andy Jensen</td>\n",
       "      <td>https://www.google.com/maps/contrib/1112728836...</td>\n",
       "      <td>7 months ago</td>\n",
       "      <td>2022-10-12 22:01:23</td>\n",
       "      <td>0</td>\n",
       "    </tr>\n",
       "    <tr>\n",
       "      <th>4</th>\n",
       "      <td>Electrify America Charging Station</td>\n",
       "      <td>OPERATIONAL</td>\n",
       "      <td>8300 W Overland Rd, Boise, ID 83709, USA</td>\n",
       "      <td>43.59165</td>\n",
       "      <td>-116.283556</td>\n",
       "      <td>point_of_interest, establishment</td>\n",
       "      <td>2</td>\n",
       "      <td>9</td>\n",
       "      <td>5</td>\n",
       "      <td>Frustrating as hell!  Most of them require a 2...</td>\n",
       "      <td>John Hudson</td>\n",
       "      <td>https://www.google.com/maps/contrib/1025132783...</td>\n",
       "      <td>9 months ago</td>\n",
       "      <td>2022-07-24 2:35:54</td>\n",
       "      <td>0</td>\n",
       "    </tr>\n",
       "  </tbody>\n",
       "</table>\n",
       "</div>"
      ],
      "text/plain": [
       "                                 name business_status  \\\n",
       "0  Electrify America Charging Station     OPERATIONAL   \n",
       "1  Electrify America Charging Station     OPERATIONAL   \n",
       "2  Electrify America Charging Station     OPERATIONAL   \n",
       "3  Electrify America Charging Station     OPERATIONAL   \n",
       "4  Electrify America Charging Station     OPERATIONAL   \n",
       "\n",
       "                                    address       lat         lng  \\\n",
       "0  8300 W Overland Rd, Boise, ID 83709, USA  43.59165 -116.283556   \n",
       "1  8300 W Overland Rd, Boise, ID 83709, USA  43.59165 -116.283556   \n",
       "2  8300 W Overland Rd, Boise, ID 83709, USA  43.59165 -116.283556   \n",
       "3  8300 W Overland Rd, Boise, ID 83709, USA  43.59165 -116.283556   \n",
       "4  8300 W Overland Rd, Boise, ID 83709, USA  43.59165 -116.283556   \n",
       "\n",
       "                              types  rating  user_ratings_total  \\\n",
       "0  point_of_interest, establishment       5                   9   \n",
       "1  point_of_interest, establishment       4                   9   \n",
       "2  point_of_interest, establishment       1                   9   \n",
       "3  point_of_interest, establishment       3                   9   \n",
       "4  point_of_interest, establishment       2                   9   \n",
       "\n",
       "   #charging_stations                                               text  \\\n",
       "0                   5  Electric Vehicle Charging\\ngood location in Wa...   \n",
       "1                   5  The rates seem a little high and I often find ...   \n",
       "2                   5  Tried 3 different chargers . Still couldn’t ge...   \n",
       "3                   5  There's always at least one charger not workin...   \n",
       "4                   5  Frustrating as hell!  Most of them require a 2...   \n",
       "\n",
       "      author_name                                         author_url  \\\n",
       "0  Anmar Abdullah  https://www.google.com/maps/contrib/1149397606...   \n",
       "1     Space Ghost  https://www.google.com/maps/contrib/1005346496...   \n",
       "2    Roxanna Todd  https://www.google.com/maps/contrib/1171099222...   \n",
       "3     Andy Jensen  https://www.google.com/maps/contrib/1112728836...   \n",
       "4     John Hudson  https://www.google.com/maps/contrib/1025132783...   \n",
       "\n",
       "  relative_time_description                 time  Unnamed: 14  \n",
       "0              7 months ago  2022-09-25 21:33:44            0  \n",
       "1              4 months ago   2023-01-06 2:41:54            0  \n",
       "2              4 months ago  2022-12-18 23:50:11            0  \n",
       "3              7 months ago  2022-10-12 22:01:23            0  \n",
       "4              9 months ago   2022-07-24 2:35:54            0  "
      ]
     },
     "execution_count": 239,
     "metadata": {},
     "output_type": "execute_result"
    }
   ],
   "source": [
    "google_data.head()"
   ]
  },
  {
   "cell_type": "code",
   "execution_count": 240,
   "metadata": {},
   "outputs": [],
   "source": [
    "raw_data_available = raw_data[raw_data['Status Code'] == 'E']\n",
    "raw_data_planned = raw_data[raw_data['Status Code'] == 'P']"
   ]
  },
  {
   "cell_type": "code",
   "execution_count": 241,
   "metadata": {},
   "outputs": [
    {
     "ename": "KeyError",
     "evalue": "\"['Expected Date'] not found in axis\"",
     "output_type": "error",
     "traceback": [
      "\u001b[0;31m---------------------------------------------------------------------------\u001b[0m",
      "\u001b[0;31mKeyError\u001b[0m                                  Traceback (most recent call last)",
      "\u001b[1;32m/home/zim/UMSI/PlugStation-Recommendation-System/NREL_All_Stations_API.ipynb Cell 18\u001b[0m line \u001b[0;36m2\n\u001b[1;32m      <a href='vscode-notebook-cell:/home/zim/UMSI/PlugStation-Recommendation-System/NREL_All_Stations_API.ipynb#X13sZmlsZQ%3D%3D?line=0'>1</a>\u001b[0m drop_list_available \u001b[39m=\u001b[39m [\u001b[39m'\u001b[39m\u001b[39mStatus Code\u001b[39m\u001b[39m'\u001b[39m, \u001b[39m'\u001b[39m\u001b[39mExpected Date\u001b[39m\u001b[39m'\u001b[39m]\n\u001b[0;32m----> <a href='vscode-notebook-cell:/home/zim/UMSI/PlugStation-Recommendation-System/NREL_All_Stations_API.ipynb#X13sZmlsZQ%3D%3D?line=1'>2</a>\u001b[0m raw_data_available\u001b[39m.\u001b[39;49mdrop(drop_list_available, axis\u001b[39m=\u001b[39;49m\u001b[39m1\u001b[39;49m, inplace\u001b[39m=\u001b[39;49m\u001b[39mTrue\u001b[39;49;00m)\n",
      "File \u001b[0;32m~/.virtualenvs/proj650/lib/python3.11/site-packages/pandas/core/frame.py:5344\u001b[0m, in \u001b[0;36mDataFrame.drop\u001b[0;34m(self, labels, axis, index, columns, level, inplace, errors)\u001b[0m\n\u001b[1;32m   5196\u001b[0m \u001b[39mdef\u001b[39;00m \u001b[39mdrop\u001b[39m(\n\u001b[1;32m   5197\u001b[0m     \u001b[39mself\u001b[39m,\n\u001b[1;32m   5198\u001b[0m     labels: IndexLabel \u001b[39m|\u001b[39m \u001b[39mNone\u001b[39;00m \u001b[39m=\u001b[39m \u001b[39mNone\u001b[39;00m,\n\u001b[0;32m   (...)\u001b[0m\n\u001b[1;32m   5205\u001b[0m     errors: IgnoreRaise \u001b[39m=\u001b[39m \u001b[39m\"\u001b[39m\u001b[39mraise\u001b[39m\u001b[39m\"\u001b[39m,\n\u001b[1;32m   5206\u001b[0m ) \u001b[39m-\u001b[39m\u001b[39m>\u001b[39m DataFrame \u001b[39m|\u001b[39m \u001b[39mNone\u001b[39;00m:\n\u001b[1;32m   5207\u001b[0m \u001b[39m    \u001b[39m\u001b[39m\"\"\"\u001b[39;00m\n\u001b[1;32m   5208\u001b[0m \u001b[39m    Drop specified labels from rows or columns.\u001b[39;00m\n\u001b[1;32m   5209\u001b[0m \n\u001b[0;32m   (...)\u001b[0m\n\u001b[1;32m   5342\u001b[0m \u001b[39m            weight  1.0     0.8\u001b[39;00m\n\u001b[1;32m   5343\u001b[0m \u001b[39m    \"\"\"\u001b[39;00m\n\u001b[0;32m-> 5344\u001b[0m     \u001b[39mreturn\u001b[39;00m \u001b[39msuper\u001b[39;49m()\u001b[39m.\u001b[39;49mdrop(\n\u001b[1;32m   5345\u001b[0m         labels\u001b[39m=\u001b[39;49mlabels,\n\u001b[1;32m   5346\u001b[0m         axis\u001b[39m=\u001b[39;49maxis,\n\u001b[1;32m   5347\u001b[0m         index\u001b[39m=\u001b[39;49mindex,\n\u001b[1;32m   5348\u001b[0m         columns\u001b[39m=\u001b[39;49mcolumns,\n\u001b[1;32m   5349\u001b[0m         level\u001b[39m=\u001b[39;49mlevel,\n\u001b[1;32m   5350\u001b[0m         inplace\u001b[39m=\u001b[39;49minplace,\n\u001b[1;32m   5351\u001b[0m         errors\u001b[39m=\u001b[39;49merrors,\n\u001b[1;32m   5352\u001b[0m     )\n",
      "File \u001b[0;32m~/.virtualenvs/proj650/lib/python3.11/site-packages/pandas/core/generic.py:4711\u001b[0m, in \u001b[0;36mNDFrame.drop\u001b[0;34m(self, labels, axis, index, columns, level, inplace, errors)\u001b[0m\n\u001b[1;32m   4709\u001b[0m \u001b[39mfor\u001b[39;00m axis, labels \u001b[39min\u001b[39;00m axes\u001b[39m.\u001b[39mitems():\n\u001b[1;32m   4710\u001b[0m     \u001b[39mif\u001b[39;00m labels \u001b[39mis\u001b[39;00m \u001b[39mnot\u001b[39;00m \u001b[39mNone\u001b[39;00m:\n\u001b[0;32m-> 4711\u001b[0m         obj \u001b[39m=\u001b[39m obj\u001b[39m.\u001b[39;49m_drop_axis(labels, axis, level\u001b[39m=\u001b[39;49mlevel, errors\u001b[39m=\u001b[39;49merrors)\n\u001b[1;32m   4713\u001b[0m \u001b[39mif\u001b[39;00m inplace:\n\u001b[1;32m   4714\u001b[0m     \u001b[39mself\u001b[39m\u001b[39m.\u001b[39m_update_inplace(obj)\n",
      "File \u001b[0;32m~/.virtualenvs/proj650/lib/python3.11/site-packages/pandas/core/generic.py:4753\u001b[0m, in \u001b[0;36mNDFrame._drop_axis\u001b[0;34m(self, labels, axis, level, errors, only_slice)\u001b[0m\n\u001b[1;32m   4751\u001b[0m         new_axis \u001b[39m=\u001b[39m axis\u001b[39m.\u001b[39mdrop(labels, level\u001b[39m=\u001b[39mlevel, errors\u001b[39m=\u001b[39merrors)\n\u001b[1;32m   4752\u001b[0m     \u001b[39melse\u001b[39;00m:\n\u001b[0;32m-> 4753\u001b[0m         new_axis \u001b[39m=\u001b[39m axis\u001b[39m.\u001b[39;49mdrop(labels, errors\u001b[39m=\u001b[39;49merrors)\n\u001b[1;32m   4754\u001b[0m     indexer \u001b[39m=\u001b[39m axis\u001b[39m.\u001b[39mget_indexer(new_axis)\n\u001b[1;32m   4756\u001b[0m \u001b[39m# Case for non-unique axis\u001b[39;00m\n\u001b[1;32m   4757\u001b[0m \u001b[39melse\u001b[39;00m:\n",
      "File \u001b[0;32m~/.virtualenvs/proj650/lib/python3.11/site-packages/pandas/core/indexes/base.py:6992\u001b[0m, in \u001b[0;36mIndex.drop\u001b[0;34m(self, labels, errors)\u001b[0m\n\u001b[1;32m   6990\u001b[0m \u001b[39mif\u001b[39;00m mask\u001b[39m.\u001b[39many():\n\u001b[1;32m   6991\u001b[0m     \u001b[39mif\u001b[39;00m errors \u001b[39m!=\u001b[39m \u001b[39m\"\u001b[39m\u001b[39mignore\u001b[39m\u001b[39m\"\u001b[39m:\n\u001b[0;32m-> 6992\u001b[0m         \u001b[39mraise\u001b[39;00m \u001b[39mKeyError\u001b[39;00m(\u001b[39mf\u001b[39m\u001b[39m\"\u001b[39m\u001b[39m{\u001b[39;00mlabels[mask]\u001b[39m.\u001b[39mtolist()\u001b[39m}\u001b[39;00m\u001b[39m not found in axis\u001b[39m\u001b[39m\"\u001b[39m)\n\u001b[1;32m   6993\u001b[0m     indexer \u001b[39m=\u001b[39m indexer[\u001b[39m~\u001b[39mmask]\n\u001b[1;32m   6994\u001b[0m \u001b[39mreturn\u001b[39;00m \u001b[39mself\u001b[39m\u001b[39m.\u001b[39mdelete(indexer)\n",
      "\u001b[0;31mKeyError\u001b[0m: \"['Expected Date'] not found in axis\""
     ]
    }
   ],
   "source": [
    "drop_list_available = ['Status Code', 'Expected Date']\n",
    "raw_data_available.drop(drop_list_available, axis=1, inplace=True)"
   ]
  },
  {
   "cell_type": "code",
   "execution_count": null,
   "metadata": {},
   "outputs": [
    {
     "name": "stderr",
     "output_type": "stream",
     "text": [
      "/tmp/ipykernel_35555/3271262598.py:2: SettingWithCopyWarning: \n",
      "A value is trying to be set on a copy of a slice from a DataFrame\n",
      "\n",
      "See the caveats in the documentation: https://pandas.pydata.org/pandas-docs/stable/user_guide/indexing.html#returning-a-view-versus-a-copy\n",
      "  raw_data_planned.drop(drop_list_planned, axis=1, inplace=True)\n"
     ]
    }
   ],
   "source": [
    "drop_list_planned = ['Status Code', 'Expected Date']\n",
    "raw_data_planned.drop(drop_list_planned, axis=1, inplace=True)"
   ]
  },
  {
   "cell_type": "code",
   "execution_count": null,
   "metadata": {},
   "outputs": [
    {
     "data": {
      "text/html": [
       "<div>\n",
       "<style scoped>\n",
       "    .dataframe tbody tr th:only-of-type {\n",
       "        vertical-align: middle;\n",
       "    }\n",
       "\n",
       "    .dataframe tbody tr th {\n",
       "        vertical-align: top;\n",
       "    }\n",
       "\n",
       "    .dataframe thead th {\n",
       "        text-align: right;\n",
       "    }\n",
       "</style>\n",
       "<table border=\"1\" class=\"dataframe\">\n",
       "  <thead>\n",
       "    <tr style=\"text-align: right;\">\n",
       "      <th></th>\n",
       "      <th>Groups With Access Code</th>\n",
       "      <th>Access Days Time</th>\n",
       "      <th>Cards Accepted</th>\n",
       "      <th>EV Level1 EVSE Num</th>\n",
       "      <th>EV Level2 EVSE Num</th>\n",
       "      <th>EV DC Fast Count</th>\n",
       "      <th>EV Other Info</th>\n",
       "      <th>EV Network</th>\n",
       "      <th>EV Network Web</th>\n",
       "      <th>Latitude</th>\n",
       "      <th>...</th>\n",
       "      <th>EV Connector Types</th>\n",
       "      <th>Access Code</th>\n",
       "      <th>Access Detail Code</th>\n",
       "      <th>Facility Type</th>\n",
       "      <th>EV Pricing</th>\n",
       "      <th>EV On-Site Renewable Source</th>\n",
       "      <th>Restricted Access</th>\n",
       "      <th>NPS Unit Name</th>\n",
       "      <th>Maximum Vehicle Class</th>\n",
       "      <th>EV Workplace Charging</th>\n",
       "    </tr>\n",
       "  </thead>\n",
       "  <tbody>\n",
       "    <tr>\n",
       "      <th>0</th>\n",
       "      <td>Private</td>\n",
       "      <td>Fleet use only</td>\n",
       "      <td>NaN</td>\n",
       "      <td>NaN</td>\n",
       "      <td>57.0</td>\n",
       "      <td>2.0</td>\n",
       "      <td>NaN</td>\n",
       "      <td>SHELL_RECHARGE</td>\n",
       "      <td>https://shellrecharge.com/en-us/solutions</td>\n",
       "      <td>34.248319</td>\n",
       "      <td>...</td>\n",
       "      <td>CHADEMO J1772 J1772COMBO</td>\n",
       "      <td>private</td>\n",
       "      <td>NaN</td>\n",
       "      <td>UTILITY</td>\n",
       "      <td>NaN</td>\n",
       "      <td>NaN</td>\n",
       "      <td>NaN</td>\n",
       "      <td>NaN</td>\n",
       "      <td>NaN</td>\n",
       "      <td>True</td>\n",
       "    </tr>\n",
       "    <tr>\n",
       "      <th>1</th>\n",
       "      <td>Private</td>\n",
       "      <td>NaN</td>\n",
       "      <td>NaN</td>\n",
       "      <td>NaN</td>\n",
       "      <td>4.0</td>\n",
       "      <td>NaN</td>\n",
       "      <td>NaN</td>\n",
       "      <td>Non-Networked</td>\n",
       "      <td>NaN</td>\n",
       "      <td>34.052542</td>\n",
       "      <td>...</td>\n",
       "      <td>J1772</td>\n",
       "      <td>private</td>\n",
       "      <td>NaN</td>\n",
       "      <td>UTILITY</td>\n",
       "      <td>Free</td>\n",
       "      <td>NaN</td>\n",
       "      <td>NaN</td>\n",
       "      <td>NaN</td>\n",
       "      <td>NaN</td>\n",
       "      <td>True</td>\n",
       "    </tr>\n",
       "    <tr>\n",
       "      <th>2</th>\n",
       "      <td>Public</td>\n",
       "      <td>5:30am-9pm; pay lot</td>\n",
       "      <td>NaN</td>\n",
       "      <td>NaN</td>\n",
       "      <td>7.0</td>\n",
       "      <td>NaN</td>\n",
       "      <td>NaN</td>\n",
       "      <td>Non-Networked</td>\n",
       "      <td>NaN</td>\n",
       "      <td>34.040539</td>\n",
       "      <td>...</td>\n",
       "      <td>J1772</td>\n",
       "      <td>public</td>\n",
       "      <td>NaN</td>\n",
       "      <td>PARKING_GARAGE</td>\n",
       "      <td>Free; parking fee</td>\n",
       "      <td>NaN</td>\n",
       "      <td>False</td>\n",
       "      <td>NaN</td>\n",
       "      <td>LD</td>\n",
       "      <td>False</td>\n",
       "    </tr>\n",
       "    <tr>\n",
       "      <th>3</th>\n",
       "      <td>Private</td>\n",
       "      <td>For fleet and employee use only</td>\n",
       "      <td>NaN</td>\n",
       "      <td>NaN</td>\n",
       "      <td>338.0</td>\n",
       "      <td>12.0</td>\n",
       "      <td>NaN</td>\n",
       "      <td>Non-Networked</td>\n",
       "      <td>NaN</td>\n",
       "      <td>34.059133</td>\n",
       "      <td>...</td>\n",
       "      <td>CHADEMO J1772 J1772COMBO</td>\n",
       "      <td>private</td>\n",
       "      <td>NaN</td>\n",
       "      <td>UTILITY</td>\n",
       "      <td>NaN</td>\n",
       "      <td>NaN</td>\n",
       "      <td>NaN</td>\n",
       "      <td>NaN</td>\n",
       "      <td>LD</td>\n",
       "      <td>True</td>\n",
       "    </tr>\n",
       "    <tr>\n",
       "      <th>4</th>\n",
       "      <td>Private</td>\n",
       "      <td>Fleet use only</td>\n",
       "      <td>NaN</td>\n",
       "      <td>NaN</td>\n",
       "      <td>19.0</td>\n",
       "      <td>1.0</td>\n",
       "      <td>NaN</td>\n",
       "      <td>Non-Networked</td>\n",
       "      <td>NaN</td>\n",
       "      <td>33.759802</td>\n",
       "      <td>...</td>\n",
       "      <td>CHADEMO J1772 J1772COMBO</td>\n",
       "      <td>private</td>\n",
       "      <td>NaN</td>\n",
       "      <td>UTILITY</td>\n",
       "      <td>NaN</td>\n",
       "      <td>NaN</td>\n",
       "      <td>NaN</td>\n",
       "      <td>NaN</td>\n",
       "      <td>NaN</td>\n",
       "      <td>True</td>\n",
       "    </tr>\n",
       "  </tbody>\n",
       "</table>\n",
       "<p>5 rows × 24 columns</p>\n",
       "</div>"
      ],
      "text/plain": [
       "  Groups With Access Code                 Access Days Time Cards Accepted  \\\n",
       "0                 Private                   Fleet use only            NaN   \n",
       "1                 Private                              NaN            NaN   \n",
       "2                  Public              5:30am-9pm; pay lot            NaN   \n",
       "3                 Private  For fleet and employee use only            NaN   \n",
       "4                 Private                   Fleet use only            NaN   \n",
       "\n",
       "   EV Level1 EVSE Num  EV Level2 EVSE Num  EV DC Fast Count EV Other Info  \\\n",
       "0                 NaN                57.0               2.0           NaN   \n",
       "1                 NaN                 4.0               NaN           NaN   \n",
       "2                 NaN                 7.0               NaN           NaN   \n",
       "3                 NaN               338.0              12.0           NaN   \n",
       "4                 NaN                19.0               1.0           NaN   \n",
       "\n",
       "       EV Network                             EV Network Web   Latitude  ...  \\\n",
       "0  SHELL_RECHARGE  https://shellrecharge.com/en-us/solutions  34.248319  ...   \n",
       "1   Non-Networked                                        NaN  34.052542  ...   \n",
       "2   Non-Networked                                        NaN  34.040539  ...   \n",
       "3   Non-Networked                                        NaN  34.059133  ...   \n",
       "4   Non-Networked                                        NaN  33.759802  ...   \n",
       "\n",
       "         EV Connector Types Access Code Access Detail Code   Facility Type  \\\n",
       "0  CHADEMO J1772 J1772COMBO     private                NaN         UTILITY   \n",
       "1                     J1772     private                NaN         UTILITY   \n",
       "2                     J1772      public                NaN  PARKING_GARAGE   \n",
       "3  CHADEMO J1772 J1772COMBO     private                NaN         UTILITY   \n",
       "4  CHADEMO J1772 J1772COMBO     private                NaN         UTILITY   \n",
       "\n",
       "          EV Pricing EV On-Site Renewable Source Restricted Access  \\\n",
       "0                NaN                         NaN               NaN   \n",
       "1               Free                         NaN               NaN   \n",
       "2  Free; parking fee                         NaN             False   \n",
       "3                NaN                         NaN               NaN   \n",
       "4                NaN                         NaN               NaN   \n",
       "\n",
       "  NPS Unit Name Maximum Vehicle Class EV Workplace Charging  \n",
       "0           NaN                   NaN                  True  \n",
       "1           NaN                   NaN                  True  \n",
       "2           NaN                    LD                 False  \n",
       "3           NaN                    LD                  True  \n",
       "4           NaN                   NaN                  True  \n",
       "\n",
       "[5 rows x 24 columns]"
      ]
     },
     "execution_count": 141,
     "metadata": {},
     "output_type": "execute_result"
    }
   ],
   "source": [
    "raw_data_available.head()"
   ]
  }
 ],
 "metadata": {
  "kernelspec": {
   "display_name": "base",
   "language": "python",
   "name": "python3"
  },
  "language_info": {
   "codemirror_mode": {
    "name": "ipython",
    "version": 3
   },
   "file_extension": ".py",
   "mimetype": "text/x-python",
   "name": "python",
   "nbconvert_exporter": "python",
   "pygments_lexer": "ipython3",
   "version": "3.11.0"
  }
 },
 "nbformat": 4,
 "nbformat_minor": 2
}
