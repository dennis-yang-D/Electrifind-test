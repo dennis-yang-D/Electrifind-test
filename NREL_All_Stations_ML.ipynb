{
 "cells": [
  {
   "cell_type": "code",
   "execution_count": 1,
   "metadata": {},
   "outputs": [],
   "source": [
    "import numpy as np\n",
    "import pandas as pd\n",
    "import matplotlib.pyplot as plt\n",
    "import seaborn as sns\n",
    "import re"
   ]
  },
  {
   "cell_type": "markdown",
   "metadata": {},
   "source": [
    "This notebook selects the dimension and preprocess all the data into trainable values. "
   ]
  },
  {
   "cell_type": "markdown",
   "metadata": {},
   "source": [
    "## 1. Loading dataset"
   ]
  },
  {
   "cell_type": "code",
   "execution_count": 2,
   "metadata": {},
   "outputs": [
    {
     "name": "stdout",
     "output_type": "stream",
     "text": [
      "Dataset shape:  (4053, 28)\n"
     ]
    }
   ],
   "source": [
    "dataset_df = pd.read_csv('data/filtered_nrel.csv', delimiter='\\t')\n",
    "print('Dataset shape: ', dataset_df.shape)"
   ]
  },
  {
   "cell_type": "markdown",
   "metadata": {},
   "source": [
    "The dataset contains 67622 rows and 28 columns. The top 5 rows are shown below.\n",
    "\n",
    "## 2. Exploratory Data Analysis"
   ]
  },
  {
   "cell_type": "code",
   "execution_count": 3,
   "metadata": {},
   "outputs": [],
   "source": [
    "dataset_df.drop([\n",
    "    'Status Code', 'Expected Date', 'EV Other Info', 'EV Network Web',\n",
    "    'Groups With Access Code', 'Access Detail Code'], axis=1, inplace=True)"
   ]
  },
  {
   "cell_type": "code",
   "execution_count": 4,
   "metadata": {},
   "outputs": [
    {
     "data": {
      "text/html": [
       "<div>\n",
       "<style scoped>\n",
       "    .dataframe tbody tr th:only-of-type {\n",
       "        vertical-align: middle;\n",
       "    }\n",
       "\n",
       "    .dataframe tbody tr th {\n",
       "        vertical-align: top;\n",
       "    }\n",
       "\n",
       "    .dataframe thead th {\n",
       "        text-align: right;\n",
       "    }\n",
       "</style>\n",
       "<table border=\"1\" class=\"dataframe\">\n",
       "  <thead>\n",
       "    <tr style=\"text-align: right;\">\n",
       "      <th></th>\n",
       "      <th>Station Name</th>\n",
       "      <th>Street Address</th>\n",
       "      <th>Access Days Time</th>\n",
       "      <th>Cards Accepted</th>\n",
       "      <th>EV Level1 EVSE Num</th>\n",
       "      <th>EV Level2 EVSE Num</th>\n",
       "      <th>EV DC Fast Count</th>\n",
       "      <th>EV Network</th>\n",
       "      <th>Latitude</th>\n",
       "      <th>Longitude</th>\n",
       "      <th>...</th>\n",
       "      <th>Open Date</th>\n",
       "      <th>EV Connector Types</th>\n",
       "      <th>Access Code</th>\n",
       "      <th>Facility Type</th>\n",
       "      <th>EV Pricing</th>\n",
       "      <th>EV On-Site Renewable Source</th>\n",
       "      <th>Restricted Access</th>\n",
       "      <th>NPS Unit Name</th>\n",
       "      <th>Maximum Vehicle Class</th>\n",
       "      <th>EV Workplace Charging</th>\n",
       "    </tr>\n",
       "  </thead>\n",
       "  <tbody>\n",
       "    <tr>\n",
       "      <th>0</th>\n",
       "      <td>Walmart 2508 - Boise, ID</td>\n",
       "      <td>8300 W. Overland Rd</td>\n",
       "      <td>24 hours daily</td>\n",
       "      <td>NaN</td>\n",
       "      <td>NaN</td>\n",
       "      <td>NaN</td>\n",
       "      <td>4.0</td>\n",
       "      <td>Electrify America</td>\n",
       "      <td>43.591420</td>\n",
       "      <td>-116.283590</td>\n",
       "      <td>...</td>\n",
       "      <td>2019-04-26</td>\n",
       "      <td>CHADEMO J1772COMBO</td>\n",
       "      <td>public</td>\n",
       "      <td>NaN</td>\n",
       "      <td>NaN</td>\n",
       "      <td>NaN</td>\n",
       "      <td>NaN</td>\n",
       "      <td>NaN</td>\n",
       "      <td>NaN</td>\n",
       "      <td>False</td>\n",
       "    </tr>\n",
       "    <tr>\n",
       "      <th>1</th>\n",
       "      <td>Oxford Suites Boise - Tesla Supercharger</td>\n",
       "      <td>1426 South Entertainment Ave.</td>\n",
       "      <td>24 hours daily</td>\n",
       "      <td>NaN</td>\n",
       "      <td>NaN</td>\n",
       "      <td>NaN</td>\n",
       "      <td>8.0</td>\n",
       "      <td>Tesla</td>\n",
       "      <td>43.592251</td>\n",
       "      <td>-116.279420</td>\n",
       "      <td>...</td>\n",
       "      <td>2015-08-01</td>\n",
       "      <td>TESLA</td>\n",
       "      <td>public</td>\n",
       "      <td>NaN</td>\n",
       "      <td>NaN</td>\n",
       "      <td>NaN</td>\n",
       "      <td>NaN</td>\n",
       "      <td>NaN</td>\n",
       "      <td>NaN</td>\n",
       "      <td>False</td>\n",
       "    </tr>\n",
       "    <tr>\n",
       "      <th>2</th>\n",
       "      <td>BOISE STATE BRONCO CIRCLE</td>\n",
       "      <td>1402 Bronco Ln</td>\n",
       "      <td>24 hours daily</td>\n",
       "      <td>NaN</td>\n",
       "      <td>NaN</td>\n",
       "      <td>2.0</td>\n",
       "      <td>NaN</td>\n",
       "      <td>ChargePoint Network</td>\n",
       "      <td>43.601863</td>\n",
       "      <td>-116.200223</td>\n",
       "      <td>...</td>\n",
       "      <td>2020-02-27</td>\n",
       "      <td>J1772</td>\n",
       "      <td>public</td>\n",
       "      <td>NaN</td>\n",
       "      <td>NaN</td>\n",
       "      <td>NaN</td>\n",
       "      <td>NaN</td>\n",
       "      <td>NaN</td>\n",
       "      <td>NaN</td>\n",
       "      <td>False</td>\n",
       "    </tr>\n",
       "    <tr>\n",
       "      <th>3</th>\n",
       "      <td>CBW PROPERTIES BM-1</td>\n",
       "      <td>7196-7274 Colonial St</td>\n",
       "      <td>24 hours daily</td>\n",
       "      <td>NaN</td>\n",
       "      <td>NaN</td>\n",
       "      <td>2.0</td>\n",
       "      <td>NaN</td>\n",
       "      <td>ChargePoint Network</td>\n",
       "      <td>43.601483</td>\n",
       "      <td>-116.272221</td>\n",
       "      <td>...</td>\n",
       "      <td>2017-11-14</td>\n",
       "      <td>J1772</td>\n",
       "      <td>public</td>\n",
       "      <td>NaN</td>\n",
       "      <td>NaN</td>\n",
       "      <td>NaN</td>\n",
       "      <td>NaN</td>\n",
       "      <td>NaN</td>\n",
       "      <td>NaN</td>\n",
       "      <td>False</td>\n",
       "    </tr>\n",
       "    <tr>\n",
       "      <th>4</th>\n",
       "      <td>CHARGEPOINT#1 E-470 EAST</td>\n",
       "      <td>22470 E Stephen D. Hogan Parkway</td>\n",
       "      <td>24 hours daily</td>\n",
       "      <td>NaN</td>\n",
       "      <td>NaN</td>\n",
       "      <td>NaN</td>\n",
       "      <td>1.0</td>\n",
       "      <td>ChargePoint Network</td>\n",
       "      <td>39.718408</td>\n",
       "      <td>-104.725254</td>\n",
       "      <td>...</td>\n",
       "      <td>2022-04-13</td>\n",
       "      <td>CHADEMO J1772COMBO</td>\n",
       "      <td>public</td>\n",
       "      <td>NaN</td>\n",
       "      <td>NaN</td>\n",
       "      <td>NaN</td>\n",
       "      <td>NaN</td>\n",
       "      <td>NaN</td>\n",
       "      <td>NaN</td>\n",
       "      <td>False</td>\n",
       "    </tr>\n",
       "  </tbody>\n",
       "</table>\n",
       "<p>5 rows × 22 columns</p>\n",
       "</div>"
      ],
      "text/plain": [
       "                               Station Name                    Street Address  \\\n",
       "0                  Walmart 2508 - Boise, ID               8300 W. Overland Rd   \n",
       "1  Oxford Suites Boise - Tesla Supercharger     1426 South Entertainment Ave.   \n",
       "2                 BOISE STATE BRONCO CIRCLE                    1402 Bronco Ln   \n",
       "3                       CBW PROPERTIES BM-1             7196-7274 Colonial St   \n",
       "4                  CHARGEPOINT#1 E-470 EAST  22470 E Stephen D. Hogan Parkway   \n",
       "\n",
       "  Access Days Time Cards Accepted  EV Level1 EVSE Num  EV Level2 EVSE Num  \\\n",
       "0   24 hours daily            NaN                 NaN                 NaN   \n",
       "1   24 hours daily            NaN                 NaN                 NaN   \n",
       "2   24 hours daily            NaN                 NaN                 2.0   \n",
       "3   24 hours daily            NaN                 NaN                 2.0   \n",
       "4   24 hours daily            NaN                 NaN                 NaN   \n",
       "\n",
       "   EV DC Fast Count           EV Network   Latitude   Longitude  ...  \\\n",
       "0               4.0    Electrify America  43.591420 -116.283590  ...   \n",
       "1               8.0                Tesla  43.592251 -116.279420  ...   \n",
       "2               NaN  ChargePoint Network  43.601863 -116.200223  ...   \n",
       "3               NaN  ChargePoint Network  43.601483 -116.272221  ...   \n",
       "4               1.0  ChargePoint Network  39.718408 -104.725254  ...   \n",
       "\n",
       "    Open Date  EV Connector Types Access Code Facility Type EV Pricing  \\\n",
       "0  2019-04-26  CHADEMO J1772COMBO      public           NaN        NaN   \n",
       "1  2015-08-01               TESLA      public           NaN        NaN   \n",
       "2  2020-02-27               J1772      public           NaN        NaN   \n",
       "3  2017-11-14               J1772      public           NaN        NaN   \n",
       "4  2022-04-13  CHADEMO J1772COMBO      public           NaN        NaN   \n",
       "\n",
       "  EV On-Site Renewable Source Restricted Access NPS Unit Name  \\\n",
       "0                         NaN               NaN           NaN   \n",
       "1                         NaN               NaN           NaN   \n",
       "2                         NaN               NaN           NaN   \n",
       "3                         NaN               NaN           NaN   \n",
       "4                         NaN               NaN           NaN   \n",
       "\n",
       "  Maximum Vehicle Class EV Workplace Charging  \n",
       "0                   NaN                 False  \n",
       "1                   NaN                 False  \n",
       "2                   NaN                 False  \n",
       "3                   NaN                 False  \n",
       "4                   NaN                 False  \n",
       "\n",
       "[5 rows x 22 columns]"
      ]
     },
     "execution_count": 4,
     "metadata": {},
     "output_type": "execute_result"
    }
   ],
   "source": [
    "dataset_df.head()"
   ]
  },
  {
   "cell_type": "code",
   "execution_count": 5,
   "metadata": {},
   "outputs": [
    {
     "name": "stdout",
     "output_type": "stream",
     "text": [
      "<class 'pandas.core.frame.DataFrame'>\n",
      "RangeIndex: 4053 entries, 0 to 4052\n",
      "Data columns (total 22 columns):\n",
      " #   Column                       Non-Null Count  Dtype  \n",
      "---  ------                       --------------  -----  \n",
      " 0   Station Name                 4053 non-null   object \n",
      " 1   Street Address               4053 non-null   object \n",
      " 2   Access Days Time             3540 non-null   object \n",
      " 3   Cards Accepted               476 non-null    object \n",
      " 4   EV Level1 EVSE Num           8 non-null      float64\n",
      " 5   EV Level2 EVSE Num           1782 non-null   float64\n",
      " 6   EV DC Fast Count             2535 non-null   float64\n",
      " 7   EV Network                   4053 non-null   object \n",
      " 8   Latitude                     4053 non-null   float64\n",
      " 9   Longitude                    4053 non-null   float64\n",
      " 10  Date Last Confirmed          4053 non-null   object \n",
      " 11  Owner Type Code              1935 non-null   object \n",
      " 12  Open Date                    4050 non-null   object \n",
      " 13  EV Connector Types           4053 non-null   object \n",
      " 14  Access Code                  4053 non-null   object \n",
      " 15  Facility Type                1396 non-null   object \n",
      " 16  EV Pricing                   799 non-null    object \n",
      " 17  EV On-Site Renewable Source  11 non-null     object \n",
      " 18  Restricted Access            741 non-null    object \n",
      " 19  NPS Unit Name                4 non-null      object \n",
      " 20  Maximum Vehicle Class        681 non-null    object \n",
      " 21  EV Workplace Charging        4053 non-null   bool   \n",
      "dtypes: bool(1), float64(5), object(16)\n",
      "memory usage: 669.0+ KB\n"
     ]
    }
   ],
   "source": [
    "dataset_df.info()"
   ]
  },
  {
   "cell_type": "code",
   "execution_count": 6,
   "metadata": {},
   "outputs": [
    {
     "data": {
      "text/html": [
       "<div>\n",
       "<style scoped>\n",
       "    .dataframe tbody tr th:only-of-type {\n",
       "        vertical-align: middle;\n",
       "    }\n",
       "\n",
       "    .dataframe tbody tr th {\n",
       "        vertical-align: top;\n",
       "    }\n",
       "\n",
       "    .dataframe thead th {\n",
       "        text-align: right;\n",
       "    }\n",
       "</style>\n",
       "<table border=\"1\" class=\"dataframe\">\n",
       "  <thead>\n",
       "    <tr style=\"text-align: right;\">\n",
       "      <th></th>\n",
       "      <th>EV Level1 EVSE Num</th>\n",
       "      <th>EV Level2 EVSE Num</th>\n",
       "      <th>EV DC Fast Count</th>\n",
       "      <th>Latitude</th>\n",
       "      <th>Longitude</th>\n",
       "    </tr>\n",
       "  </thead>\n",
       "  <tbody>\n",
       "    <tr>\n",
       "      <th>count</th>\n",
       "      <td>8.00000</td>\n",
       "      <td>1782.000000</td>\n",
       "      <td>2535.000000</td>\n",
       "      <td>4053.000000</td>\n",
       "      <td>4053.000000</td>\n",
       "    </tr>\n",
       "    <tr>\n",
       "      <th>mean</th>\n",
       "      <td>1.37500</td>\n",
       "      <td>2.287318</td>\n",
       "      <td>6.145168</td>\n",
       "      <td>38.004304</td>\n",
       "      <td>-93.601466</td>\n",
       "    </tr>\n",
       "    <tr>\n",
       "      <th>std</th>\n",
       "      <td>1.06066</td>\n",
       "      <td>1.622223</td>\n",
       "      <td>4.904960</td>\n",
       "      <td>5.220180</td>\n",
       "      <td>16.845066</td>\n",
       "    </tr>\n",
       "    <tr>\n",
       "      <th>min</th>\n",
       "      <td>1.00000</td>\n",
       "      <td>1.000000</td>\n",
       "      <td>1.000000</td>\n",
       "      <td>18.111876</td>\n",
       "      <td>-159.456719</td>\n",
       "    </tr>\n",
       "    <tr>\n",
       "      <th>25%</th>\n",
       "      <td>1.00000</td>\n",
       "      <td>2.000000</td>\n",
       "      <td>2.000000</td>\n",
       "      <td>34.447837</td>\n",
       "      <td>-106.341500</td>\n",
       "    </tr>\n",
       "    <tr>\n",
       "      <th>50%</th>\n",
       "      <td>1.00000</td>\n",
       "      <td>2.000000</td>\n",
       "      <td>4.000000</td>\n",
       "      <td>38.777042</td>\n",
       "      <td>-88.012535</td>\n",
       "    </tr>\n",
       "    <tr>\n",
       "      <th>75%</th>\n",
       "      <td>1.00000</td>\n",
       "      <td>2.000000</td>\n",
       "      <td>8.000000</td>\n",
       "      <td>41.578330</td>\n",
       "      <td>-80.366070</td>\n",
       "    </tr>\n",
       "    <tr>\n",
       "      <th>max</th>\n",
       "      <td>4.00000</td>\n",
       "      <td>18.000000</td>\n",
       "      <td>51.000000</td>\n",
       "      <td>61.573564</td>\n",
       "      <td>-65.821744</td>\n",
       "    </tr>\n",
       "  </tbody>\n",
       "</table>\n",
       "</div>"
      ],
      "text/plain": [
       "       EV Level1 EVSE Num  EV Level2 EVSE Num  EV DC Fast Count     Latitude  \\\n",
       "count             8.00000         1782.000000       2535.000000  4053.000000   \n",
       "mean              1.37500            2.287318          6.145168    38.004304   \n",
       "std               1.06066            1.622223          4.904960     5.220180   \n",
       "min               1.00000            1.000000          1.000000    18.111876   \n",
       "25%               1.00000            2.000000          2.000000    34.447837   \n",
       "50%               1.00000            2.000000          4.000000    38.777042   \n",
       "75%               1.00000            2.000000          8.000000    41.578330   \n",
       "max               4.00000           18.000000         51.000000    61.573564   \n",
       "\n",
       "         Longitude  \n",
       "count  4053.000000  \n",
       "mean    -93.601466  \n",
       "std      16.845066  \n",
       "min    -159.456719  \n",
       "25%    -106.341500  \n",
       "50%     -88.012535  \n",
       "75%     -80.366070  \n",
       "max     -65.821744  "
      ]
     },
     "execution_count": 6,
     "metadata": {},
     "output_type": "execute_result"
    }
   ],
   "source": [
    "dataset_df.describe()"
   ]
  },
  {
   "cell_type": "markdown",
   "metadata": {},
   "source": [
    "## 3. Feature Engineering"
   ]
  },
  {
   "cell_type": "code",
   "execution_count": 7,
   "metadata": {},
   "outputs": [],
   "source": [
    "num_attribs = dataset_df.select_dtypes('number').columns.to_list()\n",
    "cat_attribs = dataset_df.select_dtypes('object').columns.to_list()"
   ]
  },
  {
   "cell_type": "code",
   "execution_count": 8,
   "metadata": {},
   "outputs": [
    {
     "data": {
      "text/plain": [
       "['EV Level1 EVSE Num',\n",
       " 'EV Level2 EVSE Num',\n",
       " 'EV DC Fast Count',\n",
       " 'Latitude',\n",
       " 'Longitude']"
      ]
     },
     "execution_count": 8,
     "metadata": {},
     "output_type": "execute_result"
    }
   ],
   "source": [
    "num_attribs"
   ]
  },
  {
   "cell_type": "code",
   "execution_count": 9,
   "metadata": {},
   "outputs": [
    {
     "data": {
      "text/plain": [
       "['Station Name',\n",
       " 'Street Address',\n",
       " 'Access Days Time',\n",
       " 'Cards Accepted',\n",
       " 'EV Network',\n",
       " 'Date Last Confirmed',\n",
       " 'Owner Type Code',\n",
       " 'Open Date',\n",
       " 'EV Connector Types',\n",
       " 'Access Code',\n",
       " 'Facility Type',\n",
       " 'EV Pricing',\n",
       " 'EV On-Site Renewable Source',\n",
       " 'Restricted Access',\n",
       " 'NPS Unit Name',\n",
       " 'Maximum Vehicle Class']"
      ]
     },
     "execution_count": 9,
     "metadata": {},
     "output_type": "execute_result"
    }
   ],
   "source": [
    "cat_attribs"
   ]
  },
  {
   "cell_type": "code",
   "execution_count": 10,
   "metadata": {},
   "outputs": [],
   "source": [
    "dataset_df['Public_Bool'] = dataset_df['Access Code'].apply(lambda x: 1 if x == 'public' else 0)\n",
    "dataset_df.drop(['Access Code'], axis=1, inplace=True)"
   ]
  },
  {
   "cell_type": "code",
   "execution_count": 11,
   "metadata": {},
   "outputs": [
    {
     "data": {
      "text/plain": [
       "Cards Accepted\n",
       "A D Debit M V                                         444\n",
       "A ACCOUNT_BALANCE D M V                                 9\n",
       "A CREDIT D M V                                          4\n",
       "A ANDROID_PAY APPLE_PAY CREDIT D M V                    3\n",
       "CREDIT                                                  3\n",
       "A CREDIT D Debit M V                                    2\n",
       "CREDIT Debit                                            2\n",
       "A D M V                                                 2\n",
       "A Cash D M V                                            1\n",
       "ANDROID_PAY APPLE_PAY Debit M V                         1\n",
       "Cash Checks CREDIT                                      1\n",
       "A ANDROID_PAY APPLE_PAY CREDIT Debit M V                1\n",
       "A ACCOUNT_BALANCE CREDIT D M V                          1\n",
       "Checks                                                  1\n",
       "ACCOUNT_BALANCE ANDROID_PAY APPLE_PAY CREDIT Debit      1\n",
       "Name: count, dtype: int64"
      ]
     },
     "execution_count": 11,
     "metadata": {},
     "output_type": "execute_result"
    }
   ],
   "source": [
    "dataset_df['Cards Accepted'].value_counts()"
   ]
  },
  {
   "cell_type": "code",
   "execution_count": 12,
   "metadata": {},
   "outputs": [
    {
     "data": {
      "text/plain": [
       "16"
      ]
     },
     "execution_count": 12,
     "metadata": {},
     "output_type": "execute_result"
    }
   ],
   "source": [
    "len(dataset_df['Cards Accepted'].unique())"
   ]
  },
  {
   "cell_type": "code",
   "execution_count": 13,
   "metadata": {},
   "outputs": [],
   "source": [
    "card_list = ['A', 'CREDIT', 'Debit', 'D', 'M', 'V', 'Visa',\n",
    "             'Cash', 'Checks', 'ACCOUNT_BALANCE', 'ALLIANCE',\n",
    "             'ANDROID_PAY', 'APPLE_PAY']"
   ]
  },
  {
   "cell_type": "code",
   "execution_count": 14,
   "metadata": {},
   "outputs": [],
   "source": [
    "for card in card_list:\n",
    "    dataset_df['Card_' + card] = dataset_df['Cards Accepted'].apply(lambda x: 1 if card in str(x) else 0)\n",
    "dataset_df.drop('Cards Accepted', axis=1, inplace=True)\n",
    "    "
   ]
  },
  {
   "cell_type": "code",
   "execution_count": 15,
   "metadata": {},
   "outputs": [
    {
     "data": {
      "text/plain": [
       "<Axes: xlabel='EV Level1 EVSE Num', ylabel='Count'>"
      ]
     },
     "execution_count": 15,
     "metadata": {},
     "output_type": "execute_result"
    },
    {
     "data": {
      "image/png": "[encoded data removed]",
      "text/plain": [
       "<Figure size 640x480 with 1 Axes>"
      ]
     },
     "metadata": {},
     "output_type": "display_data"
    }
   ],
   "source": [
    "sns.histplot(dataset_df['EV Level1 EVSE Num'])"
   ]
  },
  {
   "cell_type": "code",
   "execution_count": 16,
   "metadata": {},
   "outputs": [],
   "source": [
    "dataset_df['EV Level1 EVSE Num'].fillna(0, inplace=True)"
   ]
  },
  {
   "cell_type": "code",
   "execution_count": 17,
   "metadata": {},
   "outputs": [
    {
     "data": {
      "text/plain": [
       "<Axes: xlabel='EV Level2 EVSE Num', ylabel='Count'>"
      ]
     },
     "execution_count": 17,
     "metadata": {},
     "output_type": "execute_result"
    },
    {
     "data": {
      "image/png": "[encoded data removed]",
      "text/plain": [
       "<Figure size 640x480 with 1 Axes>"
      ]
     },
     "metadata": {},
     "output_type": "display_data"
    }
   ],
   "source": [
    "sns.histplot(dataset_df['EV Level2 EVSE Num'])"
   ]
  },
  {
   "cell_type": "code",
   "execution_count": 18,
   "metadata": {},
   "outputs": [],
   "source": [
    "dataset_df['EV Level2 EVSE Num'].fillna(0, inplace=True)"
   ]
  },
  {
   "cell_type": "code",
   "execution_count": 19,
   "metadata": {},
   "outputs": [
    {
     "data": {
      "text/plain": [
       "<Axes: xlabel='EV DC Fast Count', ylabel='Count'>"
      ]
     },
     "execution_count": 19,
     "metadata": {},
     "output_type": "execute_result"
    },
    {
     "data": {
      "image/png": "[encoded data removed]",
      "text/plain": [
       "<Figure size 640x480 with 1 Axes>"
      ]
     },
     "metadata": {},
     "output_type": "display_data"
    }
   ],
   "source": [
    "sns.histplot(dataset_df['EV DC Fast Count'])"
   ]
  },
  {
   "cell_type": "code",
   "execution_count": 20,
   "metadata": {},
   "outputs": [],
   "source": [
    "dataset_df['EV DC Fast Count'].fillna(0, inplace=True)"
   ]
  },
  {
   "cell_type": "code",
   "execution_count": 21,
   "metadata": {},
   "outputs": [],
   "source": [
    "ev_networks_list = dataset_df['EV Network'].value_counts().index.to_list()[:15]\n",
    "ev_networks_list = ['ChargePoint Network',\n",
    "                    'Non-Networked',\n",
    "                    'Blink Network',\n",
    "                    'Tesla',\n",
    "                    'Volta',\n",
    "                    'EV Connect',\n",
    "                    'SHELL_RECHARGE',\n",
    "                    'eVgo Network',\n",
    "                    'Electrify America',\n",
    "                    'AMPUP',\n",
    "                    'FLO',\n",
    "                    'RIVIAN',\n",
    "                    'LIVINGSTON']"
   ]
  },
  {
   "cell_type": "code",
   "execution_count": 22,
   "metadata": {},
   "outputs": [],
   "source": [
    "for network in ev_networks_list:\n",
    "    dataset_df['Network_' + network] = dataset_df['EV Network'].apply(lambda x: 1 if network in str(x) else 0)\n",
    "dataset_df.drop('EV Network', axis=1, inplace=True)\n",
    "    "
   ]
  },
  {
   "cell_type": "code",
   "execution_count": 23,
   "metadata": {},
   "outputs": [
    {
     "data": {
      "text/plain": [
       "EV Pricing\n",
       "Free                                                                                                         688\n",
       "FREE                                                                                                          21\n",
       "$2.00/Hr Parking Fee                                                                                           9\n",
       "$1.00/Hr Parking Fee                                                                                           7\n",
       "DC Fast: $7.50 per session or $19.99 for monthly plan, Level 2: $4 per session or $19.99 for monthly plan      7\n",
       "Level 2: $4 per session or $19.99 for monthly plan, DC Fast: $7.50 per session or $19.99 for monthly plan      6\n",
       "Free; parking fee                                                                                              3\n",
       "$0.75-$3.00/Hr Variable Parking Fee                                                                            2\n",
       "$2 per hour                                                                                                    2\n",
       "$0.45 per kWh                                                                                                  2\n",
       "$0.00-$10.00/Hr Variable Parking Fee, $0.30/kWh Energy Fee                                                     2\n",
       "$1.50/Hr Parking Fee                                                                                           2\n",
       "Free Level 2 charging; DCFC 2.50 per session and $0.20 per minute                                              2\n",
       "$0.30 per minute                                                                                               2\n",
       "Free; Pay for parking                                                                                          2\n",
       "$0.31 per kWh                                                                                                  1\n",
       "$0.35 per kwh                                                                                                  1\n",
       "Suggested donation of $3 per hour                                                                              1\n",
       "Free; paid lot                                                                                                 1\n",
       "DC Fast: $7.50 per session or $19.99 for monthly plan                                                          1\n",
       "Name: count, dtype: int64"
      ]
     },
     "execution_count": 23,
     "metadata": {},
     "output_type": "execute_result"
    }
   ],
   "source": [
    "dataset_df['EV Pricing'].value_counts()[:20]"
   ]
  },
  {
   "cell_type": "code",
   "execution_count": 24,
   "metadata": {},
   "outputs": [],
   "source": [
    "def get_electric_price(x):\n",
    "    x = str(x)\n",
    "    if x.lower() == 'free':\n",
    "        return 0\n",
    "    # Extract hourly rate\n",
    "    rate = re.findall(r'(\\$\\d+\\.?\\d*)-(\\$\\d+\\.?\\d*)/kWh \\w+ Energy Fee', x)\n",
    "    if not rate:\n",
    "        rate = re.findall(r'(\\$\\d+\\.?\\d*)/kWh Energy Fee', x)\n",
    "    if not rate:\n",
    "        rate = re.findall(r'(\\$\\d+\\.?\\d*) per kWh', x)\n",
    "    # Convert to float if rate is found else return None\n",
    "    rate = re.findall(r'\\d+\\.?\\d*', str(rate))\n",
    "    for i in range(len(rate)):\n",
    "        rate[i] = float(rate[i])\n",
    "    if rate:\n",
    "        return np.mean(rate)\n",
    "    else:\n",
    "        return -1"
   ]
  },
  {
   "cell_type": "code",
   "execution_count": 25,
   "metadata": {},
   "outputs": [],
   "source": [
    "def get_park_price(x):\n",
    "    x = str(x)\n",
    "    if str(x).lower() == 'free':\n",
    "        return 0\n",
    "    # Extract hourly rate\n",
    "    hourly_rate = re.findall(r'(\\$\\d+\\.?\\d*)-(\\$\\d+\\.?\\d*)/Hr \\w+ Parking Fee', x)\n",
    "    if not hourly_rate:\n",
    "        hourly_rate = re.findall(r'(\\$\\d+\\.?\\d*)/Hr Parking Fee', x)\n",
    "    # Convert to float if hourly_rate is found else return None\n",
    "    hourly_rate = re.findall(r'\\d+\\.?\\d*', str(hourly_rate))\n",
    "    for i in range(len(hourly_rate)):\n",
    "        hourly_rate[i] = float(hourly_rate[i])\n",
    "    if hourly_rate:\n",
    "        return np.mean(hourly_rate)\n",
    "    else:\n",
    "        return -1\n",
    "                                                                 "
   ]
  },
  {
   "cell_type": "code",
   "execution_count": 26,
   "metadata": {},
   "outputs": [],
   "source": [
    "dataset_df['park_price'] = dataset_df['EV Pricing'].apply(get_park_price)\n",
    "dataset_df['electric_price'] = dataset_df['EV Pricing'].apply(get_electric_price)\n",
    "dataset_df.drop('EV Pricing', axis=1, inplace=True)"
   ]
  },
  {
   "cell_type": "code",
   "execution_count": 27,
   "metadata": {},
   "outputs": [],
   "source": [
    "dataset_df.drop(['Station Name', 'Street Address', 'Access Days Time', \n",
    "                 'Date Last Confirmed', 'Open Date', 'NPS Unit Name'], axis=1, inplace=True)"
   ]
  },
  {
   "cell_type": "code",
   "execution_count": 28,
   "metadata": {},
   "outputs": [],
   "source": [
    "dataset_dummies = pd.get_dummies(dataset_df['Owner Type Code'], prefix='Owner_Type')\n",
    "dataset_df = pd.concat([dataset_df, dataset_dummies], axis=1)\n",
    "dataset_df.drop('Owner Type Code', axis=1, inplace=True)"
   ]
  },
  {
   "cell_type": "code",
   "execution_count": 29,
   "metadata": {},
   "outputs": [
    {
     "data": {
      "text/plain": [
       "EV Connector Types\n",
       "TESLA                       1338\n",
       "J1772                       1052\n",
       "CHADEMO J1772COMBO          1032\n",
       "J1772 TESLA                  283\n",
       "CHADEMO J1772 J1772COMBO     205\n",
       "Name: count, dtype: int64"
      ]
     },
     "execution_count": 29,
     "metadata": {},
     "output_type": "execute_result"
    }
   ],
   "source": [
    "dataset_df['EV Connector Types'].value_counts().head()"
   ]
  },
  {
   "cell_type": "code",
   "execution_count": 30,
   "metadata": {},
   "outputs": [],
   "source": [
    "connector_list = ['NEMA1450', 'NEMA515', 'NEMA520', \n",
    "                  'J1772', 'J1772COMBO', 'CHADEMO', 'TESLA']\n",
    "for connector in connector_list:\n",
    "    dataset_df['Connector_' + connector] = dataset_df['EV Connector Types'].apply(lambda x: 1 if connector in str(x) else 0)\n",
    "dataset_df.drop('EV Connector Types', axis=1, inplace=True)"
   ]
  },
  {
   "cell_type": "code",
   "execution_count": 31,
   "metadata": {},
   "outputs": [
    {
     "data": {
      "text/plain": [
       "EV On-Site Renewable Source\n",
       "SOLAR    8\n",
       "HYDRO    3\n",
       "Name: count, dtype: int64"
      ]
     },
     "execution_count": 31,
     "metadata": {},
     "output_type": "execute_result"
    }
   ],
   "source": [
    "dataset_df['EV On-Site Renewable Source'].value_counts()"
   ]
  },
  {
   "cell_type": "code",
   "execution_count": 32,
   "metadata": {},
   "outputs": [],
   "source": [
    "dataset_dummies = pd.get_dummies(dataset_df['EV On-Site Renewable Source'], prefix='Renewable_Source')\n",
    "dataset_df = pd.concat([dataset_df, dataset_dummies], axis=1)\n",
    "dataset_df.drop('EV On-Site Renewable Source', axis=1, inplace=True)"
   ]
  },
  {
   "cell_type": "code",
   "execution_count": 33,
   "metadata": {},
   "outputs": [
    {
     "data": {
      "text/plain": [
       "Maximum Vehicle Class\n",
       "LD    673\n",
       "MD      7\n",
       "HD      1\n",
       "Name: count, dtype: int64"
      ]
     },
     "execution_count": 33,
     "metadata": {},
     "output_type": "execute_result"
    }
   ],
   "source": [
    "dataset_df['Maximum Vehicle Class'].value_counts()"
   ]
  },
  {
   "cell_type": "code",
   "execution_count": 34,
   "metadata": {},
   "outputs": [],
   "source": [
    "def map(x):\n",
    "    if x == 'LD':\n",
    "        return 1\n",
    "    elif x == 'MD':\n",
    "        return 2\n",
    "    elif x == 'HD':\n",
    "        return 3\n",
    "    else:\n",
    "        return 0\n",
    "\n",
    "dataset_df['Maximum_Vehicle_Class_Num'] = dataset_df['Maximum Vehicle Class'].apply(map)\n",
    "dataset_df.drop('Maximum Vehicle Class', axis=1, inplace=True)"
   ]
  },
  {
   "cell_type": "code",
   "execution_count": 35,
   "metadata": {},
   "outputs": [
    {
     "data": {
      "text/plain": [
       "['HOTEL',\n",
       " 'SHOPPING_CENTER',\n",
       " 'GAS_STATION',\n",
       " 'CAR_DEALER',\n",
       " 'GROCERY',\n",
       " 'CONVENIENCE_STORE',\n",
       " 'RESTAURANT',\n",
       " 'PARKING_LOT',\n",
       " 'SHOPPING_MALL',\n",
       " 'TRAVEL_CENTER']"
      ]
     },
     "execution_count": 35,
     "metadata": {},
     "output_type": "execute_result"
    }
   ],
   "source": [
    "facilities = dataset_df['Facility Type'].value_counts()[:10].index.to_list()\n",
    "facilities"
   ]
  },
  {
   "cell_type": "code",
   "execution_count": 36,
   "metadata": {},
   "outputs": [],
   "source": [
    "for facility in facilities:\n",
    "    dataset_df['Facility_' + facility] = dataset_df['Facility Type'].apply(lambda x: 1 if facility in str(x) else 0)"
   ]
  },
  {
   "cell_type": "code",
   "execution_count": 37,
   "metadata": {},
   "outputs": [],
   "source": [
    "dataset_df.drop('Facility Type', axis=1, inplace=True)"
   ]
  },
  {
   "cell_type": "code",
   "execution_count": 38,
   "metadata": {},
   "outputs": [],
   "source": [
    "dataset_df['Restricted Access'] = dataset_df['Restricted Access'].apply(lambda x: 1 if x == 'True' else 0)"
   ]
  },
  {
   "cell_type": "code",
   "execution_count": 39,
   "metadata": {},
   "outputs": [],
   "source": [
    "dataset_df['EV Workplace Charging'] = dataset_df['EV Workplace Charging'].apply(lambda x: 1 if x == 'True' else 0)"
   ]
  },
  {
   "cell_type": "code",
   "execution_count": 40,
   "metadata": {},
   "outputs": [],
   "source": [
    "dataset_df.to_csv('data/processed_nrel.csv', index=False)"
   ]
  }
 ],
 "metadata": {
  "kernelspec": {
   "display_name": "proj650",
   "language": "python",
   "name": "python3"
  },
  "language_info": {
   "codemirror_mode": {
    "name": "ipython",
    "version": 3
   },
   "file_extension": ".py",
   "mimetype": "text/x-python",
   "name": "python",
   "nbconvert_exporter": "python",
   "pygments_lexer": "ipython3",
   "version": "3.11.0rc1"
  }
 },
 "nbformat": 4,
 "nbformat_minor": 2
}
