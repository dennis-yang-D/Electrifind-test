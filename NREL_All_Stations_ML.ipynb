{
 "cells": [
  {
   "cell_type": "code",
   "execution_count": 51,
   "metadata": {},
   "outputs": [],
   "source": [
    "import numpy as np\n",
    "import pandas as pd\n",
    "import matplotlib.pyplot as plt\n",
    "import seaborn as sns\n",
    "import re"
   ]
  },
  {
   "cell_type": "markdown",
   "metadata": {},
   "source": [
    "This notebook selects the dimension and preprocess all the data into trainable values. "
   ]
  },
  {
   "cell_type": "markdown",
   "metadata": {},
   "source": [
    "## 1. Loading dataset"
   ]
  },
  {
   "cell_type": "code",
   "execution_count": 52,
   "metadata": {},
   "outputs": [
    {
     "name": "stdout",
     "output_type": "stream",
     "text": [
      "Dataset shape:  (35665, 28)\n"
     ]
    },
    {
     "name": "stderr",
     "output_type": "stream",
     "text": [
      "/tmp/ipykernel_5761/4269587800.py:1: DtypeWarning: Columns (10) have mixed types. Specify dtype option on import or set low_memory=False.\n",
      "  dataset_df = pd.read_csv('data/filtered_nrel.csv', delimiter='\\t')\n"
     ]
    }
   ],
   "source": [
    "dataset_df = pd.read_csv('data/filtered_nrel.csv', delimiter='\\t')\n",
    "print('Dataset shape: ', dataset_df.shape)"
   ]
  },
  {
   "cell_type": "markdown",
   "metadata": {},
   "source": [
    "The dataset contains 67622 rows and 28 columns. The top 5 rows are shown below.\n",
    "\n",
    "## 2. Exploratory Data Analysis"
   ]
  },
  {
   "cell_type": "code",
   "execution_count": 53,
   "metadata": {},
   "outputs": [],
   "source": [
    "dataset_df.drop([\n",
    "    'Status Code', 'Expected Date', 'EV Other Info', 'EV Network Web',\n",
    "    'Groups With Access Code', 'Access Detail Code'], axis=1, inplace=True)"
   ]
  },
  {
   "cell_type": "code",
   "execution_count": 54,
   "metadata": {},
   "outputs": [
    {
     "data": {
      "text/html": [
       "<div>\n",
       "<style scoped>\n",
       "    .dataframe tbody tr th:only-of-type {\n",
       "        vertical-align: middle;\n",
       "    }\n",
       "\n",
       "    .dataframe tbody tr th {\n",
       "        vertical-align: top;\n",
       "    }\n",
       "\n",
       "    .dataframe thead th {\n",
       "        text-align: right;\n",
       "    }\n",
       "</style>\n",
       "<table border=\"1\" class=\"dataframe\">\n",
       "  <thead>\n",
       "    <tr style=\"text-align: right;\">\n",
       "      <th></th>\n",
       "      <th>Station Name</th>\n",
       "      <th>Street Address</th>\n",
       "      <th>Access Days Time</th>\n",
       "      <th>Cards Accepted</th>\n",
       "      <th>EV Level1 EVSE Num</th>\n",
       "      <th>EV Level2 EVSE Num</th>\n",
       "      <th>EV DC Fast Count</th>\n",
       "      <th>EV Network</th>\n",
       "      <th>Latitude</th>\n",
       "      <th>Longitude</th>\n",
       "      <th>...</th>\n",
       "      <th>Open Date</th>\n",
       "      <th>EV Connector Types</th>\n",
       "      <th>Access Code</th>\n",
       "      <th>Facility Type</th>\n",
       "      <th>EV Pricing</th>\n",
       "      <th>EV On-Site Renewable Source</th>\n",
       "      <th>Restricted Access</th>\n",
       "      <th>NPS Unit Name</th>\n",
       "      <th>Maximum Vehicle Class</th>\n",
       "      <th>EV Workplace Charging</th>\n",
       "    </tr>\n",
       "  </thead>\n",
       "  <tbody>\n",
       "    <tr>\n",
       "      <th>0</th>\n",
       "      <td>Walmart 2508 - Boise, ID</td>\n",
       "      <td>8300 W. Overland Rd</td>\n",
       "      <td>24 hours daily</td>\n",
       "      <td>NaN</td>\n",
       "      <td>NaN</td>\n",
       "      <td>NaN</td>\n",
       "      <td>4.0</td>\n",
       "      <td>Electrify America</td>\n",
       "      <td>43.59142</td>\n",
       "      <td>-116.28359</td>\n",
       "      <td>...</td>\n",
       "      <td>2019-04-26</td>\n",
       "      <td>CHADEMO J1772COMBO</td>\n",
       "      <td>public</td>\n",
       "      <td>NaN</td>\n",
       "      <td>NaN</td>\n",
       "      <td>NaN</td>\n",
       "      <td>NaN</td>\n",
       "      <td>NaN</td>\n",
       "      <td>NaN</td>\n",
       "      <td>False</td>\n",
       "    </tr>\n",
       "    <tr>\n",
       "      <th>1</th>\n",
       "      <td>Walmart 2508 - Boise, ID</td>\n",
       "      <td>8300 W. Overland Rd</td>\n",
       "      <td>24 hours daily</td>\n",
       "      <td>NaN</td>\n",
       "      <td>NaN</td>\n",
       "      <td>NaN</td>\n",
       "      <td>4.0</td>\n",
       "      <td>Electrify America</td>\n",
       "      <td>43.59142</td>\n",
       "      <td>-116.28359</td>\n",
       "      <td>...</td>\n",
       "      <td>2019-04-26</td>\n",
       "      <td>CHADEMO J1772COMBO</td>\n",
       "      <td>public</td>\n",
       "      <td>NaN</td>\n",
       "      <td>NaN</td>\n",
       "      <td>NaN</td>\n",
       "      <td>NaN</td>\n",
       "      <td>NaN</td>\n",
       "      <td>NaN</td>\n",
       "      <td>False</td>\n",
       "    </tr>\n",
       "    <tr>\n",
       "      <th>2</th>\n",
       "      <td>Walmart 2508 - Boise, ID</td>\n",
       "      <td>8300 W. Overland Rd</td>\n",
       "      <td>24 hours daily</td>\n",
       "      <td>NaN</td>\n",
       "      <td>NaN</td>\n",
       "      <td>NaN</td>\n",
       "      <td>4.0</td>\n",
       "      <td>Electrify America</td>\n",
       "      <td>43.59142</td>\n",
       "      <td>-116.28359</td>\n",
       "      <td>...</td>\n",
       "      <td>2019-04-26</td>\n",
       "      <td>CHADEMO J1772COMBO</td>\n",
       "      <td>public</td>\n",
       "      <td>NaN</td>\n",
       "      <td>NaN</td>\n",
       "      <td>NaN</td>\n",
       "      <td>NaN</td>\n",
       "      <td>NaN</td>\n",
       "      <td>NaN</td>\n",
       "      <td>False</td>\n",
       "    </tr>\n",
       "    <tr>\n",
       "      <th>3</th>\n",
       "      <td>Walmart 2508 - Boise, ID</td>\n",
       "      <td>8300 W. Overland Rd</td>\n",
       "      <td>24 hours daily</td>\n",
       "      <td>NaN</td>\n",
       "      <td>NaN</td>\n",
       "      <td>NaN</td>\n",
       "      <td>4.0</td>\n",
       "      <td>Electrify America</td>\n",
       "      <td>43.59142</td>\n",
       "      <td>-116.28359</td>\n",
       "      <td>...</td>\n",
       "      <td>2019-04-26</td>\n",
       "      <td>CHADEMO J1772COMBO</td>\n",
       "      <td>public</td>\n",
       "      <td>NaN</td>\n",
       "      <td>NaN</td>\n",
       "      <td>NaN</td>\n",
       "      <td>NaN</td>\n",
       "      <td>NaN</td>\n",
       "      <td>NaN</td>\n",
       "      <td>False</td>\n",
       "    </tr>\n",
       "    <tr>\n",
       "      <th>4</th>\n",
       "      <td>Walmart 2508 - Boise, ID</td>\n",
       "      <td>8300 W. Overland Rd</td>\n",
       "      <td>24 hours daily</td>\n",
       "      <td>NaN</td>\n",
       "      <td>NaN</td>\n",
       "      <td>NaN</td>\n",
       "      <td>4.0</td>\n",
       "      <td>Electrify America</td>\n",
       "      <td>43.59142</td>\n",
       "      <td>-116.28359</td>\n",
       "      <td>...</td>\n",
       "      <td>2019-04-26</td>\n",
       "      <td>CHADEMO J1772COMBO</td>\n",
       "      <td>public</td>\n",
       "      <td>NaN</td>\n",
       "      <td>NaN</td>\n",
       "      <td>NaN</td>\n",
       "      <td>NaN</td>\n",
       "      <td>NaN</td>\n",
       "      <td>NaN</td>\n",
       "      <td>False</td>\n",
       "    </tr>\n",
       "  </tbody>\n",
       "</table>\n",
       "<p>5 rows × 22 columns</p>\n",
       "</div>"
      ],
      "text/plain": [
       "               Station Name       Street Address Access Days Time  \\\n",
       "0  Walmart 2508 - Boise, ID  8300 W. Overland Rd   24 hours daily   \n",
       "1  Walmart 2508 - Boise, ID  8300 W. Overland Rd   24 hours daily   \n",
       "2  Walmart 2508 - Boise, ID  8300 W. Overland Rd   24 hours daily   \n",
       "3  Walmart 2508 - Boise, ID  8300 W. Overland Rd   24 hours daily   \n",
       "4  Walmart 2508 - Boise, ID  8300 W. Overland Rd   24 hours daily   \n",
       "\n",
       "  Cards Accepted  EV Level1 EVSE Num  EV Level2 EVSE Num  EV DC Fast Count  \\\n",
       "0            NaN                 NaN                 NaN               4.0   \n",
       "1            NaN                 NaN                 NaN               4.0   \n",
       "2            NaN                 NaN                 NaN               4.0   \n",
       "3            NaN                 NaN                 NaN               4.0   \n",
       "4            NaN                 NaN                 NaN               4.0   \n",
       "\n",
       "          EV Network  Latitude  Longitude  ...   Open Date  \\\n",
       "0  Electrify America  43.59142 -116.28359  ...  2019-04-26   \n",
       "1  Electrify America  43.59142 -116.28359  ...  2019-04-26   \n",
       "2  Electrify America  43.59142 -116.28359  ...  2019-04-26   \n",
       "3  Electrify America  43.59142 -116.28359  ...  2019-04-26   \n",
       "4  Electrify America  43.59142 -116.28359  ...  2019-04-26   \n",
       "\n",
       "   EV Connector Types Access Code Facility Type EV Pricing  \\\n",
       "0  CHADEMO J1772COMBO      public           NaN        NaN   \n",
       "1  CHADEMO J1772COMBO      public           NaN        NaN   \n",
       "2  CHADEMO J1772COMBO      public           NaN        NaN   \n",
       "3  CHADEMO J1772COMBO      public           NaN        NaN   \n",
       "4  CHADEMO J1772COMBO      public           NaN        NaN   \n",
       "\n",
       "  EV On-Site Renewable Source Restricted Access NPS Unit Name  \\\n",
       "0                         NaN               NaN           NaN   \n",
       "1                         NaN               NaN           NaN   \n",
       "2                         NaN               NaN           NaN   \n",
       "3                         NaN               NaN           NaN   \n",
       "4                         NaN               NaN           NaN   \n",
       "\n",
       "  Maximum Vehicle Class EV Workplace Charging  \n",
       "0                   NaN                 False  \n",
       "1                   NaN                 False  \n",
       "2                   NaN                 False  \n",
       "3                   NaN                 False  \n",
       "4                   NaN                 False  \n",
       "\n",
       "[5 rows x 22 columns]"
      ]
     },
     "execution_count": 54,
     "metadata": {},
     "output_type": "execute_result"
    }
   ],
   "source": [
    "dataset_df.head()"
   ]
  },
  {
   "cell_type": "code",
   "execution_count": 55,
   "metadata": {},
   "outputs": [
    {
     "name": "stdout",
     "output_type": "stream",
     "text": [
      "<class 'pandas.core.frame.DataFrame'>\n",
      "RangeIndex: 35665 entries, 0 to 35664\n",
      "Data columns (total 22 columns):\n",
      " #   Column                       Non-Null Count  Dtype  \n",
      "---  ------                       --------------  -----  \n",
      " 0   Station Name                 35665 non-null  object \n",
      " 1   Street Address               35665 non-null  object \n",
      " 2   Access Days Time             32474 non-null  object \n",
      " 3   Cards Accepted               4622 non-null   object \n",
      " 4   EV Level1 EVSE Num           54 non-null     float64\n",
      " 5   EV Level2 EVSE Num           10772 non-null  float64\n",
      " 6   EV DC Fast Count             27180 non-null  float64\n",
      " 7   EV Network                   35665 non-null  object \n",
      " 8   Latitude                     35665 non-null  float64\n",
      " 9   Longitude                    35665 non-null  float64\n",
      " 10  Date Last Confirmed          35648 non-null  object \n",
      " 11  Owner Type Code              19239 non-null  object \n",
      " 12  Open Date                    35619 non-null  object \n",
      " 13  EV Connector Types           35665 non-null  object \n",
      " 14  Access Code                  35665 non-null  object \n",
      " 15  Facility Type                11968 non-null  object \n",
      " 16  EV Pricing                   4615 non-null   object \n",
      " 17  EV On-Site Renewable Source  71 non-null     object \n",
      " 18  Restricted Access            5749 non-null   object \n",
      " 19  NPS Unit Name                26 non-null     object \n",
      " 20  Maximum Vehicle Class        5765 non-null   object \n",
      " 21  EV Workplace Charging        35665 non-null  bool   \n",
      "dtypes: bool(1), float64(5), object(16)\n",
      "memory usage: 5.7+ MB\n"
     ]
    }
   ],
   "source": [
    "dataset_df.info()"
   ]
  },
  {
   "cell_type": "code",
   "execution_count": 56,
   "metadata": {},
   "outputs": [
    {
     "data": {
      "text/html": [
       "<div>\n",
       "<style scoped>\n",
       "    .dataframe tbody tr th:only-of-type {\n",
       "        vertical-align: middle;\n",
       "    }\n",
       "\n",
       "    .dataframe tbody tr th {\n",
       "        vertical-align: top;\n",
       "    }\n",
       "\n",
       "    .dataframe thead th {\n",
       "        text-align: right;\n",
       "    }\n",
       "</style>\n",
       "<table border=\"1\" class=\"dataframe\">\n",
       "  <thead>\n",
       "    <tr style=\"text-align: right;\">\n",
       "      <th></th>\n",
       "      <th>EV Level1 EVSE Num</th>\n",
       "      <th>EV Level2 EVSE Num</th>\n",
       "      <th>EV DC Fast Count</th>\n",
       "      <th>Latitude</th>\n",
       "      <th>Longitude</th>\n",
       "    </tr>\n",
       "  </thead>\n",
       "  <tbody>\n",
       "    <tr>\n",
       "      <th>count</th>\n",
       "      <td>54.000000</td>\n",
       "      <td>10772.000000</td>\n",
       "      <td>27180.000000</td>\n",
       "      <td>35665.000000</td>\n",
       "      <td>35665.000000</td>\n",
       "    </tr>\n",
       "    <tr>\n",
       "      <th>mean</th>\n",
       "      <td>1.111111</td>\n",
       "      <td>2.320646</td>\n",
       "      <td>6.862951</td>\n",
       "      <td>37.813139</td>\n",
       "      <td>-94.055022</td>\n",
       "    </tr>\n",
       "    <tr>\n",
       "      <th>std</th>\n",
       "      <td>0.571878</td>\n",
       "      <td>1.800373</td>\n",
       "      <td>4.978790</td>\n",
       "      <td>5.151598</td>\n",
       "      <td>16.817839</td>\n",
       "    </tr>\n",
       "    <tr>\n",
       "      <th>min</th>\n",
       "      <td>1.000000</td>\n",
       "      <td>1.000000</td>\n",
       "      <td>1.000000</td>\n",
       "      <td>18.111876</td>\n",
       "      <td>-159.469420</td>\n",
       "    </tr>\n",
       "    <tr>\n",
       "      <th>25%</th>\n",
       "      <td>1.000000</td>\n",
       "      <td>1.000000</td>\n",
       "      <td>4.000000</td>\n",
       "      <td>34.173287</td>\n",
       "      <td>-107.876620</td>\n",
       "    </tr>\n",
       "    <tr>\n",
       "      <th>50%</th>\n",
       "      <td>1.000000</td>\n",
       "      <td>2.000000</td>\n",
       "      <td>8.000000</td>\n",
       "      <td>38.512443</td>\n",
       "      <td>-88.689490</td>\n",
       "    </tr>\n",
       "    <tr>\n",
       "      <th>75%</th>\n",
       "      <td>1.000000</td>\n",
       "      <td>2.000000</td>\n",
       "      <td>8.000000</td>\n",
       "      <td>41.365163</td>\n",
       "      <td>-80.599878</td>\n",
       "    </tr>\n",
       "    <tr>\n",
       "      <th>max</th>\n",
       "      <td>4.000000</td>\n",
       "      <td>24.000000</td>\n",
       "      <td>51.000000</td>\n",
       "      <td>61.573564</td>\n",
       "      <td>-65.821744</td>\n",
       "    </tr>\n",
       "  </tbody>\n",
       "</table>\n",
       "</div>"
      ],
      "text/plain": [
       "       EV Level1 EVSE Num  EV Level2 EVSE Num  EV DC Fast Count      Latitude  \\\n",
       "count           54.000000        10772.000000      27180.000000  35665.000000   \n",
       "mean             1.111111            2.320646          6.862951     37.813139   \n",
       "std              0.571878            1.800373          4.978790      5.151598   \n",
       "min              1.000000            1.000000          1.000000     18.111876   \n",
       "25%              1.000000            1.000000          4.000000     34.173287   \n",
       "50%              1.000000            2.000000          8.000000     38.512443   \n",
       "75%              1.000000            2.000000          8.000000     41.365163   \n",
       "max              4.000000           24.000000         51.000000     61.573564   \n",
       "\n",
       "          Longitude  \n",
       "count  35665.000000  \n",
       "mean     -94.055022  \n",
       "std       16.817839  \n",
       "min     -159.469420  \n",
       "25%     -107.876620  \n",
       "50%      -88.689490  \n",
       "75%      -80.599878  \n",
       "max      -65.821744  "
      ]
     },
     "execution_count": 56,
     "metadata": {},
     "output_type": "execute_result"
    }
   ],
   "source": [
    "dataset_df.describe()"
   ]
  },
  {
   "cell_type": "markdown",
   "metadata": {},
   "source": [
    "## 3. Feature Engineering"
   ]
  },
  {
   "cell_type": "code",
   "execution_count": 57,
   "metadata": {},
   "outputs": [],
   "source": [
    "num_attribs = dataset_df.select_dtypes('number').columns.to_list()\n",
    "cat_attribs = dataset_df.select_dtypes('object').columns.to_list()"
   ]
  },
  {
   "cell_type": "code",
   "execution_count": 58,
   "metadata": {},
   "outputs": [
    {
     "data": {
      "text/plain": [
       "['EV Level1 EVSE Num',\n",
       " 'EV Level2 EVSE Num',\n",
       " 'EV DC Fast Count',\n",
       " 'Latitude',\n",
       " 'Longitude']"
      ]
     },
     "execution_count": 58,
     "metadata": {},
     "output_type": "execute_result"
    }
   ],
   "source": [
    "num_attribs"
   ]
  },
  {
   "cell_type": "code",
   "execution_count": 59,
   "metadata": {},
   "outputs": [
    {
     "data": {
      "text/plain": [
       "['Station Name',\n",
       " 'Street Address',\n",
       " 'Access Days Time',\n",
       " 'Cards Accepted',\n",
       " 'EV Network',\n",
       " 'Date Last Confirmed',\n",
       " 'Owner Type Code',\n",
       " 'Open Date',\n",
       " 'EV Connector Types',\n",
       " 'Access Code',\n",
       " 'Facility Type',\n",
       " 'EV Pricing',\n",
       " 'EV On-Site Renewable Source',\n",
       " 'Restricted Access',\n",
       " 'NPS Unit Name',\n",
       " 'Maximum Vehicle Class']"
      ]
     },
     "execution_count": 59,
     "metadata": {},
     "output_type": "execute_result"
    }
   ],
   "source": [
    "cat_attribs"
   ]
  },
  {
   "cell_type": "code",
   "execution_count": 60,
   "metadata": {},
   "outputs": [],
   "source": [
    "dataset_df['Public_Bool'] = dataset_df['Access Code'].apply(lambda x: 1 if x == 'public' else 0)\n",
    "dataset_df.drop(['Access Code'], axis=1, inplace=True)"
   ]
  },
  {
   "cell_type": "code",
   "execution_count": 61,
   "metadata": {},
   "outputs": [
    {
     "data": {
      "text/plain": [
       "Cards Accepted\n",
       "A D Debit M V                                         4434\n",
       "CREDIT                                                  54\n",
       "A ACCOUNT_BALANCE D M V                                 40\n",
       "Cash Checks CREDIT                                      19\n",
       "CREDIT Debit                                            18\n",
       "A ANDROID_PAY APPLE_PAY CREDIT D M V                    12\n",
       "A CREDIT D M V                                          10\n",
       "A CREDIT D Debit M V                                     8\n",
       "A D M V                                                  7\n",
       "ANDROID_PAY APPLE_PAY Debit M V                          5\n",
       "A ANDROID_PAY APPLE_PAY CREDIT Debit M V                 4\n",
       "A ACCOUNT_BALANCE CREDIT D Debit M V                     3\n",
       "A Cash D M V                                             2\n",
       "Checks                                                   2\n",
       "A CREDIT D Debit M V Voyager Wright_Exp                  2\n",
       "A ACCOUNT_BALANCE CREDIT D M V                           1\n",
       "ACCOUNT_BALANCE ANDROID_PAY APPLE_PAY CREDIT Debit       1\n",
       "Name: count, dtype: int64"
      ]
     },
     "execution_count": 61,
     "metadata": {},
     "output_type": "execute_result"
    }
   ],
   "source": [
    "dataset_df['Cards Accepted'].value_counts()"
   ]
  },
  {
   "cell_type": "code",
   "execution_count": 62,
   "metadata": {},
   "outputs": [
    {
     "data": {
      "text/plain": [
       "18"
      ]
     },
     "execution_count": 62,
     "metadata": {},
     "output_type": "execute_result"
    }
   ],
   "source": [
    "len(dataset_df['Cards Accepted'].unique())"
   ]
  },
  {
   "cell_type": "code",
   "execution_count": 63,
   "metadata": {},
   "outputs": [],
   "source": [
    "card_list = ['A', 'CREDIT', 'Debit', 'D', 'M', 'V', 'Visa',\n",
    "             'Cash', 'Checks', 'ACCOUNT_BALANCE', 'ALLIANCE',\n",
    "             'ANDROID_PAY', 'APPLE_PAY']"
   ]
  },
  {
   "cell_type": "code",
   "execution_count": 64,
   "metadata": {},
   "outputs": [],
   "source": [
    "for card in card_list:\n",
    "    dataset_df['Card_' + card] = dataset_df['Cards Accepted'].apply(lambda x: 1 if card in str(x) else 0)\n",
    "dataset_df.drop('Cards Accepted', axis=1, inplace=True)\n",
    "    "
   ]
  },
  {
   "cell_type": "code",
   "execution_count": 65,
   "metadata": {},
   "outputs": [
    {
     "data": {
      "text/plain": [
       "<Axes: xlabel='EV Level1 EVSE Num', ylabel='Count'>"
      ]
     },
     "execution_count": 65,
     "metadata": {},
     "output_type": "execute_result"
    },
    {
     "data": {
      "image/png": "[encoded data removed]",
      "text/plain": [
       "<Figure size 640x480 with 1 Axes>"
      ]
     },
     "metadata": {},
     "output_type": "display_data"
    }
   ],
   "source": [
    "sns.histplot(dataset_df['EV Level1 EVSE Num'])"
   ]
  },
  {
   "cell_type": "code",
   "execution_count": 66,
   "metadata": {},
   "outputs": [],
   "source": [
    "dataset_df['EV Level1 EVSE Num'].fillna(0, inplace=True)"
   ]
  },
  {
   "cell_type": "code",
   "execution_count": 67,
   "metadata": {},
   "outputs": [
    {
     "data": {
      "text/plain": [
       "<Axes: xlabel='EV Level2 EVSE Num', ylabel='Count'>"
      ]
     },
     "execution_count": 67,
     "metadata": {},
     "output_type": "execute_result"
    },
    {
     "data": {
      "image/png": "[encoded data removed]",
      "text/plain": [
       "<Figure size 640x480 with 1 Axes>"
      ]
     },
     "metadata": {},
     "output_type": "display_data"
    }
   ],
   "source": [
    "sns.histplot(dataset_df['EV Level2 EVSE Num'])"
   ]
  },
  {
   "cell_type": "code",
   "execution_count": 68,
   "metadata": {},
   "outputs": [],
   "source": [
    "dataset_df['EV Level2 EVSE Num'].fillna(0, inplace=True)"
   ]
  },
  {
   "cell_type": "code",
   "execution_count": 69,
   "metadata": {},
   "outputs": [
    {
     "data": {
      "text/plain": [
       "<Axes: xlabel='EV DC Fast Count', ylabel='Count'>"
      ]
     },
     "execution_count": 69,
     "metadata": {},
     "output_type": "execute_result"
    },
    {
     "data": {
      "image/png": "[encoded data removed]",
      "text/plain": [
       "<Figure size 640x480 with 1 Axes>"
      ]
     },
     "metadata": {},
     "output_type": "display_data"
    }
   ],
   "source": [
    "sns.histplot(dataset_df['EV DC Fast Count'])"
   ]
  },
  {
   "cell_type": "code",
   "execution_count": 70,
   "metadata": {},
   "outputs": [],
   "source": [
    "dataset_df['EV DC Fast Count'].fillna(0, inplace=True)"
   ]
  },
  {
   "cell_type": "code",
   "execution_count": 71,
   "metadata": {},
   "outputs": [],
   "source": [
    "ev_networks_list = dataset_df['EV Network'].value_counts().index.to_list()[:15]\n",
    "ev_networks_list = ['ChargePoint Network',\n",
    "                    'Non-Networked',\n",
    "                    'Blink Network',\n",
    "                    'Tesla',\n",
    "                    'Volta',\n",
    "                    'EV Connect',\n",
    "                    'SHELL_RECHARGE',\n",
    "                    'eVgo Network',\n",
    "                    'Electrify America',\n",
    "                    'AMPUP',\n",
    "                    'FLO',\n",
    "                    'RIVIAN',\n",
    "                    'LIVINGSTON']"
   ]
  },
  {
   "cell_type": "code",
   "execution_count": 72,
   "metadata": {},
   "outputs": [],
   "source": [
    "for network in ev_networks_list:\n",
    "    dataset_df['Network_' + network] = dataset_df['EV Network'].apply(lambda x: 1 if network in str(x) else 0)\n",
    "dataset_df.drop('EV Network', axis=1, inplace=True)\n",
    "    "
   ]
  },
  {
   "cell_type": "code",
   "execution_count": 73,
   "metadata": {},
   "outputs": [
    {
     "data": {
      "text/plain": [
       "EV Pricing\n",
       "Free                                                                                                         3988\n",
       "FREE                                                                                                          102\n",
       "$1.00/Hr Parking Fee                                                                                           46\n",
       "Level 2: $4 per session or $19.99 for monthly plan, DC Fast: $7.50 per session or $19.99 for monthly plan      34\n",
       "$2.00/Hr Parking Fee                                                                                           30\n",
       "$0.15 per kWh                                                                                                  29\n",
       "DC Fast: $7.50 per session or $19.99 for monthly plan, Level 2: $4 per session or $19.99 for monthly plan      24\n",
       "Suggested donation of $3 per hour                                                                              21\n",
       "$0.39 per kWh                                                                                                  20\n",
       "Free for guests; $5 per hour for non-guests                                                                    19\n",
       "$0.30 per kWh                                                                                                  17\n",
       "Free Level 2 charging; DCFC 2.50 per session and $0.20 per minute                                              16\n",
       "$0.00-$2.00/Hr Variable Parking Fee, $0.12/kWh Energy Fee                                                      15\n",
       "DC: $5 initiation fee + $0.30 per minute; L2: Free                                                             14\n",
       "$2 per hour                                                                                                    13\n",
       "$0.35 per kWh                                                                                                  13\n",
       "Free; parking fee                                                                                              12\n",
       "Free; paid lot                                                                                                 12\n",
       "Free for guest use                                                                                             10\n",
       "$7 per session                                                                                                  8\n",
       "Name: count, dtype: int64"
      ]
     },
     "execution_count": 73,
     "metadata": {},
     "output_type": "execute_result"
    }
   ],
   "source": [
    "dataset_df['EV Pricing'].value_counts()[:20]"
   ]
  },
  {
   "cell_type": "code",
   "execution_count": 74,
   "metadata": {},
   "outputs": [],
   "source": [
    "def get_electric_price(x):\n",
    "    x = str(x)\n",
    "    if x.lower() == 'free':\n",
    "        return 0\n",
    "    # Extract hourly rate\n",
    "    rate = re.findall(r'(\\$\\d+\\.?\\d*)-(\\$\\d+\\.?\\d*)/kWh \\w+ Energy Fee', x)\n",
    "    if not rate:\n",
    "        rate = re.findall(r'(\\$\\d+\\.?\\d*)/kWh Energy Fee', x)\n",
    "    if not rate:\n",
    "        rate = re.findall(r'(\\$\\d+\\.?\\d*) per kWh', x)\n",
    "    # Convert to float if rate is found else return None\n",
    "    rate = re.findall(r'\\d+\\.?\\d*', str(rate))\n",
    "    for i in range(len(rate)):\n",
    "        rate[i] = float(rate[i])\n",
    "    if rate:\n",
    "        return np.mean(rate)\n",
    "    else:\n",
    "        return -1"
   ]
  },
  {
   "cell_type": "code",
   "execution_count": 75,
   "metadata": {},
   "outputs": [],
   "source": [
    "def get_park_price(x):\n",
    "    x = str(x)\n",
    "    if str(x).lower() == 'free':\n",
    "        return 0\n",
    "    # Extract hourly rate\n",
    "    hourly_rate = re.findall(r'(\\$\\d+\\.?\\d*)-(\\$\\d+\\.?\\d*)/Hr \\w+ Parking Fee', x)\n",
    "    if not hourly_rate:\n",
    "        hourly_rate = re.findall(r'(\\$\\d+\\.?\\d*)/Hr Parking Fee', x)\n",
    "    # Convert to float if hourly_rate is found else return None\n",
    "    hourly_rate = re.findall(r'\\d+\\.?\\d*', str(hourly_rate))\n",
    "    for i in range(len(hourly_rate)):\n",
    "        hourly_rate[i] = float(hourly_rate[i])\n",
    "    if hourly_rate:\n",
    "        return np.mean(hourly_rate)\n",
    "    else:\n",
    "        return -1\n",
    "                                                                 "
   ]
  },
  {
   "cell_type": "code",
   "execution_count": 76,
   "metadata": {},
   "outputs": [],
   "source": [
    "dataset_df['park_price'] = dataset_df['EV Pricing'].apply(get_park_price)\n",
    "dataset_df['electric_price'] = dataset_df['EV Pricing'].apply(get_electric_price)\n",
    "dataset_df.drop('EV Pricing', axis=1, inplace=True)"
   ]
  },
  {
   "cell_type": "code",
   "execution_count": 77,
   "metadata": {},
   "outputs": [],
   "source": [
    "dataset_df.drop(['Station Name', 'Street Address', 'Access Days Time', \n",
    "                 'Date Last Confirmed', 'Open Date', 'NPS Unit Name'], axis=1, inplace=True)"
   ]
  },
  {
   "cell_type": "code",
   "execution_count": 78,
   "metadata": {},
   "outputs": [],
   "source": [
    "dataset_dummies = pd.get_dummies(dataset_df['Owner Type Code'], prefix='Owner_Type')\n",
    "dataset_df = pd.concat([dataset_df, dataset_dummies], axis=1)\n",
    "dataset_df.drop('Owner Type Code', axis=1, inplace=True)"
   ]
  },
  {
   "cell_type": "code",
   "execution_count": 79,
   "metadata": {},
   "outputs": [
    {
     "data": {
      "text/plain": [
       "EV Connector Types\n",
       "TESLA                       15684\n",
       "CHADEMO J1772COMBO           9849\n",
       "J1772                        5573\n",
       "CHADEMO J1772 J1772COMBO     2009\n",
       "J1772 TESLA                  1727\n",
       "Name: count, dtype: int64"
      ]
     },
     "execution_count": 79,
     "metadata": {},
     "output_type": "execute_result"
    }
   ],
   "source": [
    "dataset_df['EV Connector Types'].value_counts().head()"
   ]
  },
  {
   "cell_type": "code",
   "execution_count": 80,
   "metadata": {},
   "outputs": [],
   "source": [
    "connector_list = ['NEMA1450', 'NEMA515', 'NEMA520', \n",
    "                  'J1772', 'J1772COMBO', 'CHADEMO', 'TESLA']\n",
    "for connector in connector_list:\n",
    "    dataset_df['Connector_' + connector] = dataset_df['EV Connector Types'].apply(lambda x: 1 if connector in str(x) else 0)\n",
    "dataset_df.drop('EV Connector Types', axis=1, inplace=True)"
   ]
  },
  {
   "cell_type": "code",
   "execution_count": 81,
   "metadata": {},
   "outputs": [
    {
     "data": {
      "text/plain": [
       "EV On-Site Renewable Source\n",
       "SOLAR    57\n",
       "HYDRO    12\n",
       "NONE      2\n",
       "Name: count, dtype: int64"
      ]
     },
     "execution_count": 81,
     "metadata": {},
     "output_type": "execute_result"
    }
   ],
   "source": [
    "dataset_df['EV On-Site Renewable Source'].value_counts()"
   ]
  },
  {
   "cell_type": "code",
   "execution_count": 82,
   "metadata": {},
   "outputs": [],
   "source": [
    "dataset_dummies = pd.get_dummies(dataset_df['EV On-Site Renewable Source'], prefix='Renewable_Source')\n",
    "dataset_df = pd.concat([dataset_df, dataset_dummies], axis=1)\n",
    "dataset_df.drop('EV On-Site Renewable Source', axis=1, inplace=True)"
   ]
  },
  {
   "cell_type": "code",
   "execution_count": 83,
   "metadata": {},
   "outputs": [
    {
     "data": {
      "text/plain": [
       "Maximum Vehicle Class\n",
       "LD    5697\n",
       "MD      54\n",
       "HD      14\n",
       "Name: count, dtype: int64"
      ]
     },
     "execution_count": 83,
     "metadata": {},
     "output_type": "execute_result"
    }
   ],
   "source": [
    "dataset_df['Maximum Vehicle Class'].value_counts()"
   ]
  },
  {
   "cell_type": "code",
   "execution_count": 84,
   "metadata": {},
   "outputs": [],
   "source": [
    "def map(x):\n",
    "    if x == 'LD':\n",
    "        return 1\n",
    "    elif x == 'MD':\n",
    "        return 2\n",
    "    elif x == 'HD':\n",
    "        return 3\n",
    "    else:\n",
    "        return 0\n",
    "\n",
    "dataset_df['Maximum_Vehicle_Class_Num'] = dataset_df['Maximum Vehicle Class'].apply(map)\n",
    "dataset_df.drop('Maximum Vehicle Class', axis=1, inplace=True)"
   ]
  },
  {
   "cell_type": "code",
   "execution_count": 85,
   "metadata": {},
   "outputs": [
    {
     "data": {
      "text/plain": [
       "['SHOPPING_CENTER',\n",
       " 'HOTEL',\n",
       " 'GAS_STATION',\n",
       " 'GROCERY',\n",
       " 'CONVENIENCE_STORE',\n",
       " 'RESTAURANT',\n",
       " 'PARKING_LOT',\n",
       " 'CAR_DEALER',\n",
       " 'SHOPPING_MALL',\n",
       " 'TRAVEL_CENTER']"
      ]
     },
     "execution_count": 85,
     "metadata": {},
     "output_type": "execute_result"
    }
   ],
   "source": [
    "facilities = dataset_df['Facility Type'].value_counts()[:10].index.to_list()\n",
    "facilities"
   ]
  },
  {
   "cell_type": "code",
   "execution_count": 86,
   "metadata": {},
   "outputs": [],
   "source": [
    "for facility in facilities:\n",
    "    dataset_df['Facility_' + facility] = dataset_df['Facility Type'].apply(lambda x: 1 if facility in str(x) else 0)"
   ]
  },
  {
   "cell_type": "code",
   "execution_count": 87,
   "metadata": {},
   "outputs": [],
   "source": [
    "dataset_df.drop('Facility Type', axis=1, inplace=True)"
   ]
  },
  {
   "cell_type": "code",
   "execution_count": 88,
   "metadata": {},
   "outputs": [],
   "source": [
    "dataset_df['Restricted Access'] = dataset_df['Restricted Access'].apply(lambda x: 1 if x == 'True' else 0)"
   ]
  },
  {
   "cell_type": "code",
   "execution_count": 89,
   "metadata": {},
   "outputs": [],
   "source": [
    "dataset_df['EV Workplace Charging'] = dataset_df['EV Workplace Charging'].apply(lambda x: 1 if x == 'True' else 0)"
   ]
  },
  {
   "cell_type": "code",
   "execution_count": 90,
   "metadata": {},
   "outputs": [],
   "source": [
    "dataset_df.to_csv('data/processed_nrel.csv', index=False)"
   ]
  }
 ],
 "metadata": {
  "kernelspec": {
   "display_name": "proj650",
   "language": "python",
   "name": "python3"
  },
  "language_info": {
   "codemirror_mode": {
    "name": "ipython",
    "version": 3
   },
   "file_extension": ".py",
   "mimetype": "text/x-python",
   "name": "python",
   "nbconvert_exporter": "python",
   "pygments_lexer": "ipython3",
   "version": "3.11.0rc1"
  }
 },
 "nbformat": 4,
 "nbformat_minor": 2
}
